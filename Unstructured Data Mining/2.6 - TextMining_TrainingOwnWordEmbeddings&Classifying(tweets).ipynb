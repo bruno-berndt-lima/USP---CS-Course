{
  "nbformat": 4,
  "nbformat_minor": 0,
  "metadata": {
    "colab": {
      "provenance": []
    },
    "kernelspec": {
      "name": "python3",
      "display_name": "Python 3"
    }
  },
  "cells": [
    {
      "cell_type": "markdown",
      "metadata": {
        "id": "YkAXlXWFpDgK"
      },
      "source": [
        "# Carregando base de textos (Twitter)"
      ]
    },
    {
      "cell_type": "code",
      "metadata": {
        "id": "9ZLIu1LipFwm"
      },
      "source": [
        "# https://www.kaggle.com/datatattle/covid-19-nlp-text-classification\n",
        "!gdown --id 1Hd0ytKZrR3s22FheUJt4EZOpZ4eWyTrN\n",
        "!unzip tweets_corona_virus.zip"
      ],
      "execution_count": null,
      "outputs": []
    },
    {
      "cell_type": "code",
      "metadata": {
        "id": "qTdraMiMpTqi"
      },
      "source": [
        "import pandas as pd\n",
        "dataset = pd.read_csv('Corona_NLP_train.csv',encoding='iso8859')\n",
        "dataset"
      ],
      "execution_count": null,
      "outputs": []
    },
    {
      "cell_type": "code",
      "source": [
        "dataset"
      ],
      "metadata": {
        "colab": {
          "base_uri": "https://localhost:8080/",
          "height": 597
        },
        "id": "1BGretxrNmIZ",
        "outputId": "5fa122d7-0d19-479b-b23c-f1f60cd2a8bd"
      },
      "execution_count": null,
      "outputs": [
        {
          "output_type": "execute_result",
          "data": {
            "text/plain": [
              "       UserName  ScreenName                      Location     TweetAt  \\\n",
              "0          3799       48751                        London  16-03-2020   \n",
              "1          3800       48752                            UK  16-03-2020   \n",
              "2          3801       48753                     Vagabonds  16-03-2020   \n",
              "3          3802       48754                           NaN  16-03-2020   \n",
              "4          3803       48755                           NaN  16-03-2020   \n",
              "...         ...         ...                           ...         ...   \n",
              "41152     44951       89903  Wellington City, New Zealand  14-04-2020   \n",
              "41153     44952       89904                           NaN  14-04-2020   \n",
              "41154     44953       89905                           NaN  14-04-2020   \n",
              "41155     44954       89906                           NaN  14-04-2020   \n",
              "41156     44955       89907  i love you so much || he/him  14-04-2020   \n",
              "\n",
              "                                           OriginalTweet           Sentiment  \n",
              "0      @MeNyrbie @Phil_Gahan @Chrisitv https://t.co/i...             Neutral  \n",
              "1      advice Talk to your neighbours family to excha...            Positive  \n",
              "2      Coronavirus Australia: Woolworths to give elde...            Positive  \n",
              "3      My food stock is not the only one which is emp...            Positive  \n",
              "4      Me, ready to go at supermarket during the #COV...  Extremely Negative  \n",
              "...                                                  ...                 ...  \n",
              "41152  Airline pilots offering to stock supermarket s...             Neutral  \n",
              "41153  Response to complaint not provided citing COVI...  Extremely Negative  \n",
              "41154  You know itÂs getting tough when @KameronWild...            Positive  \n",
              "41155  Is it wrong that the smell of hand sanitizer i...             Neutral  \n",
              "41156  @TartiiCat Well new/used Rift S are going for ...            Negative  \n",
              "\n",
              "[41157 rows x 6 columns]"
            ],
            "text/html": [
              "\n",
              "  <div id=\"df-28eeafd7-0c88-4df8-a72d-ae2fc2611d23\" class=\"colab-df-container\">\n",
              "    <div>\n",
              "<style scoped>\n",
              "    .dataframe tbody tr th:only-of-type {\n",
              "        vertical-align: middle;\n",
              "    }\n",
              "\n",
              "    .dataframe tbody tr th {\n",
              "        vertical-align: top;\n",
              "    }\n",
              "\n",
              "    .dataframe thead th {\n",
              "        text-align: right;\n",
              "    }\n",
              "</style>\n",
              "<table border=\"1\" class=\"dataframe\">\n",
              "  <thead>\n",
              "    <tr style=\"text-align: right;\">\n",
              "      <th></th>\n",
              "      <th>UserName</th>\n",
              "      <th>ScreenName</th>\n",
              "      <th>Location</th>\n",
              "      <th>TweetAt</th>\n",
              "      <th>OriginalTweet</th>\n",
              "      <th>Sentiment</th>\n",
              "    </tr>\n",
              "  </thead>\n",
              "  <tbody>\n",
              "    <tr>\n",
              "      <th>0</th>\n",
              "      <td>3799</td>\n",
              "      <td>48751</td>\n",
              "      <td>London</td>\n",
              "      <td>16-03-2020</td>\n",
              "      <td>@MeNyrbie @Phil_Gahan @Chrisitv https://t.co/i...</td>\n",
              "      <td>Neutral</td>\n",
              "    </tr>\n",
              "    <tr>\n",
              "      <th>1</th>\n",
              "      <td>3800</td>\n",
              "      <td>48752</td>\n",
              "      <td>UK</td>\n",
              "      <td>16-03-2020</td>\n",
              "      <td>advice Talk to your neighbours family to excha...</td>\n",
              "      <td>Positive</td>\n",
              "    </tr>\n",
              "    <tr>\n",
              "      <th>2</th>\n",
              "      <td>3801</td>\n",
              "      <td>48753</td>\n",
              "      <td>Vagabonds</td>\n",
              "      <td>16-03-2020</td>\n",
              "      <td>Coronavirus Australia: Woolworths to give elde...</td>\n",
              "      <td>Positive</td>\n",
              "    </tr>\n",
              "    <tr>\n",
              "      <th>3</th>\n",
              "      <td>3802</td>\n",
              "      <td>48754</td>\n",
              "      <td>NaN</td>\n",
              "      <td>16-03-2020</td>\n",
              "      <td>My food stock is not the only one which is emp...</td>\n",
              "      <td>Positive</td>\n",
              "    </tr>\n",
              "    <tr>\n",
              "      <th>4</th>\n",
              "      <td>3803</td>\n",
              "      <td>48755</td>\n",
              "      <td>NaN</td>\n",
              "      <td>16-03-2020</td>\n",
              "      <td>Me, ready to go at supermarket during the #COV...</td>\n",
              "      <td>Extremely Negative</td>\n",
              "    </tr>\n",
              "    <tr>\n",
              "      <th>...</th>\n",
              "      <td>...</td>\n",
              "      <td>...</td>\n",
              "      <td>...</td>\n",
              "      <td>...</td>\n",
              "      <td>...</td>\n",
              "      <td>...</td>\n",
              "    </tr>\n",
              "    <tr>\n",
              "      <th>41152</th>\n",
              "      <td>44951</td>\n",
              "      <td>89903</td>\n",
              "      <td>Wellington City, New Zealand</td>\n",
              "      <td>14-04-2020</td>\n",
              "      <td>Airline pilots offering to stock supermarket s...</td>\n",
              "      <td>Neutral</td>\n",
              "    </tr>\n",
              "    <tr>\n",
              "      <th>41153</th>\n",
              "      <td>44952</td>\n",
              "      <td>89904</td>\n",
              "      <td>NaN</td>\n",
              "      <td>14-04-2020</td>\n",
              "      <td>Response to complaint not provided citing COVI...</td>\n",
              "      <td>Extremely Negative</td>\n",
              "    </tr>\n",
              "    <tr>\n",
              "      <th>41154</th>\n",
              "      <td>44953</td>\n",
              "      <td>89905</td>\n",
              "      <td>NaN</td>\n",
              "      <td>14-04-2020</td>\n",
              "      <td>You know itÂs getting tough when @KameronWild...</td>\n",
              "      <td>Positive</td>\n",
              "    </tr>\n",
              "    <tr>\n",
              "      <th>41155</th>\n",
              "      <td>44954</td>\n",
              "      <td>89906</td>\n",
              "      <td>NaN</td>\n",
              "      <td>14-04-2020</td>\n",
              "      <td>Is it wrong that the smell of hand sanitizer i...</td>\n",
              "      <td>Neutral</td>\n",
              "    </tr>\n",
              "    <tr>\n",
              "      <th>41156</th>\n",
              "      <td>44955</td>\n",
              "      <td>89907</td>\n",
              "      <td>i love you so much || he/him</td>\n",
              "      <td>14-04-2020</td>\n",
              "      <td>@TartiiCat Well new/used Rift S are going for ...</td>\n",
              "      <td>Negative</td>\n",
              "    </tr>\n",
              "  </tbody>\n",
              "</table>\n",
              "<p>41157 rows × 6 columns</p>\n",
              "</div>\n",
              "    <div class=\"colab-df-buttons\">\n",
              "\n",
              "  <div class=\"colab-df-container\">\n",
              "    <button class=\"colab-df-convert\" onclick=\"convertToInteractive('df-28eeafd7-0c88-4df8-a72d-ae2fc2611d23')\"\n",
              "            title=\"Convert this dataframe to an interactive table.\"\n",
              "            style=\"display:none;\">\n",
              "\n",
              "  <svg xmlns=\"http://www.w3.org/2000/svg\" height=\"24px\" viewBox=\"0 -960 960 960\">\n",
              "    <path d=\"M120-120v-720h720v720H120Zm60-500h600v-160H180v160Zm220 220h160v-160H400v160Zm0 220h160v-160H400v160ZM180-400h160v-160H180v160Zm440 0h160v-160H620v160ZM180-180h160v-160H180v160Zm440 0h160v-160H620v160Z\"/>\n",
              "  </svg>\n",
              "    </button>\n",
              "\n",
              "  <style>\n",
              "    .colab-df-container {\n",
              "      display:flex;\n",
              "      gap: 12px;\n",
              "    }\n",
              "\n",
              "    .colab-df-convert {\n",
              "      background-color: #E8F0FE;\n",
              "      border: none;\n",
              "      border-radius: 50%;\n",
              "      cursor: pointer;\n",
              "      display: none;\n",
              "      fill: #1967D2;\n",
              "      height: 32px;\n",
              "      padding: 0 0 0 0;\n",
              "      width: 32px;\n",
              "    }\n",
              "\n",
              "    .colab-df-convert:hover {\n",
              "      background-color: #E2EBFA;\n",
              "      box-shadow: 0px 1px 2px rgba(60, 64, 67, 0.3), 0px 1px 3px 1px rgba(60, 64, 67, 0.15);\n",
              "      fill: #174EA6;\n",
              "    }\n",
              "\n",
              "    .colab-df-buttons div {\n",
              "      margin-bottom: 4px;\n",
              "    }\n",
              "\n",
              "    [theme=dark] .colab-df-convert {\n",
              "      background-color: #3B4455;\n",
              "      fill: #D2E3FC;\n",
              "    }\n",
              "\n",
              "    [theme=dark] .colab-df-convert:hover {\n",
              "      background-color: #434B5C;\n",
              "      box-shadow: 0px 1px 3px 1px rgba(0, 0, 0, 0.15);\n",
              "      filter: drop-shadow(0px 1px 2px rgba(0, 0, 0, 0.3));\n",
              "      fill: #FFFFFF;\n",
              "    }\n",
              "  </style>\n",
              "\n",
              "    <script>\n",
              "      const buttonEl =\n",
              "        document.querySelector('#df-28eeafd7-0c88-4df8-a72d-ae2fc2611d23 button.colab-df-convert');\n",
              "      buttonEl.style.display =\n",
              "        google.colab.kernel.accessAllowed ? 'block' : 'none';\n",
              "\n",
              "      async function convertToInteractive(key) {\n",
              "        const element = document.querySelector('#df-28eeafd7-0c88-4df8-a72d-ae2fc2611d23');\n",
              "        const dataTable =\n",
              "          await google.colab.kernel.invokeFunction('convertToInteractive',\n",
              "                                                    [key], {});\n",
              "        if (!dataTable) return;\n",
              "\n",
              "        const docLinkHtml = 'Like what you see? Visit the ' +\n",
              "          '<a target=\"_blank\" href=https://colab.research.google.com/notebooks/data_table.ipynb>data table notebook</a>'\n",
              "          + ' to learn more about interactive tables.';\n",
              "        element.innerHTML = '';\n",
              "        dataTable['output_type'] = 'display_data';\n",
              "        await google.colab.output.renderOutput(dataTable, element);\n",
              "        const docLink = document.createElement('div');\n",
              "        docLink.innerHTML = docLinkHtml;\n",
              "        element.appendChild(docLink);\n",
              "      }\n",
              "    </script>\n",
              "  </div>\n",
              "\n",
              "\n",
              "<div id=\"df-17cafdc7-ce5b-4376-878f-6decb297e8a9\">\n",
              "  <button class=\"colab-df-quickchart\" onclick=\"quickchart('df-17cafdc7-ce5b-4376-878f-6decb297e8a9')\"\n",
              "            title=\"Suggest charts\"\n",
              "            style=\"display:none;\">\n",
              "\n",
              "<svg xmlns=\"http://www.w3.org/2000/svg\" height=\"24px\"viewBox=\"0 0 24 24\"\n",
              "     width=\"24px\">\n",
              "    <g>\n",
              "        <path d=\"M19 3H5c-1.1 0-2 .9-2 2v14c0 1.1.9 2 2 2h14c1.1 0 2-.9 2-2V5c0-1.1-.9-2-2-2zM9 17H7v-7h2v7zm4 0h-2V7h2v10zm4 0h-2v-4h2v4z\"/>\n",
              "    </g>\n",
              "</svg>\n",
              "  </button>\n",
              "\n",
              "<style>\n",
              "  .colab-df-quickchart {\n",
              "      --bg-color: #E8F0FE;\n",
              "      --fill-color: #1967D2;\n",
              "      --hover-bg-color: #E2EBFA;\n",
              "      --hover-fill-color: #174EA6;\n",
              "      --disabled-fill-color: #AAA;\n",
              "      --disabled-bg-color: #DDD;\n",
              "  }\n",
              "\n",
              "  [theme=dark] .colab-df-quickchart {\n",
              "      --bg-color: #3B4455;\n",
              "      --fill-color: #D2E3FC;\n",
              "      --hover-bg-color: #434B5C;\n",
              "      --hover-fill-color: #FFFFFF;\n",
              "      --disabled-bg-color: #3B4455;\n",
              "      --disabled-fill-color: #666;\n",
              "  }\n",
              "\n",
              "  .colab-df-quickchart {\n",
              "    background-color: var(--bg-color);\n",
              "    border: none;\n",
              "    border-radius: 50%;\n",
              "    cursor: pointer;\n",
              "    display: none;\n",
              "    fill: var(--fill-color);\n",
              "    height: 32px;\n",
              "    padding: 0;\n",
              "    width: 32px;\n",
              "  }\n",
              "\n",
              "  .colab-df-quickchart:hover {\n",
              "    background-color: var(--hover-bg-color);\n",
              "    box-shadow: 0 1px 2px rgba(60, 64, 67, 0.3), 0 1px 3px 1px rgba(60, 64, 67, 0.15);\n",
              "    fill: var(--button-hover-fill-color);\n",
              "  }\n",
              "\n",
              "  .colab-df-quickchart-complete:disabled,\n",
              "  .colab-df-quickchart-complete:disabled:hover {\n",
              "    background-color: var(--disabled-bg-color);\n",
              "    fill: var(--disabled-fill-color);\n",
              "    box-shadow: none;\n",
              "  }\n",
              "\n",
              "  .colab-df-spinner {\n",
              "    border: 2px solid var(--fill-color);\n",
              "    border-color: transparent;\n",
              "    border-bottom-color: var(--fill-color);\n",
              "    animation:\n",
              "      spin 1s steps(1) infinite;\n",
              "  }\n",
              "\n",
              "  @keyframes spin {\n",
              "    0% {\n",
              "      border-color: transparent;\n",
              "      border-bottom-color: var(--fill-color);\n",
              "      border-left-color: var(--fill-color);\n",
              "    }\n",
              "    20% {\n",
              "      border-color: transparent;\n",
              "      border-left-color: var(--fill-color);\n",
              "      border-top-color: var(--fill-color);\n",
              "    }\n",
              "    30% {\n",
              "      border-color: transparent;\n",
              "      border-left-color: var(--fill-color);\n",
              "      border-top-color: var(--fill-color);\n",
              "      border-right-color: var(--fill-color);\n",
              "    }\n",
              "    40% {\n",
              "      border-color: transparent;\n",
              "      border-right-color: var(--fill-color);\n",
              "      border-top-color: var(--fill-color);\n",
              "    }\n",
              "    60% {\n",
              "      border-color: transparent;\n",
              "      border-right-color: var(--fill-color);\n",
              "    }\n",
              "    80% {\n",
              "      border-color: transparent;\n",
              "      border-right-color: var(--fill-color);\n",
              "      border-bottom-color: var(--fill-color);\n",
              "    }\n",
              "    90% {\n",
              "      border-color: transparent;\n",
              "      border-bottom-color: var(--fill-color);\n",
              "    }\n",
              "  }\n",
              "</style>\n",
              "\n",
              "  <script>\n",
              "    async function quickchart(key) {\n",
              "      const quickchartButtonEl =\n",
              "        document.querySelector('#' + key + ' button');\n",
              "      quickchartButtonEl.disabled = true;  // To prevent multiple clicks.\n",
              "      quickchartButtonEl.classList.add('colab-df-spinner');\n",
              "      try {\n",
              "        const charts = await google.colab.kernel.invokeFunction(\n",
              "            'suggestCharts', [key], {});\n",
              "      } catch (error) {\n",
              "        console.error('Error during call to suggestCharts:', error);\n",
              "      }\n",
              "      quickchartButtonEl.classList.remove('colab-df-spinner');\n",
              "      quickchartButtonEl.classList.add('colab-df-quickchart-complete');\n",
              "    }\n",
              "    (() => {\n",
              "      let quickchartButtonEl =\n",
              "        document.querySelector('#df-17cafdc7-ce5b-4376-878f-6decb297e8a9 button');\n",
              "      quickchartButtonEl.style.display =\n",
              "        google.colab.kernel.accessAllowed ? 'block' : 'none';\n",
              "    })();\n",
              "  </script>\n",
              "</div>\n",
              "\n",
              "  <div id=\"id_b7f62b36-d4a6-4667-bceb-8a7ebd4a88ea\">\n",
              "    <style>\n",
              "      .colab-df-generate {\n",
              "        background-color: #E8F0FE;\n",
              "        border: none;\n",
              "        border-radius: 50%;\n",
              "        cursor: pointer;\n",
              "        display: none;\n",
              "        fill: #1967D2;\n",
              "        height: 32px;\n",
              "        padding: 0 0 0 0;\n",
              "        width: 32px;\n",
              "      }\n",
              "\n",
              "      .colab-df-generate:hover {\n",
              "        background-color: #E2EBFA;\n",
              "        box-shadow: 0px 1px 2px rgba(60, 64, 67, 0.3), 0px 1px 3px 1px rgba(60, 64, 67, 0.15);\n",
              "        fill: #174EA6;\n",
              "      }\n",
              "\n",
              "      [theme=dark] .colab-df-generate {\n",
              "        background-color: #3B4455;\n",
              "        fill: #D2E3FC;\n",
              "      }\n",
              "\n",
              "      [theme=dark] .colab-df-generate:hover {\n",
              "        background-color: #434B5C;\n",
              "        box-shadow: 0px 1px 3px 1px rgba(0, 0, 0, 0.15);\n",
              "        filter: drop-shadow(0px 1px 2px rgba(0, 0, 0, 0.3));\n",
              "        fill: #FFFFFF;\n",
              "      }\n",
              "    </style>\n",
              "    <button class=\"colab-df-generate\" onclick=\"generateWithVariable('dataset')\"\n",
              "            title=\"Generate code using this dataframe.\"\n",
              "            style=\"display:none;\">\n",
              "\n",
              "  <svg xmlns=\"http://www.w3.org/2000/svg\" height=\"24px\"viewBox=\"0 0 24 24\"\n",
              "       width=\"24px\">\n",
              "    <path d=\"M7,19H8.4L18.45,9,17,7.55,7,17.6ZM5,21V16.75L18.45,3.32a2,2,0,0,1,2.83,0l1.4,1.43a1.91,1.91,0,0,1,.58,1.4,1.91,1.91,0,0,1-.58,1.4L9.25,21ZM18.45,9,17,7.55Zm-12,3A5.31,5.31,0,0,0,4.9,8.1,5.31,5.31,0,0,0,1,6.5,5.31,5.31,0,0,0,4.9,4.9,5.31,5.31,0,0,0,6.5,1,5.31,5.31,0,0,0,8.1,4.9,5.31,5.31,0,0,0,12,6.5,5.46,5.46,0,0,0,6.5,12Z\"/>\n",
              "  </svg>\n",
              "    </button>\n",
              "    <script>\n",
              "      (() => {\n",
              "      const buttonEl =\n",
              "        document.querySelector('#id_b7f62b36-d4a6-4667-bceb-8a7ebd4a88ea button.colab-df-generate');\n",
              "      buttonEl.style.display =\n",
              "        google.colab.kernel.accessAllowed ? 'block' : 'none';\n",
              "\n",
              "      buttonEl.onclick = () => {\n",
              "        google.colab.notebook.generateWithVariable('dataset');\n",
              "      }\n",
              "      })();\n",
              "    </script>\n",
              "  </div>\n",
              "\n",
              "    </div>\n",
              "  </div>\n"
            ],
            "application/vnd.google.colaboratory.intrinsic+json": {
              "type": "dataframe",
              "variable_name": "dataset",
              "summary": "{\n  \"name\": \"dataset\",\n  \"rows\": 41157,\n  \"fields\": [\n    {\n      \"column\": \"UserName\",\n      \"properties\": {\n        \"dtype\": \"number\",\n        \"std\": 11881,\n        \"min\": 3799,\n        \"max\": 44955,\n        \"num_unique_values\": 41157,\n        \"samples\": [\n          34888,\n          39363,\n          3943\n        ],\n        \"semantic_type\": \"\",\n        \"description\": \"\"\n      }\n    },\n    {\n      \"column\": \"ScreenName\",\n      \"properties\": {\n        \"dtype\": \"number\",\n        \"std\": 11881,\n        \"min\": 48751,\n        \"max\": 89907,\n        \"num_unique_values\": 41157,\n        \"samples\": [\n          79840,\n          84315,\n          48895\n        ],\n        \"semantic_type\": \"\",\n        \"description\": \"\"\n      }\n    },\n    {\n      \"column\": \"Location\",\n      \"properties\": {\n        \"dtype\": \"category\",\n        \"num_unique_values\": 12220,\n        \"samples\": [\n          \"Killeen, TX\",\n          \"Richmond VA\",\n          \"El Dorado\"\n        ],\n        \"semantic_type\": \"\",\n        \"description\": \"\"\n      }\n    },\n    {\n      \"column\": \"TweetAt\",\n      \"properties\": {\n        \"dtype\": \"object\",\n        \"num_unique_values\": 30,\n        \"samples\": [\n          \"12-04-2020\",\n          \"31-03-2020\",\n          \"08-04-2020\"\n        ],\n        \"semantic_type\": \"\",\n        \"description\": \"\"\n      }\n    },\n    {\n      \"column\": \"OriginalTweet\",\n      \"properties\": {\n        \"dtype\": \"string\",\n        \"num_unique_values\": 41157,\n        \"samples\": [\n          \" Without the there would not be any problem whatsoever People are getting worried about the supply chain   Prices for key food staples are starting to soar in some parts of the world via\",\n          \"Rice &amp; wheat prices surge amid fears Covid-19 lockdown may threaten global food security\\r\\r\\nIncreased panic buying of food due to coronavirus lockdowns has led to price spikes for  world\\u00c2\\u0092s two staple grains, rice&amp; wheat. Importers rushed to stockpile goods\\r\\r\\n https://t.co/0qOv3jAp9m\",\n          \"When the government says to start social distancing, but you work retail so you can't just not talk to customers in the store lol fml I'm 100% going to catch covid-19\"\n        ],\n        \"semantic_type\": \"\",\n        \"description\": \"\"\n      }\n    },\n    {\n      \"column\": \"Sentiment\",\n      \"properties\": {\n        \"dtype\": \"category\",\n        \"num_unique_values\": 5,\n        \"samples\": [\n          \"Positive\",\n          \"Extremely Positive\",\n          \"Extremely Negative\"\n        ],\n        \"semantic_type\": \"\",\n        \"description\": \"\"\n      }\n    }\n  ]\n}"
            }
          },
          "metadata": {},
          "execution_count": 5
        }
      ]
    },
    {
      "cell_type": "markdown",
      "metadata": {
        "id": "wm4tRVSAzAVy"
      },
      "source": [
        "# Treinando sua Word Embeddings"
      ]
    },
    {
      "cell_type": "code",
      "metadata": {
        "id": "cXNbfi-ezCwx"
      },
      "source": [
        "import gensim\n",
        "\n",
        "# percorre cada linha do dataset, preprocessa e armazena na lista documents\n",
        "\n",
        "documents = []\n",
        "for index,row in dataset.iterrows(): # para cada linha do dataset\n",
        "  if len(row['OriginalTweet']) >= 50: # se a linha possui mais do que 50 caracteres\n",
        "    tokens = gensim.utils.simple_preprocess (row['OriginalTweet']) # preprocessamento simples de cada texto\n",
        "    documents.append(tokens)"
      ],
      "execution_count": null,
      "outputs": []
    },
    {
      "cell_type": "code",
      "metadata": {
        "colab": {
          "base_uri": "https://localhost:8080/"
        },
        "id": "ql2tn8EjOL1p",
        "outputId": "6225885b-bfb6-4590-e4d0-fd755e2136b2"
      },
      "source": [
        "len(documents)"
      ],
      "execution_count": null,
      "outputs": [
        {
          "output_type": "execute_result",
          "data": {
            "text/plain": [
              "40736"
            ]
          },
          "metadata": {},
          "execution_count": 8
        }
      ]
    },
    {
      "cell_type": "code",
      "source": [
        "documents[1]"
      ],
      "metadata": {
        "colab": {
          "base_uri": "https://localhost:8080/"
        },
        "id": "JKq02pY4OCE4",
        "outputId": "9123e238-0429-4c3c-fb4f-0f55b8eceb2b"
      },
      "execution_count": null,
      "outputs": [
        {
          "output_type": "execute_result",
          "data": {
            "text/plain": [
              "['advice',\n",
              " 'talk',\n",
              " 'to',\n",
              " 'your',\n",
              " 'neighbours',\n",
              " 'family',\n",
              " 'to',\n",
              " 'exchange',\n",
              " 'phone',\n",
              " 'numbers',\n",
              " 'create',\n",
              " 'contact',\n",
              " 'list',\n",
              " 'with',\n",
              " 'phone',\n",
              " 'numbers',\n",
              " 'of',\n",
              " 'neighbours',\n",
              " 'schools',\n",
              " 'employer',\n",
              " 'chemist',\n",
              " 'gp',\n",
              " 'set',\n",
              " 'up',\n",
              " 'online',\n",
              " 'shopping',\n",
              " 'accounts',\n",
              " 'if',\n",
              " 'poss',\n",
              " 'adequate',\n",
              " 'supplies',\n",
              " 'of',\n",
              " 'regular',\n",
              " 'meds',\n",
              " 'but',\n",
              " 'not',\n",
              " 'over',\n",
              " 'order']"
            ]
          },
          "metadata": {},
          "execution_count": 9
        }
      ]
    },
    {
      "cell_type": "code",
      "source": [
        "!lscpu"
      ],
      "metadata": {
        "colab": {
          "base_uri": "https://localhost:8080/"
        },
        "id": "6natQcsYOgPZ",
        "outputId": "341fa8e9-50b6-48e7-a7ce-283b85493095"
      },
      "execution_count": null,
      "outputs": [
        {
          "output_type": "stream",
          "name": "stdout",
          "text": [
            "Architecture:             x86_64\n",
            "  CPU op-mode(s):         32-bit, 64-bit\n",
            "  Address sizes:          46 bits physical, 48 bits virtual\n",
            "  Byte Order:             Little Endian\n",
            "CPU(s):                   2\n",
            "  On-line CPU(s) list:    0,1\n",
            "Vendor ID:                GenuineIntel\n",
            "  Model name:             Intel(R) Xeon(R) CPU @ 2.20GHz\n",
            "    CPU family:           6\n",
            "    Model:                79\n",
            "    Thread(s) per core:   2\n",
            "    Core(s) per socket:   1\n",
            "    Socket(s):            1\n",
            "    Stepping:             0\n",
            "    BogoMIPS:             4399.99\n",
            "    Flags:                fpu vme de pse tsc msr pae mce cx8 apic sep mtrr pge mca cmov pat pse36 cl\n",
            "                          flush mmx fxsr sse sse2 ss ht syscall nx pdpe1gb rdtscp lm constant_tsc re\n",
            "                          p_good nopl xtopology nonstop_tsc cpuid tsc_known_freq pni pclmulqdq ssse3\n",
            "                           fma cx16 pcid sse4_1 sse4_2 x2apic movbe popcnt aes xsave avx f16c rdrand\n",
            "                           hypervisor lahf_lm abm 3dnowprefetch invpcid_single ssbd ibrs ibpb stibp \n",
            "                          fsgsbase tsc_adjust bmi1 hle avx2 smep bmi2 erms invpcid rtm rdseed adx sm\n",
            "                          ap xsaveopt arat md_clear arch_capabilities\n",
            "Virtualization features:  \n",
            "  Hypervisor vendor:      KVM\n",
            "  Virtualization type:    full\n",
            "Caches (sum of all):      \n",
            "  L1d:                    32 KiB (1 instance)\n",
            "  L1i:                    32 KiB (1 instance)\n",
            "  L2:                     256 KiB (1 instance)\n",
            "  L3:                     55 MiB (1 instance)\n",
            "NUMA:                     \n",
            "  NUMA node(s):           1\n",
            "  NUMA node0 CPU(s):      0,1\n",
            "Vulnerabilities:          \n",
            "  Gather data sampling:   Not affected\n",
            "  Itlb multihit:          Not affected\n",
            "  L1tf:                   Mitigation; PTE Inversion\n",
            "  Mds:                    Vulnerable; SMT Host state unknown\n",
            "  Meltdown:               Vulnerable\n",
            "  Mmio stale data:        Vulnerable\n",
            "  Reg file data sampling: Not affected\n",
            "  Retbleed:               Vulnerable\n",
            "  Spec rstack overflow:   Not affected\n",
            "  Spec store bypass:      Vulnerable\n",
            "  Spectre v1:             Vulnerable: __user pointer sanitization and usercopy barriers only; no swa\n",
            "                          pgs barriers\n",
            "  Spectre v2:             Vulnerable; IBPB: disabled; STIBP: disabled; PBRSB-eIBRS: Not affected; BH\n",
            "                          I: Vulnerable (Syscall hardening enabled)\n",
            "  Srbds:                  Not affected\n",
            "  Tsx async abort:        Vulnerable\n"
          ]
        }
      ]
    },
    {
      "cell_type": "code",
      "metadata": {
        "id": "1moAsycVzOT5"
      },
      "source": [
        "# treinando o Word2Vec a partir dos documents\n",
        "model = gensim.models.Word2Vec(\n",
        "        documents, # lista com documents\n",
        "        vector_size=300, # tamanho da dimensao de cada palavra\n",
        "        window=5, # tamanho da janela de contexto\n",
        "        min_count=1, # numero minimo de ocorrencia de uma palavra no texto\n",
        "        workers=2, # paralelizacao/cpu\n",
        "        )"
      ],
      "execution_count": null,
      "outputs": []
    },
    {
      "cell_type": "code",
      "source": [
        "model.wv['covid']"
      ],
      "metadata": {
        "colab": {
          "base_uri": "https://localhost:8080/"
        },
        "id": "vSvIDKK5PFRJ",
        "outputId": "70df9767-7494-48d9-eb36-97ded2cd6ed8"
      },
      "execution_count": null,
      "outputs": [
        {
          "output_type": "execute_result",
          "data": {
            "text/plain": [
              "array([ 0.5100504 ,  0.96403104,  0.5259859 , -0.22418454, -0.32690373,\n",
              "       -1.116319  ,  0.5015785 ,  0.58821326, -0.81048584, -0.12697014,\n",
              "       -0.39587012, -0.13080062, -0.8786117 ,  0.25310096,  0.16283974,\n",
              "       -0.03985236,  0.683788  ,  1.1730311 , -0.52793753,  0.05528012,\n",
              "       -0.76814854, -0.26170444,  0.35251158, -0.41326076,  0.11351741,\n",
              "       -0.59389246, -0.66484094,  0.7778431 ,  0.46650314, -0.66291124,\n",
              "        0.69549906, -0.6296922 ,  0.74553066,  0.187755  , -0.3526082 ,\n",
              "       -0.95960695,  0.15379542,  0.7900141 ,  1.2348055 , -0.02018517,\n",
              "       -0.69838846, -0.2900816 ,  0.4374531 ,  0.776183  , -0.73728967,\n",
              "       -0.7512138 ,  0.06467945,  0.5681181 ,  1.0309048 ,  0.92745304,\n",
              "       -1.0686691 ,  0.54861534, -0.00253399,  0.4057864 ,  0.25447702,\n",
              "        0.7324889 ,  0.20400454,  0.65993077,  1.4637618 ,  1.495306  ,\n",
              "        0.10428268,  0.36878157,  0.30276397,  0.6020303 , -0.260999  ,\n",
              "        0.6993892 ,  0.3433893 ,  0.3957641 , -0.8099719 ,  0.39359838,\n",
              "        1.1174384 , -0.47492418,  0.9245982 , -0.8727166 ,  0.18996747,\n",
              "        0.65210277,  0.25315213,  1.1957984 , -0.98895454, -0.23846906,\n",
              "       -0.56463945, -0.1750578 , -0.2230514 ,  0.7186756 ,  0.14619838,\n",
              "        0.136231  , -0.3009145 ,  0.9971623 ,  0.21944967,  0.13402912,\n",
              "        1.4645314 , -0.55138725,  0.3458088 ,  0.45614618,  0.29393327,\n",
              "        0.65645456,  0.71822196, -0.95645523,  0.7243474 ,  0.5992828 ,\n",
              "       -0.26180127,  0.9667742 , -0.1417601 , -0.06277989, -0.26898122,\n",
              "        0.23191157,  0.3703608 ,  0.6333883 , -0.07349914,  0.38712057,\n",
              "       -0.55070424, -0.04272988, -0.45535332, -0.5610764 ,  0.09561688,\n",
              "        1.4701676 ,  0.2935571 , -0.01097376, -0.6535803 , -0.9412284 ,\n",
              "        0.00540612, -0.27794123, -0.12860934, -0.512355  , -0.41922346,\n",
              "        0.04913625, -0.745926  , -1.1515452 ,  0.38907957,  0.9450438 ,\n",
              "       -0.10310326,  1.3326982 , -0.03603726,  0.06680347,  0.15721765,\n",
              "        0.34284052, -0.5997254 , -0.6651645 , -0.4078327 , -0.19310413,\n",
              "        0.2527628 ,  0.515745  , -0.41877308,  0.16982676, -0.15870075,\n",
              "       -0.00369161, -1.185488  , -0.41071904,  0.6316382 ,  0.30517018,\n",
              "        0.19929561, -1.3397673 , -1.2436795 ,  0.41751498,  0.8457139 ,\n",
              "        1.1331674 ,  0.6854805 , -0.11948135, -0.10953277,  1.0307534 ,\n",
              "       -0.70650333, -0.38114312, -0.0734672 , -0.09183282, -0.68092656,\n",
              "       -0.6509892 ,  0.17716469, -0.9857266 , -0.8201281 ,  0.24176231,\n",
              "       -0.7054325 , -1.012065  , -0.26115575, -0.17042364, -0.3906201 ,\n",
              "       -0.5260903 , -0.37314865,  0.1678439 ,  0.08700389,  0.27945626,\n",
              "       -0.5473087 ,  1.0783305 ,  0.72704494, -0.05513964,  0.67779523,\n",
              "       -0.2985047 ,  0.78531486, -0.106405  , -0.4853037 , -1.0757213 ,\n",
              "        0.48963642,  0.93808764,  0.00953077,  0.5836408 , -0.7657857 ,\n",
              "       -0.54680705, -0.3399027 ,  0.58156854,  0.23525509,  0.9587771 ,\n",
              "        0.2721874 ,  0.26046324, -0.4382446 ,  0.30311847,  0.9752327 ,\n",
              "       -0.25448403,  0.3923436 , -0.3994822 ,  0.30712652, -0.37552902,\n",
              "        0.42048097, -0.86821645,  0.28656557, -0.56893015,  0.26327118,\n",
              "       -0.66382104,  0.65329313, -0.89691585, -0.62385994, -0.5898511 ,\n",
              "       -0.08411541,  0.06621058, -1.7052318 ,  0.7367217 ,  0.04010446,\n",
              "        0.26237258, -0.3547391 ,  0.16092989, -1.2615236 ,  0.27345207,\n",
              "       -0.47688207, -0.894676  , -0.24715786, -0.70020264, -0.12311153,\n",
              "        0.02432294,  1.0428315 , -0.21838307,  0.9008992 ,  0.05284142,\n",
              "        0.1384127 , -0.90473217,  0.05489602,  0.48424417, -0.7156506 ,\n",
              "       -0.89243776,  0.04593992, -0.80890363,  0.26237854,  1.3475041 ,\n",
              "        0.34528536, -0.76538575,  0.3412599 , -0.25600746, -1.4542335 ,\n",
              "        0.9606268 ,  0.14441401, -0.9294427 , -1.8653147 , -0.63292986,\n",
              "        0.19361395,  0.3731432 , -0.28197733, -0.03692603, -1.0609438 ,\n",
              "        0.06319319,  0.49376675, -0.26659158, -0.23091783, -0.4632542 ,\n",
              "        0.12550233,  0.26587707,  0.38526058,  0.24289529,  0.57932776,\n",
              "        1.1759697 ,  0.8035067 ,  1.0272367 , -0.46384612,  1.1700436 ,\n",
              "       -0.742682  ,  0.45207727, -0.00900025, -0.2660505 , -0.5126418 ,\n",
              "        0.17253333, -0.58568674,  0.2887922 ,  0.5107726 ,  0.01555025,\n",
              "        0.42197415,  1.075759  ,  0.20104857,  0.06062395,  1.2100651 ,\n",
              "       -1.0102705 ,  0.50591457, -0.5365491 , -0.8445161 , -0.29704309],\n",
              "      dtype=float32)"
            ]
          },
          "metadata": {},
          "execution_count": 15
        }
      ]
    },
    {
      "cell_type": "code",
      "metadata": {
        "colab": {
          "base_uri": "https://localhost:8080/"
        },
        "id": "mTE9hri4zSna",
        "outputId": "2239ce41-973d-41f5-f627-921fbfe6d18b"
      },
      "source": [
        "# testando o modelo..\n",
        "\n",
        "palavra = 'covid'\n",
        "model.wv.most_similar(palavra, topn=7) # identificando as 7 palavra mais similares (e.g. cosseno)"
      ],
      "execution_count": null,
      "outputs": [
        {
          "output_type": "execute_result",
          "data": {
            "text/plain": [
              "[('virus', 0.7155030965805054),\n",
              " ('coronavirus', 0.6810685396194458),\n",
              " ('lockdown', 0.6794845461845398),\n",
              " ('covid_', 0.65943443775177),\n",
              " ('disease', 0.6373147964477539),\n",
              " ('corona', 0.6293492913246155),\n",
              " ('epidemic', 0.6241039037704468)]"
            ]
          },
          "metadata": {},
          "execution_count": 16
        }
      ]
    },
    {
      "cell_type": "code",
      "metadata": {
        "colab": {
          "base_uri": "https://localhost:8080/"
        },
        "id": "nUoHAGKIO33w",
        "outputId": "ee8a8094-2f64-434d-eb7f-9ce0f710154a"
      },
      "source": [
        "# testando o modelo..\n",
        "\n",
        "palavra = 'crisis'\n",
        "model.wv.most_similar(palavra, topn=7) # identificando as 7 palavra mais similares (e.g. cosseno)"
      ],
      "execution_count": null,
      "outputs": [
        {
          "output_type": "execute_result",
          "data": {
            "text/plain": [
              "[('pandemic', 0.9095410704612732),\n",
              " ('outbreak', 0.8794670701026917),\n",
              " ('situation', 0.8417554497718811),\n",
              " ('epidemic', 0.8034537434577942),\n",
              " ('period', 0.7515713572502136),\n",
              " ('uncertainty', 0.731869101524353),\n",
              " ('fzqkllr', 0.7114076614379883)]"
            ]
          },
          "metadata": {},
          "execution_count": 17
        }
      ]
    },
    {
      "cell_type": "code",
      "metadata": {
        "id": "NRv-fzwxzsPx"
      },
      "source": [
        "word2vec = model"
      ],
      "execution_count": null,
      "outputs": []
    },
    {
      "cell_type": "markdown",
      "metadata": {
        "id": "jtPFTSaCzetr"
      },
      "source": [
        "# Repetindo a classificação do exemplo anterior"
      ]
    },
    {
      "cell_type": "code",
      "metadata": {
        "id": "3MfPquC7pUUf"
      },
      "source": [
        "dataset = dataset[(dataset.Sentiment=='Extremely Negative') | (dataset.Sentiment=='Extremely Positive')][['OriginalTweet','Sentiment']].dropna().sample(2000,random_state=42)\n",
        "dataset.reset_index(inplace=True,drop=True)\n",
        "dataset"
      ],
      "execution_count": null,
      "outputs": []
    },
    {
      "cell_type": "code",
      "metadata": {
        "id": "3RORWWI9paeA"
      },
      "source": [
        "dataset.Sentiment.hist()"
      ],
      "execution_count": null,
      "outputs": []
    },
    {
      "cell_type": "markdown",
      "metadata": {
        "id": "zevVuanmphRA"
      },
      "source": [
        "# Separando treino e teste\n",
        "Use a mesma semente do exemplo prático anterior"
      ]
    },
    {
      "cell_type": "code",
      "metadata": {
        "id": "0jYLukyYplyk"
      },
      "source": [
        "import numpy as np\n",
        "from sklearn.model_selection import train_test_split\n",
        "\n",
        "\n",
        "df_train, df_test = train_test_split(dataset, test_size=0.30, random_state=42)"
      ],
      "execution_count": null,
      "outputs": []
    },
    {
      "cell_type": "markdown",
      "metadata": {
        "id": "6Xd29P5utk9T"
      },
      "source": [
        "# Classificação usando Média de Word Vectors"
      ]
    },
    {
      "cell_type": "code",
      "metadata": {
        "id": "HEWk9Hrltn0x"
      },
      "source": [
        "from nltk.corpus import stopwords\n",
        "from nltk import download\n",
        "download('stopwords')  # Download stopwords list.\n",
        "stop_words = stopwords.words('english')\n",
        "\n",
        "def preprocess(sentence):\n",
        "    return [w for w in sentence.lower().split() if w not in stop_words]\n",
        "\n",
        "doc_embeddings = []\n",
        "for index,row in df_train.iterrows():\n",
        "  sentence = preprocess(row['OriginalTweet'])\n",
        "  L = []\n",
        "  for token in sentence:\n",
        "    try:\n",
        "      #print(token,word2vec[token])\n",
        "      L.append(word2vec.wv[token])\n",
        "    except:\n",
        "      1\n",
        "  if len(L) > 0: tweet_vec = np.mean(np.array(L),axis=0)\n",
        "  else: tweet_vec = np.zeros(300)\n",
        "  doc_embeddings.append(tweet_vec)"
      ],
      "execution_count": null,
      "outputs": []
    },
    {
      "cell_type": "code",
      "metadata": {
        "id": "EQrPDodHuM7E"
      },
      "source": [
        "X_train = np.array(doc_embeddings)\n",
        "y_train = df_train.Sentiment.to_list()\n",
        "X_train.shape"
      ],
      "execution_count": null,
      "outputs": []
    },
    {
      "cell_type": "code",
      "metadata": {
        "id": "nqCTuLB-vBuE"
      },
      "source": [
        "pd.DataFrame(X_train)"
      ],
      "execution_count": null,
      "outputs": []
    },
    {
      "cell_type": "code",
      "metadata": {
        "id": "pxI1Pi1Dt6gX"
      },
      "source": [
        "doc_embeddings = []\n",
        "for index,row in df_test.iterrows():\n",
        "  sentence = preprocess(row['OriginalTweet'])\n",
        "  L = []\n",
        "  for token in sentence:\n",
        "    try:\n",
        "      #print(token,word2vec[token])\n",
        "      L.append(word2vec[token])\n",
        "    except:\n",
        "      1\n",
        "  if len(L) > 0: tweet_vec = np.mean(np.array(L),axis=0)\n",
        "  else: tweet_vec = np.zeros(300)\n",
        "  doc_embeddings.append(tweet_vec)"
      ],
      "execution_count": null,
      "outputs": []
    },
    {
      "cell_type": "code",
      "metadata": {
        "id": "R1gc4Dhsu0vM"
      },
      "source": [
        "X_test = np.array(doc_embeddings)\n",
        "y_test = df_test.Sentiment.to_list()\n",
        "X_test.shape"
      ],
      "execution_count": null,
      "outputs": []
    },
    {
      "cell_type": "code",
      "metadata": {
        "id": "UifSVYY6u43L"
      },
      "source": [
        "from sklearn.neighbors import KNeighborsClassifier\n",
        "\n",
        "neigh = KNeighborsClassifier(n_neighbors=3, metric='cosine')\n",
        "neigh.fit(X_train, y_train)"
      ],
      "execution_count": null,
      "outputs": []
    },
    {
      "cell_type": "code",
      "metadata": {
        "id": "lSiv8mhvvMtT"
      },
      "source": [
        "neigh.score(X_test,y_test)"
      ],
      "execution_count": null,
      "outputs": []
    },
    {
      "cell_type": "markdown",
      "metadata": {
        "id": "nwV4qWVdwzwQ"
      },
      "source": [
        "# Versão com embeddings normalizadas"
      ]
    },
    {
      "cell_type": "code",
      "metadata": {
        "id": "mqQF6kvjw1uJ"
      },
      "source": [
        "length = np.sqrt((X_train**2).sum(axis=1))[:,None]\n",
        "X_train_norm = X_train / (length+0.00001)\n",
        "\n",
        "length = np.sqrt((X_test**2).sum(axis=1))[:,None]\n",
        "X_test_norm = X_test / (length+0.00001)\n"
      ],
      "execution_count": null,
      "outputs": []
    },
    {
      "cell_type": "code",
      "metadata": {
        "id": "RMfMZRijxSvh"
      },
      "source": [
        "pd.DataFrame(X_test)"
      ],
      "execution_count": null,
      "outputs": []
    },
    {
      "cell_type": "code",
      "metadata": {
        "id": "jcscBJ9zxP0o"
      },
      "source": [
        "pd.DataFrame(X_test_norm)"
      ],
      "execution_count": null,
      "outputs": []
    },
    {
      "cell_type": "code",
      "metadata": {
        "id": "qc_hQIJKxCzR"
      },
      "source": [
        "from sklearn.neighbors import KNeighborsClassifier\n",
        "\n",
        "neigh_norm = KNeighborsClassifier(n_neighbors=3)\n",
        "neigh_norm.fit(X_train_norm, y_train)"
      ],
      "execution_count": null,
      "outputs": []
    },
    {
      "cell_type": "code",
      "metadata": {
        "id": "p3olfqmtxMFy"
      },
      "source": [
        "neigh_norm.score(X_test_norm,y_test)"
      ],
      "execution_count": null,
      "outputs": []
    }
  ]
}