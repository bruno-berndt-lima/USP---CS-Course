{
 "cells": [
  {
   "cell_type": "markdown",
   "id": "ca53afa0-e224-498c-a93e-ba59ee405317",
   "metadata": {},
   "source": [
    "# 04 - part 4 - Fast Fourier Transform"
   ]
  },
  {
   "cell_type": "code",
   "execution_count": 4,
   "id": "4f5d40ee-4fed-441a-b1c8-477f75f7905e",
   "metadata": {},
   "outputs": [],
   "source": [
    "import numpy as np\n",
    "import matplotlib.pyplot as plt\n",
    "import imageio.v3 as imageio\n",
    "import time\n",
    "from cmath import exp, pi"
   ]
  },
  {
   "cell_type": "markdown",
   "id": "99db5d8f-bc2d-454d-8c01-f4eba27a2498",
   "metadata": {},
   "source": [
    "The Fast Fourier Transform (FFT) is a divide and conquer algorithm that recursively splits the input array into two parts: one for the odd indices, and another for the even indices, until the trivial case is achieved.\n",
    "\n",
    "It is important to note that complex exponentials (that can be decomposed into a sum of sine and cosine) are periodic and symmetric, and from those properties the FFT is defined.\n",
    "\n",
    "In particular, from $e^{-j \\frac{2\\pi}{N} x u}$, we isolate the constant term, and define it as a variable: $W = e^{-j \\frac{2\\pi}{N}}$. Note $W$ is constant because it does not depend on the time sampling (controlled by $x$), nor depends on the frequencies ($u$).\n",
    "\n",
    "For example, for a signal with 4 observations, i.e. $N=4$"
   ]
  },
  {
   "cell_type": "code",
   "execution_count": 5,
   "id": "b9331ce8-139d-4ef2-abba-a92205714168",
   "metadata": {},
   "outputs": [
    {
     "name": "stdout",
     "output_type": "stream",
     "text": [
      "(6.123233995736766e-17-1j)\n"
     ]
    }
   ],
   "source": [
    "N = 4\n",
    "W = exp(-1j*(2*pi)/N)\n",
    "print(W)"
   ]
  },
  {
   "cell_type": "markdown",
   "id": "6d0b87b6-6cab-4dcd-91ad-47ed6d30049d",
   "metadata": {},
   "source": [
    "This value does not depend on $u$ nor $x$. The two properties we are going to use to implement the FFT are:\n",
    "\n",
    "1. periodicity in u,x: \n",
    "    $W_N^{ux} = W_N^{u(N+x)} = W_N^{(u+N)x}$\n",
    "    \n",
    "2. symmetry of the complex conjugate: \n",
    "    $W_N^{u(N-x)} = W_N^{-ux} = (W_N^{ux})^*$ for example this is easy to see for $x=N$, $W_N^{uN} = e^{-j2\\pi u} =1$\n",
    "    \n",
    "Now we define the **division** step of the algorithm. This is done by decomposing the transform into even and odd indices of $x$. To avoid a cluttered notation, let us express the transform in terms of the variable $W$:\n",
    "\n",
    "$F(u) = \\sum_{x=0}^{N-1} f(x)W_N^{ux}$\n",
    "    \n",
    "Now we write the function of evaluating the even indices $2x$ and the odd indices $2x+1$:\n",
    "$F(u) = \\sum_{x = 0}^{N/2-1} f(2x)W_N^{u(2x)} +  \\sum_{x =0}^{N/2-1} f(2x+1)W_N^{u(2x+1)}$\n",
    "\n",
    "Note $2x$ forms the sequence $0,2,4,6$, while $2x+1$ the sequence $1,3,5,7$ as we wanted, therefore:\n",
    "\n",
    "$F(u) = \\sum_{x = 0}^{N/2-1} f(2x)\\cdot(W_N^2)^{ux} +  \\sum_{x =0}^{N/2-1} f(2x+1)\\cdot (W_N^2)^{(2x+1)u}$\n",
    "\n",
    "Let us manipulate this sum, isolating the terms that are independent of $x$, which is the $W_N^u$:\n",
    "\n",
    "$F(u) = \\sum_{x = 0}^{N/2-1} f(2x)\\cdot(W_N^2)^{ux} +  W_N^u \\cdot \\sum_{x =0}^{N/2-1} f(2x+1)\\cdot (W_N^2)^{ux}$\n",
    "\n",
    "But we note that\n",
    "\n",
    "$W_N^2 = e^{-j\\frac{2\\\\pi}{N}2} = e^{-j\\frac{2\\\\pi}{N/2}} = W_{N/2}$\n",
    "\n",
    "and this is defines the 'trick', since it allows to write the tranform as:\n",
    "\n",
    "\n",
    "\n",
    "$F(u) = \\sum_{x = 0}^{N/2-1} f(2x)\\cdot W_{N/2}^{ux} +  W_N^u \\cdot \\sum_{x =0}^{N/2-1} f(2x+1)\\cdot W_{N/2}^{ux}$\n",
    "\n",
    "The first term is the DFT of the $N/2$ elements corresponding to the even indices, the second term is the DFT of the $N/2$ elements related to the odd indices.\n",
    "\n",
    "This way, we can split the DFT of $N$ elements, in a recursive way, into two $N/2$ DFTs, and later combine the results:\n",
    "\n",
    "$F(u) = F_\\text{even}(u) + W_N^u \\\\cdot F_\\text{odd}(u)$\n",
    "\n",
    "Recall the property of symmetry of the complex conjugate:\n",
    "\n",
    "$F(u+N/2) = F_\\text{even}(u) - W_N^u \\cdot F_\\text{odd}(u)$"
   ]
  },
  {
   "cell_type": "code",
   "execution_count": 6,
   "id": "2f4b806c-ff2a-4f30-a8e7-f0dcab1aaf22",
   "metadata": {},
   "outputs": [
    {
     "data": {
      "text/plain": [
       "[0, 100, 200, 300]"
      ]
     },
     "execution_count": 6,
     "metadata": {},
     "output_type": "execute_result"
    }
   ],
   "source": [
    "# Let us try to grasp this idea for a small example\n",
    "N = 4\n",
    "f = [0,100,200,300]\n",
    "f"
   ]
  },
  {
   "cell_type": "code",
   "execution_count": 7,
   "id": "407ec66c-4b47-47b2-a9ab-b63310880d63",
   "metadata": {},
   "outputs": [
    {
     "name": "stdout",
     "output_type": "stream",
     "text": [
      "[0, 200]\n",
      "[100, 300]\n"
     ]
    }
   ],
   "source": [
    "# Splitting the array into even and odd indices\n",
    "f_even= f[0::2]\n",
    "f_odd = f[1::2]\n",
    "print(f_even)\n",
    "print(f_odd)"
   ]
  },
  {
   "cell_type": "code",
   "execution_count": 8,
   "id": "ed38aa9e-f9af-4a30-8b92-e64c25bb74fb",
   "metadata": {},
   "outputs": [
    {
     "name": "stdout",
     "output_type": "stream",
     "text": [
      "[0]\n",
      "[200]\n"
     ]
    }
   ],
   "source": [
    "# Recursively, we split the resulting arrays, first the even, into even and odd indices\n",
    "f_even_even = f_even[0::2]\n",
    "f_even_odd = f_even[1::2]\n",
    "print(f_even_even)\n",
    "print(f_even_odd)"
   ]
  },
  {
   "cell_type": "markdown",
   "id": "14a9a8f9-0c9a-49f1-9c4e-1b25a8b00573",
   "metadata": {},
   "source": [
    "In this simple example, we partition the elements until we reach the base case, that is when there is only 1 even and 1 odd element, allowing to compute:"
   ]
  },
  {
   "cell_type": "code",
   "execution_count": 9,
   "id": "8edcdc3a-8be3-4541-ada3-dfbe2fa38567",
   "metadata": {},
   "outputs": [
    {
     "name": "stdout",
     "output_type": "stream",
     "text": [
      "[(200+0j), (-200+0j)]\n"
     ]
    }
   ],
   "source": [
    "reseven0 = f_even_even[0] + exp(-2j*pi*0/N) * f_even_odd[0]\n",
    "reseven1 = f_even_even[0] - exp(-2j*pi*0/N) * f_even_odd[0]\n",
    "reseven = [reseven0, reseven1]\n",
    "print(reseven)"
   ]
  },
  {
   "cell_type": "markdown",
   "id": "b44657aa-c741-4f59-9be4-2f7202c3bdcc",
   "metadata": {},
   "source": [
    "Now this result is stored and we execute the other 'side' of the recursion, relative to the first odd indices"
   ]
  },
  {
   "cell_type": "code",
   "execution_count": 11,
   "id": "bd4bd3db-9682-446d-91de-28c27836612f",
   "metadata": {},
   "outputs": [
    {
     "name": "stdout",
     "output_type": "stream",
     "text": [
      "[100]\n",
      "[300]\n"
     ]
    }
   ],
   "source": [
    "# Separate the odd indices, into even and odd indicdes\n",
    "f_odd_even = f_odd[0::2]\n",
    "f_odd_odd = f_odd[1::2]\n",
    "print(f_odd_even)\n",
    "print(f_odd_odd)"
   ]
  },
  {
   "cell_type": "code",
   "execution_count": 12,
   "id": "661b4f78-ff89-4e0c-828e-4585bb828694",
   "metadata": {},
   "outputs": [
    {
     "name": "stdout",
     "output_type": "stream",
     "text": [
      "[(400+0j), (-200+0j)]\n"
     ]
    }
   ],
   "source": [
    "resodd0 = f_odd_even[0] + exp(-2j*pi*0/N) * f_odd_odd[0]\n",
    "resodd1 = f_odd_even[0] - exp(-2j*pi*0/N) * f_odd_odd[0]\n",
    "resodd = [resodd0, resodd1]\n",
    "print(resodd)"
   ]
  },
  {
   "cell_type": "markdown",
   "id": "ec115be4-18d0-47cd-952a-e2538d4a0a3a",
   "metadata": {},
   "source": [
    "Now, combining the individual results (reseven and resodd):"
   ]
  },
  {
   "cell_type": "code",
   "execution_count": 13,
   "id": "253cad79-1620-4063-941e-f1828af509e3",
   "metadata": {},
   "outputs": [
    {
     "name": "stdout",
     "output_type": "stream",
     "text": [
      "[ 600.  +0.j -200.+200.j -200.  +0.j -200.-200.j]\n"
     ]
    }
   ],
   "source": [
    "# From the symmetric property, I can use the result 0 to also\n",
    "# obtain the value for 0+N/2 = N/4 = 2, changing the signal\n",
    "res0 = reseven[0] + exp(-2j*pi*0/N) * resodd[0]\n",
    "res2 = reseven[0] - exp(-2j*pi*0/N) * resodd[0]\n",
    "\n",
    "# Similarly the result 1 is used to obtain the result of 1+N/2 = 1+N/4 = 3\n",
    "res1 = reseven[1] + exp(-2j*pi*1/N) * resodd[1]\n",
    "res3 = reseven[1] - exp(-2j*pi*1/N) * resodd[1]\n",
    "\n",
    "# Putting everything together\n",
    "F_manual =  np.array([res0, res1, res2, res3]).astype(np.complex64)\n",
    "print(F_manual)"
   ]
  },
  {
   "cell_type": "code",
   "execution_count": 14,
   "id": "f850cdc0-c162-44db-b7b8-b99e193e8302",
   "metadata": {},
   "outputs": [],
   "source": [
    "def FFT(f):\n",
    "    N = len(f)\n",
    "    if N <= 1:\n",
    "        return f\n",
    "    \n",
    "    # Division\n",
    "    even= FFT(f[0::2])\n",
    "    odd = FFT(f[1::2])\n",
    "\n",
    "    # Store combination of results\n",
    "    temp = np.zeros(N).astype(np.complex64)\n",
    "    \n",
    "    # Only required to compute for half the frequencies \n",
    "    # since u+N/2 can be obtained from the symmetry property\n",
    "    for u in range(N//2):\n",
    "        temp[u] = even[u] + exp(-2j*pi*u/N) * odd[u] # conquer\n",
    "        temp[u+N//2] = even[u] - exp(-2j*pi*u/N)*odd[u]  # conquer\n",
    "                \n",
    "    return temp"
   ]
  },
  {
   "cell_type": "code",
   "execution_count": 15,
   "id": "13cabef0-3187-49e9-9efd-b7141b595dcc",
   "metadata": {},
   "outputs": [
    {
     "name": "stdout",
     "output_type": "stream",
     "text": [
      "[ 600.  +0.j -200.+200.j -200.  +0.j -200.-200.j]\n"
     ]
    }
   ],
   "source": [
    "# Testing the function to see if it matches the manual computation\n",
    "F_fft = FFT(f)\n",
    "print(F_fft)"
   ]
  },
  {
   "cell_type": "code",
   "execution_count": 16,
   "id": "fc103be1-10c4-4b70-b4f1-73819e21e205",
   "metadata": {},
   "outputs": [
    {
     "name": "stdout",
     "output_type": "stream",
     "text": [
      "[ 600.+0.000000e+00j -200.+2.000000e+02j -200.-7.347881e-14j\n",
      " -200.-2.000000e+02j]\n"
     ]
    }
   ],
   "source": [
    "# Let us compare it with the DFT1D\n",
    "def DFT_1D(f):\n",
    "    # Create empty array of complex coefficients\n",
    "    F = np.zeros(f.shape, dtype=np.complex64)\n",
    "    n = f.shape[0]\n",
    "\n",
    "    # Creating indices for x, allowing to compute the multiplication using numpy (f*exp)\n",
    "    x = np.arange(n)\n",
    "    # For each frequency 'u', perform vectorial multiplication and sum\n",
    "    for u in np.arange(n):\n",
    "        F[u] = np.sum(f*np.exp( (-1j * 2 * np.pi * u*x) / n ))\n",
    "    \n",
    "    return F\n",
    "\n",
    "F_dft = DFT_1D(np.array(f))\n",
    "print(F_dft)"
   ]
  },
  {
   "cell_type": "code",
   "execution_count": 17,
   "id": "03e654ba-6778-44dc-8b4f-ae941c6e75ca",
   "metadata": {},
   "outputs": [
    {
     "name": "stdout",
     "output_type": "stream",
     "text": [
      "[ 600.+0.000000e+00j -200.+2.000000e+02j -200.-7.347881e-14j\n",
      " -200.-2.000000e+02j]\n",
      "[ 600.  +0.j -200.+200.j -200.  +0.j -200.-200.j]\n",
      "[ 600.  +0.j -200.+200.j -200.  +0.j -200.-200.j]\n"
     ]
    }
   ],
   "source": [
    "# Printing the 3 results\n",
    "print(F_dft)\n",
    "print(F_manual)\n",
    "print(F_fft)"
   ]
  },
  {
   "cell_type": "markdown",
   "id": "04234bb2-fe05-4f99-a877-a456a5949646",
   "metadata": {},
   "source": [
    "Due to the approximation, sometimes a small error is observed between the results.\n",
    "\n",
    "Let us compare the running time of DFT and FFT:"
   ]
  },
  {
   "cell_type": "code",
   "execution_count": 18,
   "id": "5ffb5d7d-25dc-425d-8f90-1d6645793fb4",
   "metadata": {},
   "outputs": [
    {
     "name": "stdout",
     "output_type": "stream",
     "text": [
      "(20000,)\n"
     ]
    }
   ],
   "source": [
    "# An array with 10000 elements\n",
    "t = np.arange(0, 2, 0.0001)\n",
    "f = 1*np.sin(t*(2*np.pi) * 2) + 0.6*np.cos(t*(2*np.pi) * 8) + 0.4*np.cos(t*(2*np.pi) * 16)\n",
    "print(t.shape)"
   ]
  },
  {
   "cell_type": "code",
   "execution_count": 20,
   "id": "bd331ae3-4403-4008-b9aa-bc94408747bb",
   "metadata": {},
   "outputs": [
    {
     "name": "stdout",
     "output_type": "stream",
     "text": [
      "DFT Running time: 22.173645973205566 sec.\n",
      "FFT Running time: 1.551832914352417 sec.\n"
     ]
    }
   ],
   "source": [
    "start = time.time()\n",
    "F_dft = DFT_1D(np.array(f))\n",
    "end = time.time()\n",
    "elapsed = end - start\n",
    "print(\"DFT Running time: \" + str(elapsed) + \" sec.\")\n",
    "\n",
    "start = time.time()\n",
    "F_fft = FFT(np.array(f))\n",
    "end = time.time()\n",
    "elapsed = end - start\n",
    "print(\"FFT Running time: \" + str(elapsed) + \" sec.\")"
   ]
  },
  {
   "cell_type": "markdown",
   "id": "baae5739-dc56-4b61-9325-3cce70eb85df",
   "metadata": {},
   "source": [
    "Note this implementation of the FFT assumes that the input has size $n = 2^p$, so we are going to have to use alternatives to overcome this issue when $n$ is not a power of two (there are algorithms that allow use any value of $n$). In any case, it is well worth for an algorithm that allows computing the Fourier Transform with complexity $O(N \\\\log N)$."
   ]
  },
  {
   "cell_type": "code",
   "execution_count": null,
   "id": "2d9f0baa-e78c-4bec-9480-337d5846cacc",
   "metadata": {},
   "outputs": [],
   "source": []
  }
 ],
 "metadata": {
  "kernelspec": {
   "display_name": "Python 3 (ipykernel)",
   "language": "python",
   "name": "python3"
  },
  "language_info": {
   "codemirror_mode": {
    "name": "ipython",
    "version": 3
   },
   "file_extension": ".py",
   "mimetype": "text/x-python",
   "name": "python",
   "nbconvert_exporter": "python",
   "pygments_lexer": "ipython3",
   "version": "3.10.12"
  }
 },
 "nbformat": 4,
 "nbformat_minor": 5
}
