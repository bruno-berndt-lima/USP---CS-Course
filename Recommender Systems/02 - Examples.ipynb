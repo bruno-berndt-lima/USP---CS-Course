{
 "cells": [
  {
   "cell_type": "markdown",
   "id": "073a99cf",
   "metadata": {},
   "source": [
    "## Criando dataframe do exemplo da aula"
   ]
  },
  {
   "cell_type": "code",
   "execution_count": 2,
   "id": "cb54a360",
   "metadata": {},
   "outputs": [
    {
     "data": {
      "text/html": [
       "<div>\n",
       "<style scoped>\n",
       "    .dataframe tbody tr th:only-of-type {\n",
       "        vertical-align: middle;\n",
       "    }\n",
       "\n",
       "    .dataframe tbody tr th {\n",
       "        vertical-align: top;\n",
       "    }\n",
       "\n",
       "    .dataframe thead th {\n",
       "        text-align: right;\n",
       "    }\n",
       "</style>\n",
       "<table border=\"1\" class=\"dataframe\">\n",
       "  <thead>\n",
       "    <tr style=\"text-align: right;\">\n",
       "      <th></th>\n",
       "      <th>user</th>\n",
       "      <th>item</th>\n",
       "      <th>rating</th>\n",
       "    </tr>\n",
       "  </thead>\n",
       "  <tbody>\n",
       "    <tr>\n",
       "      <th>0</th>\n",
       "      <td>Jessica</td>\n",
       "      <td>The Princess Diaries</td>\n",
       "      <td>5</td>\n",
       "    </tr>\n",
       "    <tr>\n",
       "      <th>1</th>\n",
       "      <td>Jessica</td>\n",
       "      <td>Oceans Eleven</td>\n",
       "      <td>2</td>\n",
       "    </tr>\n",
       "    <tr>\n",
       "      <th>2</th>\n",
       "      <td>Jessica</td>\n",
       "      <td>The Lion King</td>\n",
       "      <td>4</td>\n",
       "    </tr>\n",
       "    <tr>\n",
       "      <th>3</th>\n",
       "      <td>Jessica</td>\n",
       "      <td>Braveheart</td>\n",
       "      <td>3</td>\n",
       "    </tr>\n",
       "    <tr>\n",
       "      <th>4</th>\n",
       "      <td>Jessica</td>\n",
       "      <td>Independence Day</td>\n",
       "      <td>2</td>\n",
       "    </tr>\n",
       "    <tr>\n",
       "      <th>5</th>\n",
       "      <td>Jessica</td>\n",
       "      <td>Dumb and Dumber</td>\n",
       "      <td>3</td>\n",
       "    </tr>\n",
       "    <tr>\n",
       "      <th>6</th>\n",
       "      <td>Marta</td>\n",
       "      <td>The Princess Diaries</td>\n",
       "      <td>4</td>\n",
       "    </tr>\n",
       "    <tr>\n",
       "      <th>7</th>\n",
       "      <td>Marta</td>\n",
       "      <td>Oceans Eleven</td>\n",
       "      <td>3</td>\n",
       "    </tr>\n",
       "    <tr>\n",
       "      <th>8</th>\n",
       "      <td>Marta</td>\n",
       "      <td>The Lion King</td>\n",
       "      <td>5</td>\n",
       "    </tr>\n",
       "    <tr>\n",
       "      <th>9</th>\n",
       "      <td>Marta</td>\n",
       "      <td>Braveheart</td>\n",
       "      <td>4</td>\n",
       "    </tr>\n",
       "    <tr>\n",
       "      <th>10</th>\n",
       "      <td>Marta</td>\n",
       "      <td>Independence Day</td>\n",
       "      <td>3</td>\n",
       "    </tr>\n",
       "    <tr>\n",
       "      <th>11</th>\n",
       "      <td>Marta</td>\n",
       "      <td>Dumb and Dumber</td>\n",
       "      <td>2</td>\n",
       "    </tr>\n",
       "    <tr>\n",
       "      <th>12</th>\n",
       "      <td>Jose</td>\n",
       "      <td>The Princess Diaries</td>\n",
       "      <td>1</td>\n",
       "    </tr>\n",
       "    <tr>\n",
       "      <th>13</th>\n",
       "      <td>Jose</td>\n",
       "      <td>Oceans Eleven</td>\n",
       "      <td>5</td>\n",
       "    </tr>\n",
       "    <tr>\n",
       "      <th>14</th>\n",
       "      <td>Jose</td>\n",
       "      <td>The Lion King</td>\n",
       "      <td>3</td>\n",
       "    </tr>\n",
       "    <tr>\n",
       "      <th>15</th>\n",
       "      <td>Jose</td>\n",
       "      <td>Braveheart</td>\n",
       "      <td>4</td>\n",
       "    </tr>\n",
       "    <tr>\n",
       "      <th>16</th>\n",
       "      <td>Jose</td>\n",
       "      <td>Independence Day</td>\n",
       "      <td>4</td>\n",
       "    </tr>\n",
       "    <tr>\n",
       "      <th>17</th>\n",
       "      <td>Jose</td>\n",
       "      <td>Dumb and Dumber</td>\n",
       "      <td>5</td>\n",
       "    </tr>\n",
       "    <tr>\n",
       "      <th>18</th>\n",
       "      <td>Dave</td>\n",
       "      <td>The Princess Diaries</td>\n",
       "      <td>1</td>\n",
       "    </tr>\n",
       "    <tr>\n",
       "      <th>19</th>\n",
       "      <td>Dave</td>\n",
       "      <td>The Lion King</td>\n",
       "      <td>2</td>\n",
       "    </tr>\n",
       "    <tr>\n",
       "      <th>20</th>\n",
       "      <td>Dave</td>\n",
       "      <td>Braveheart</td>\n",
       "      <td>3</td>\n",
       "    </tr>\n",
       "    <tr>\n",
       "      <th>21</th>\n",
       "      <td>Dave</td>\n",
       "      <td>Independence Day</td>\n",
       "      <td>4</td>\n",
       "    </tr>\n",
       "    <tr>\n",
       "      <th>22</th>\n",
       "      <td>Dave</td>\n",
       "      <td>Dumb and Dumber</td>\n",
       "      <td>2</td>\n",
       "    </tr>\n",
       "  </tbody>\n",
       "</table>\n",
       "</div>"
      ],
      "text/plain": [
       "       user                  item  rating\n",
       "0   Jessica  The Princess Diaries       5\n",
       "1   Jessica         Oceans Eleven       2\n",
       "2   Jessica         The Lion King       4\n",
       "3   Jessica            Braveheart       3\n",
       "4   Jessica      Independence Day       2\n",
       "5   Jessica       Dumb and Dumber       3\n",
       "6     Marta  The Princess Diaries       4\n",
       "7     Marta         Oceans Eleven       3\n",
       "8     Marta         The Lion King       5\n",
       "9     Marta            Braveheart       4\n",
       "10    Marta      Independence Day       3\n",
       "11    Marta       Dumb and Dumber       2\n",
       "12     Jose  The Princess Diaries       1\n",
       "13     Jose         Oceans Eleven       5\n",
       "14     Jose         The Lion King       3\n",
       "15     Jose            Braveheart       4\n",
       "16     Jose      Independence Day       4\n",
       "17     Jose       Dumb and Dumber       5\n",
       "18     Dave  The Princess Diaries       1\n",
       "19     Dave         The Lion King       2\n",
       "20     Dave            Braveheart       3\n",
       "21     Dave      Independence Day       4\n",
       "22     Dave       Dumb and Dumber       2"
      ]
     },
     "execution_count": 2,
     "metadata": {},
     "output_type": "execute_result"
    }
   ],
   "source": [
    "import pandas as pd\n",
    "import numpy as np\n",
    "\n",
    "df = pd.read_csv('ratings_toy.csv', names=['user', 'item', 'rating'])\n",
    "df"
   ]
  },
  {
   "cell_type": "markdown",
   "id": "eb115bbe",
   "metadata": {},
   "source": [
    "## Mapeando usuários e itens para ids"
   ]
  },
  {
   "cell_type": "code",
   "execution_count": 3,
   "id": "1e488aa3",
   "metadata": {},
   "outputs": [
    {
     "data": {
      "text/html": [
       "<div>\n",
       "<style scoped>\n",
       "    .dataframe tbody tr th:only-of-type {\n",
       "        vertical-align: middle;\n",
       "    }\n",
       "\n",
       "    .dataframe tbody tr th {\n",
       "        vertical-align: top;\n",
       "    }\n",
       "\n",
       "    .dataframe thead th {\n",
       "        text-align: right;\n",
       "    }\n",
       "</style>\n",
       "<table border=\"1\" class=\"dataframe\">\n",
       "  <thead>\n",
       "    <tr style=\"text-align: right;\">\n",
       "      <th></th>\n",
       "      <th>user</th>\n",
       "      <th>item</th>\n",
       "      <th>rating</th>\n",
       "      <th>userId</th>\n",
       "      <th>itemId</th>\n",
       "    </tr>\n",
       "  </thead>\n",
       "  <tbody>\n",
       "    <tr>\n",
       "      <th>0</th>\n",
       "      <td>Jessica</td>\n",
       "      <td>The Princess Diaries</td>\n",
       "      <td>5</td>\n",
       "      <td>0</td>\n",
       "      <td>0</td>\n",
       "    </tr>\n",
       "    <tr>\n",
       "      <th>1</th>\n",
       "      <td>Jessica</td>\n",
       "      <td>Oceans Eleven</td>\n",
       "      <td>2</td>\n",
       "      <td>0</td>\n",
       "      <td>1</td>\n",
       "    </tr>\n",
       "    <tr>\n",
       "      <th>2</th>\n",
       "      <td>Jessica</td>\n",
       "      <td>The Lion King</td>\n",
       "      <td>4</td>\n",
       "      <td>0</td>\n",
       "      <td>2</td>\n",
       "    </tr>\n",
       "    <tr>\n",
       "      <th>3</th>\n",
       "      <td>Jessica</td>\n",
       "      <td>Braveheart</td>\n",
       "      <td>3</td>\n",
       "      <td>0</td>\n",
       "      <td>3</td>\n",
       "    </tr>\n",
       "    <tr>\n",
       "      <th>4</th>\n",
       "      <td>Jessica</td>\n",
       "      <td>Independence Day</td>\n",
       "      <td>2</td>\n",
       "      <td>0</td>\n",
       "      <td>4</td>\n",
       "    </tr>\n",
       "    <tr>\n",
       "      <th>5</th>\n",
       "      <td>Jessica</td>\n",
       "      <td>Dumb and Dumber</td>\n",
       "      <td>3</td>\n",
       "      <td>0</td>\n",
       "      <td>5</td>\n",
       "    </tr>\n",
       "    <tr>\n",
       "      <th>6</th>\n",
       "      <td>Marta</td>\n",
       "      <td>The Princess Diaries</td>\n",
       "      <td>4</td>\n",
       "      <td>1</td>\n",
       "      <td>0</td>\n",
       "    </tr>\n",
       "    <tr>\n",
       "      <th>7</th>\n",
       "      <td>Marta</td>\n",
       "      <td>Oceans Eleven</td>\n",
       "      <td>3</td>\n",
       "      <td>1</td>\n",
       "      <td>1</td>\n",
       "    </tr>\n",
       "    <tr>\n",
       "      <th>8</th>\n",
       "      <td>Marta</td>\n",
       "      <td>The Lion King</td>\n",
       "      <td>5</td>\n",
       "      <td>1</td>\n",
       "      <td>2</td>\n",
       "    </tr>\n",
       "    <tr>\n",
       "      <th>9</th>\n",
       "      <td>Marta</td>\n",
       "      <td>Braveheart</td>\n",
       "      <td>4</td>\n",
       "      <td>1</td>\n",
       "      <td>3</td>\n",
       "    </tr>\n",
       "    <tr>\n",
       "      <th>10</th>\n",
       "      <td>Marta</td>\n",
       "      <td>Independence Day</td>\n",
       "      <td>3</td>\n",
       "      <td>1</td>\n",
       "      <td>4</td>\n",
       "    </tr>\n",
       "    <tr>\n",
       "      <th>11</th>\n",
       "      <td>Marta</td>\n",
       "      <td>Dumb and Dumber</td>\n",
       "      <td>2</td>\n",
       "      <td>1</td>\n",
       "      <td>5</td>\n",
       "    </tr>\n",
       "    <tr>\n",
       "      <th>12</th>\n",
       "      <td>Jose</td>\n",
       "      <td>The Princess Diaries</td>\n",
       "      <td>1</td>\n",
       "      <td>2</td>\n",
       "      <td>0</td>\n",
       "    </tr>\n",
       "    <tr>\n",
       "      <th>13</th>\n",
       "      <td>Jose</td>\n",
       "      <td>Oceans Eleven</td>\n",
       "      <td>5</td>\n",
       "      <td>2</td>\n",
       "      <td>1</td>\n",
       "    </tr>\n",
       "    <tr>\n",
       "      <th>14</th>\n",
       "      <td>Jose</td>\n",
       "      <td>The Lion King</td>\n",
       "      <td>3</td>\n",
       "      <td>2</td>\n",
       "      <td>2</td>\n",
       "    </tr>\n",
       "    <tr>\n",
       "      <th>15</th>\n",
       "      <td>Jose</td>\n",
       "      <td>Braveheart</td>\n",
       "      <td>4</td>\n",
       "      <td>2</td>\n",
       "      <td>3</td>\n",
       "    </tr>\n",
       "    <tr>\n",
       "      <th>16</th>\n",
       "      <td>Jose</td>\n",
       "      <td>Independence Day</td>\n",
       "      <td>4</td>\n",
       "      <td>2</td>\n",
       "      <td>4</td>\n",
       "    </tr>\n",
       "    <tr>\n",
       "      <th>17</th>\n",
       "      <td>Jose</td>\n",
       "      <td>Dumb and Dumber</td>\n",
       "      <td>5</td>\n",
       "      <td>2</td>\n",
       "      <td>5</td>\n",
       "    </tr>\n",
       "    <tr>\n",
       "      <th>18</th>\n",
       "      <td>Dave</td>\n",
       "      <td>The Princess Diaries</td>\n",
       "      <td>1</td>\n",
       "      <td>3</td>\n",
       "      <td>0</td>\n",
       "    </tr>\n",
       "    <tr>\n",
       "      <th>19</th>\n",
       "      <td>Dave</td>\n",
       "      <td>The Lion King</td>\n",
       "      <td>2</td>\n",
       "      <td>3</td>\n",
       "      <td>2</td>\n",
       "    </tr>\n",
       "    <tr>\n",
       "      <th>20</th>\n",
       "      <td>Dave</td>\n",
       "      <td>Braveheart</td>\n",
       "      <td>3</td>\n",
       "      <td>3</td>\n",
       "      <td>3</td>\n",
       "    </tr>\n",
       "    <tr>\n",
       "      <th>21</th>\n",
       "      <td>Dave</td>\n",
       "      <td>Independence Day</td>\n",
       "      <td>4</td>\n",
       "      <td>3</td>\n",
       "      <td>4</td>\n",
       "    </tr>\n",
       "    <tr>\n",
       "      <th>22</th>\n",
       "      <td>Dave</td>\n",
       "      <td>Dumb and Dumber</td>\n",
       "      <td>2</td>\n",
       "      <td>3</td>\n",
       "      <td>5</td>\n",
       "    </tr>\n",
       "  </tbody>\n",
       "</table>\n",
       "</div>"
      ],
      "text/plain": [
       "       user                  item  rating  userId  itemId\n",
       "0   Jessica  The Princess Diaries       5       0       0\n",
       "1   Jessica         Oceans Eleven       2       0       1\n",
       "2   Jessica         The Lion King       4       0       2\n",
       "3   Jessica            Braveheart       3       0       3\n",
       "4   Jessica      Independence Day       2       0       4\n",
       "5   Jessica       Dumb and Dumber       3       0       5\n",
       "6     Marta  The Princess Diaries       4       1       0\n",
       "7     Marta         Oceans Eleven       3       1       1\n",
       "8     Marta         The Lion King       5       1       2\n",
       "9     Marta            Braveheart       4       1       3\n",
       "10    Marta      Independence Day       3       1       4\n",
       "11    Marta       Dumb and Dumber       2       1       5\n",
       "12     Jose  The Princess Diaries       1       2       0\n",
       "13     Jose         Oceans Eleven       5       2       1\n",
       "14     Jose         The Lion King       3       2       2\n",
       "15     Jose            Braveheart       4       2       3\n",
       "16     Jose      Independence Day       4       2       4\n",
       "17     Jose       Dumb and Dumber       5       2       5\n",
       "18     Dave  The Princess Diaries       1       3       0\n",
       "19     Dave         The Lion King       2       3       2\n",
       "20     Dave            Braveheart       3       3       3\n",
       "21     Dave      Independence Day       4       3       4\n",
       "22     Dave       Dumb and Dumber       2       3       5"
      ]
     },
     "execution_count": 3,
     "metadata": {},
     "output_type": "execute_result"
    }
   ],
   "source": [
    "map_users = {user: idx for idx, user in enumerate(df.user.unique())}\n",
    "map_items = {item: idx for idx, item in enumerate(df.item.unique())}\n",
    "df['userId'] = df['user'].map(map_users)\n",
    "df['itemId'] = df['item'].map(map_items)\n",
    "df"
   ]
  },
  {
   "cell_type": "markdown",
   "id": "b682194d",
   "metadata": {},
   "source": [
    "### Funções para obter informações específicas do DataFrame"
   ]
  },
  {
   "cell_type": "code",
   "execution_count": 4,
   "id": "fbf74e3b",
   "metadata": {},
   "outputs": [
    {
     "data": {
      "text/plain": [
       "2"
      ]
     },
     "execution_count": 4,
     "metadata": {},
     "output_type": "execute_result"
    }
   ],
   "source": [
    "# Obter a nota que um usuário deu para um item.\n",
    "def get_rating(userId,itemId):\n",
    "    if len(df[(df['userId']==userId)&(df['itemId']==itemId)]) == 0:\n",
    "        return 0\n",
    "    return (df.loc[(df.userId==userId) & (df.itemId == itemId),'rating'].iloc[0])\n",
    "\n",
    "get_rating(1, 5)"
   ]
  },
  {
   "cell_type": "code",
   "execution_count": 5,
   "id": "ad6f4352",
   "metadata": {},
   "outputs": [
    {
     "data": {
      "text/plain": [
       "[0, 1, 2, 3, 4, 5]"
      ]
     },
     "execution_count": 5,
     "metadata": {},
     "output_type": "execute_result"
    }
   ],
   "source": [
    "# Obter a lista de todos os itens que um usuário avaliou.\n",
    "def get_item_ids(userId):\n",
    "    if userId not in df['userId'].values:\n",
    "        return []\n",
    "    return (df.loc[(df.userId==userId),'itemId'].tolist())\n",
    "\n",
    "get_item_ids(0)"
   ]
  },
  {
   "cell_type": "code",
   "execution_count": 6,
   "id": "1623fa9e",
   "metadata": {},
   "outputs": [
    {
     "data": {
      "text/plain": [
       "'The Princess Diaries'"
      ]
     },
     "execution_count": 6,
     "metadata": {},
     "output_type": "execute_result"
    }
   ],
   "source": [
    "# Obter o título do item dado o seu id.\n",
    "def get_item_title(itemId):\n",
    "    if itemId not in df['itemId'].values:\n",
    "        return ''\n",
    "    return (df.loc[(df.itemId == itemId),'item'].iloc[0])\n",
    "\n",
    "get_item_title(0)"
   ]
  },
  {
   "cell_type": "code",
   "execution_count": 7,
   "id": "9506d7fa",
   "metadata": {},
   "outputs": [
    {
     "data": {
      "text/plain": [
       "[5, 2, 4, 3, 2, 3]"
      ]
     },
     "execution_count": 7,
     "metadata": {},
     "output_type": "execute_result"
    }
   ],
   "source": [
    "# Obter a lista de ratings de um usuário.\n",
    "def get_user_ratings(userId):\n",
    "    if userId not in df['userId'].values:\n",
    "        return []\n",
    "    return (df.loc[(df.userId==userId),'rating'].tolist())\n",
    "\n",
    "get_user_ratings(0)"
   ]
  },
  {
   "cell_type": "code",
   "execution_count": 8,
   "id": "dfe93608",
   "metadata": {},
   "outputs": [
    {
     "data": {
      "text/plain": [
       "3.5"
      ]
     },
     "execution_count": 8,
     "metadata": {},
     "output_type": "execute_result"
    }
   ],
   "source": [
    "# Obter a média de ratings de um usuário\n",
    "def get_user_mean(userId):\n",
    "    return np.mean(get_user_ratings(userId))\n",
    "\n",
    "get_user_mean(1)"
   ]
  },
  {
   "cell_type": "code",
   "execution_count": 9,
   "id": "8f987c6b",
   "metadata": {},
   "outputs": [
    {
     "data": {
      "text/plain": [
       "[4, 5, 3, 2]"
      ]
     },
     "execution_count": 9,
     "metadata": {},
     "output_type": "execute_result"
    }
   ],
   "source": [
    "# Obter a lista de todos os usuários que avaliaram o item\n",
    "def get_user_ids(itemId):\n",
    "    if itemId not in df['itemId'].values:\n",
    "        return []\n",
    "    return (df.loc[(df.itemId==itemId),'userId'].tolist())\n",
    "\n",
    "# Obter a média de notas do item\n",
    "def get_item_mean(itemId):\n",
    "    return np.mean(get_item_ratings(itemId))\n",
    "\n",
    "# Obter todas as notas do item\n",
    "def get_item_ratings(itemId):\n",
    "    if itemId not in df['itemId'].values:\n",
    "        return []\n",
    "    return (df.loc[(df.itemId==itemId),'rating'].tolist())\n",
    "\n",
    "get_item_ratings(2)"
   ]
  },
  {
   "cell_type": "markdown",
   "id": "9f257dc8",
   "metadata": {},
   "source": [
    "## Método Baseline"
   ]
  },
  {
   "cell_type": "code",
   "execution_count": 10,
   "id": "3b233943",
   "metadata": {},
   "outputs": [
    {
     "name": "stdout",
     "output_type": "stream",
     "text": [
      "{0: -0.04596273291925467, 1: 0.23975155279503105, 2: 0.3826086956521739, 3: -0.6695652173913044}\n",
      "{0: -0.37391304347826093, 1: 0.08695652173913038, 2: 0.22608695652173907, 3: 0.22608695652173907, 4: 0.02608695652173907, 5: -0.17391304347826092}\n"
     ]
    },
    {
     "data": {
      "text/plain": [
       "2.634782608695652"
      ]
     },
     "execution_count": 10,
     "metadata": {},
     "output_type": "execute_result"
    }
   ],
   "source": [
    "c = 1\n",
    "global_mean = df['rating'].mean()\n",
    "item_list = df['itemId'].unique()\n",
    "item_bias = {}\n",
    "for i in item_list:\n",
    "    users = get_user_ids(i)\n",
    "    item_bias[i] = sum((get_rating(u, i)-global_mean) for u in users) / (len(users) + c)\n",
    "\n",
    "user_list = df['userId'].unique()\n",
    "user_bias = {}\n",
    "for u in user_list:\n",
    "    items = get_item_ids(u)\n",
    "    user_bias[u] = sum((get_rating(u, i)-global_mean-item_bias[i]) for i in items) / (len(items) + c)\n",
    "\n",
    "print(user_bias)\n",
    "print(item_bias)\n",
    "\n",
    "pred = global_mean + user_bias[3] + item_bias[1]\n",
    "pred"
   ]
  },
  {
   "cell_type": "markdown",
   "id": "ba38cabc",
   "metadata": {},
   "source": [
    "## Singular Value Decomposition"
   ]
  },
  {
   "cell_type": "code",
   "execution_count": 11,
   "id": "251334a6",
   "metadata": {},
   "outputs": [
    {
     "data": {
      "text/plain": [
       "array([[5., 2., 4., 3., 2., 3.],\n",
       "       [4., 3., 5., 4., 3., 2.],\n",
       "       [1., 5., 3., 4., 4., 5.],\n",
       "       [1., 0., 2., 3., 4., 2.]])"
      ]
     },
     "execution_count": 11,
     "metadata": {},
     "output_type": "execute_result"
    }
   ],
   "source": [
    "rating_matrix = np.zeros((len(user_list), len(item_list)))\n",
    "for u in user_list:\n",
    "    for i in item_list:\n",
    "        rating_matrix[u][i] = get_rating(u, i)\n",
    "rating_matrix"
   ]
  },
  {
   "cell_type": "code",
   "execution_count": 12,
   "id": "9db3c708",
   "metadata": {},
   "outputs": [
    {
     "name": "stdout",
     "output_type": "stream",
     "text": [
      "[[-0.15566362  0.54387192 -0.49886556]\n",
      " [-0.02218797  0.37497062 -0.55809113]\n",
      " [-0.36289412 -0.72729484 -0.57732384]\n",
      " [ 0.9184685  -0.18612518 -0.32613591]]\n",
      "[ 3.01731438  4.47565753 15.51117567]\n",
      "[[-0.10323606 -0.72659376  0.00485871  0.24793116  0.61127417 -0.16203165]\n",
      " [ 0.73862266 -0.31812498  0.33429857 -0.07508542 -0.32196931 -0.36355944]\n",
      " [-0.36297391 -0.3583625  -0.46225775 -0.45236186 -0.4052461  -0.39659598]]\n"
     ]
    }
   ],
   "source": [
    "from scipy.sparse.linalg import svds\n",
    "\n",
    "p, s, qt = svds(rating_matrix, k=3)\n",
    "print(p)\n",
    "print(s)\n",
    "print(qt)"
   ]
  },
  {
   "cell_type": "code",
   "execution_count": 13,
   "id": "e7bcd1e1",
   "metadata": {},
   "outputs": [
    {
     "data": {
      "image/png": "[encoded data removed]",
      "text/plain": [
       "<Figure size 640x480 with 1 Axes>"
      ]
     },
     "metadata": {},
     "output_type": "display_data"
    }
   ],
   "source": [
    "import matplotlib.pyplot as plt\n",
    "\n",
    "xpoints = list(p[:,0]) + list(qt[0,:])\n",
    "ypoints = list(p[:,1]) + list(qt[1,:])\n",
    "labels = list(df['user'].unique()) + list(df['item'].unique())\n",
    "\n",
    "fig, ax = plt.subplots()\n",
    "ax.scatter(xpoints, ypoints)\n",
    "for i, txt in enumerate(labels):\n",
    "    ax.annotate(txt, (xpoints[i], ypoints[i]))\n",
    "\n",
    "plt.show()"
   ]
  },
  {
   "cell_type": "code",
   "execution_count": 14,
   "id": "6fd9ac92",
   "metadata": {},
   "outputs": [
    {
     "data": {
      "text/plain": [
       "array([[4.65512129, 2.33990199, 4.3884088 , 3.20115056, 2.06495117,\n",
       "        2.25998953],\n",
       "       [4.38863558, 2.61697256, 4.5623114 , 3.77332824, 2.92680808,\n",
       "        2.83390013],\n",
       "       [0.95915358, 5.04025699, 3.046002  , 4.02382368, 4.00769263,\n",
       "        4.91235533],\n",
       "       [0.93479912, 0.06426001, 2.07343045, 3.03802843, 4.01227931,\n",
       "        1.86009766]])"
      ]
     },
     "execution_count": 14,
     "metadata": {},
     "output_type": "execute_result"
    }
   ],
   "source": [
    "s_diagonal_matrix = np.diag(s)\n",
    "prediction_matrix = np.dot(np.dot(p, s_diagonal_matrix), qt)\n",
    "prediction_matrix"
   ]
  },
  {
   "cell_type": "markdown",
   "id": "6142ab5c",
   "metadata": {},
   "source": [
    "## FunkSVD"
   ]
  },
  {
   "cell_type": "markdown",
   "id": "04d68a02",
   "metadata": {},
   "source": [
    "### Importar base de dados"
   ]
  },
  {
   "cell_type": "code",
   "execution_count": 15,
   "id": "23c1ebaa",
   "metadata": {},
   "outputs": [
    {
     "name": "stdout",
     "output_type": "stream",
     "text": [
      "100% [....................................................] 65019041 / 65019041\n",
      "Saved under ml-20m-compact.tar (8).gz\n",
      "dataset/\n",
      "dataset/tags_sample.csv\n",
      "dataset/._.DS_Store\n",
      "dataset/.DS_Store\n",
      "dataset/movies_sample.csv\n",
      "dataset/._genome-tags.csv\n",
      "dataset/genome-tags.csv\n",
      "dataset/._ml-youtube.csv\n",
      "dataset/ml-youtube.csv\n",
      "dataset/._genome-scores.csv\n",
      "dataset/genome-scores.csv\n",
      "dataset/ratings_sample.csv\n"
     ]
    }
   ],
   "source": [
    "import wget\n",
    "!python3 -m wget https://github.com/mmanzato/MBABigData/raw/master/ml-20m-compact.tar.gz\n",
    "!tar -xvzf ml-20m-compact.tar.gz"
   ]
  },
  {
   "cell_type": "code",
   "execution_count": 16,
   "id": "b3e3dfb0",
   "metadata": {},
   "outputs": [
    {
     "data": {
      "text/html": [
       "<div>\n",
       "<style scoped>\n",
       "    .dataframe tbody tr th:only-of-type {\n",
       "        vertical-align: middle;\n",
       "    }\n",
       "\n",
       "    .dataframe tbody tr th {\n",
       "        vertical-align: top;\n",
       "    }\n",
       "\n",
       "    .dataframe thead th {\n",
       "        text-align: right;\n",
       "    }\n",
       "</style>\n",
       "<table border=\"1\" class=\"dataframe\">\n",
       "  <thead>\n",
       "    <tr style=\"text-align: right;\">\n",
       "      <th></th>\n",
       "      <th>userId</th>\n",
       "      <th>movieId</th>\n",
       "      <th>rating</th>\n",
       "      <th>title</th>\n",
       "    </tr>\n",
       "  </thead>\n",
       "  <tbody>\n",
       "    <tr>\n",
       "      <th>0</th>\n",
       "      <td>11</td>\n",
       "      <td>7481</td>\n",
       "      <td>5.0</td>\n",
       "      <td>Enemy Mine (1985)</td>\n",
       "    </tr>\n",
       "    <tr>\n",
       "      <th>1</th>\n",
       "      <td>11</td>\n",
       "      <td>1046</td>\n",
       "      <td>4.5</td>\n",
       "      <td>Beautiful Thing (1996)</td>\n",
       "    </tr>\n",
       "    <tr>\n",
       "      <th>2</th>\n",
       "      <td>11</td>\n",
       "      <td>616</td>\n",
       "      <td>4.0</td>\n",
       "      <td>Aristocats, The (1970)</td>\n",
       "    </tr>\n",
       "    <tr>\n",
       "      <th>3</th>\n",
       "      <td>11</td>\n",
       "      <td>3535</td>\n",
       "      <td>2.0</td>\n",
       "      <td>American Psycho (2000)</td>\n",
       "    </tr>\n",
       "    <tr>\n",
       "      <th>4</th>\n",
       "      <td>11</td>\n",
       "      <td>5669</td>\n",
       "      <td>5.0</td>\n",
       "      <td>Bowling for Columbine (2002)</td>\n",
       "    </tr>\n",
       "    <tr>\n",
       "      <th>...</th>\n",
       "      <td>...</td>\n",
       "      <td>...</td>\n",
       "      <td>...</td>\n",
       "      <td>...</td>\n",
       "    </tr>\n",
       "    <tr>\n",
       "      <th>190616</th>\n",
       "      <td>138493</td>\n",
       "      <td>288</td>\n",
       "      <td>5.0</td>\n",
       "      <td>Natural Born Killers (1994)</td>\n",
       "    </tr>\n",
       "    <tr>\n",
       "      <th>190617</th>\n",
       "      <td>138493</td>\n",
       "      <td>1748</td>\n",
       "      <td>5.0</td>\n",
       "      <td>Dark City (1998)</td>\n",
       "    </tr>\n",
       "    <tr>\n",
       "      <th>190618</th>\n",
       "      <td>138493</td>\n",
       "      <td>616</td>\n",
       "      <td>4.0</td>\n",
       "      <td>Aristocats, The (1970)</td>\n",
       "    </tr>\n",
       "    <tr>\n",
       "      <th>190619</th>\n",
       "      <td>138493</td>\n",
       "      <td>1597</td>\n",
       "      <td>4.5</td>\n",
       "      <td>Conspiracy Theory (1997)</td>\n",
       "    </tr>\n",
       "    <tr>\n",
       "      <th>190620</th>\n",
       "      <td>138493</td>\n",
       "      <td>7371</td>\n",
       "      <td>5.0</td>\n",
       "      <td>Dogville (2003)</td>\n",
       "    </tr>\n",
       "  </tbody>\n",
       "</table>\n",
       "<p>190621 rows × 4 columns</p>\n",
       "</div>"
      ],
      "text/plain": [
       "        userId  movieId  rating                         title\n",
       "0           11     7481     5.0             Enemy Mine (1985)\n",
       "1           11     1046     4.5        Beautiful Thing (1996)\n",
       "2           11      616     4.0        Aristocats, The (1970)\n",
       "3           11     3535     2.0        American Psycho (2000)\n",
       "4           11     5669     5.0  Bowling for Columbine (2002)\n",
       "...        ...      ...     ...                           ...\n",
       "190616  138493      288     5.0   Natural Born Killers (1994)\n",
       "190617  138493     1748     5.0              Dark City (1998)\n",
       "190618  138493      616     4.0        Aristocats, The (1970)\n",
       "190619  138493     1597     4.5      Conspiracy Theory (1997)\n",
       "190620  138493     7371     5.0               Dogville (2003)\n",
       "\n",
       "[190621 rows x 4 columns]"
      ]
     },
     "execution_count": 16,
     "metadata": {},
     "output_type": "execute_result"
    }
   ],
   "source": [
    "movies = pd.read_csv('./dataset/movies_sample.csv')\n",
    "ratings = pd.read_csv('./dataset/ratings_sample.csv')\n",
    "df = ratings[['userId', 'movieId', 'rating']]\n",
    "df = df.merge(movies[['movieId', 'title']])\n",
    "df"
   ]
  },
  {
   "cell_type": "markdown",
   "id": "f6ee831d",
   "metadata": {},
   "source": [
    "### Mapeamento de ids"
   ]
  },
  {
   "cell_type": "code",
   "execution_count": 17,
   "id": "e2964453",
   "metadata": {},
   "outputs": [],
   "source": [
    "map_users = {user: idx for idx, user in enumerate(df.userId.unique())}\n",
    "map_items = {item: idx for idx, item in enumerate(df.movieId.unique())}\n",
    "df['userId'] = df['userId'].map(map_users)\n",
    "df['movieId'] = df['movieId'].map(map_items)\n",
    "map_title = {}\n",
    "\n",
    "for _, row in df.iterrows():\n",
    "    map_title[row.movieId] = row.title\n"
   ]
  },
  {
   "cell_type": "markdown",
   "id": "8811ea00",
   "metadata": {},
   "source": [
    "### Divisão da base em treino e teste"
   ]
  },
  {
   "cell_type": "code",
   "execution_count": 18,
   "id": "79cfefac",
   "metadata": {},
   "outputs": [],
   "source": [
    "from sklearn.model_selection import train_test_split\n",
    "train, test = train_test_split(df, test_size=.2, random_state=2)"
   ]
  },
  {
   "cell_type": "markdown",
   "id": "a8df6695",
   "metadata": {},
   "source": [
    "### Treinamento do modelo"
   ]
  },
  {
   "cell_type": "code",
   "execution_count": 19,
   "id": "04a03ba9",
   "metadata": {},
   "outputs": [],
   "source": [
    "def train_funksvd(train, n_factors, lr=0.05, reg=0.02, miter=10):\n",
    "    global_mean = train['rating'].mean()\n",
    "    n_users = df['userId'].max()+1\n",
    "    n_items = df['movieId'].max()+1\n",
    "    bu = np.zeros(n_users)\n",
    "    bi = np.zeros(n_items)\n",
    "    p = np.random.normal(0.1, 0.1, (n_users, n_factors))\n",
    "    q = np.random.normal(0.1, 0.1, (n_items, n_factors))\n",
    "    for f in range(n_factors):\n",
    "        for t in range(miter):\n",
    "            for index, row in train.iterrows():\n",
    "                u = row['userId']\n",
    "                i = row['movieId']\n",
    "                r_ui = row['rating']\n",
    "                pred = global_mean + bu[u] + bi[i] + np.dot(p[u], q[i])\n",
    "                e_ui = r_ui - pred\n",
    "                bu[u] = bu[u] + lr * e_ui - reg*bu[u]\n",
    "                bi[i] = bi[i] + lr * e_ui - reg*bi[i]\n",
    "                temp_uf = p[u][f]\n",
    "                p[u][f] = p[u][f] + lr * (e_ui * q[i][f]   - reg * p[u][f])\n",
    "                q[i][f] = q[i][f] + lr * (e_ui * temp_uf - reg * q[i][f])\n",
    "    return global_mean, bu, bi, p, q"
   ]
  },
  {
   "cell_type": "code",
   "execution_count": 20,
   "id": "e5bfa064",
   "metadata": {},
   "outputs": [],
   "source": [
    "gl, bu, bi, p, q = train_funksvd(train, 2)"
   ]
  },
  {
   "cell_type": "code",
   "execution_count": 21,
   "id": "4cff6468",
   "metadata": {},
   "outputs": [
    {
     "data": {
      "text/html": [
       "<div>\n",
       "<style scoped>\n",
       "    .dataframe tbody tr th:only-of-type {\n",
       "        vertical-align: middle;\n",
       "    }\n",
       "\n",
       "    .dataframe tbody tr th {\n",
       "        vertical-align: top;\n",
       "    }\n",
       "\n",
       "    .dataframe thead th {\n",
       "        text-align: right;\n",
       "    }\n",
       "</style>\n",
       "<table border=\"1\" class=\"dataframe\">\n",
       "  <thead>\n",
       "    <tr style=\"text-align: right;\">\n",
       "      <th></th>\n",
       "      <th>userId</th>\n",
       "      <th>movieId</th>\n",
       "      <th>rating</th>\n",
       "      <th>title</th>\n",
       "    </tr>\n",
       "  </thead>\n",
       "  <tbody>\n",
       "    <tr>\n",
       "      <th>31477</th>\n",
       "      <td>1836</td>\n",
       "      <td>60</td>\n",
       "      <td>2.5</td>\n",
       "      <td>She's the Man (2006)</td>\n",
       "    </tr>\n",
       "    <tr>\n",
       "      <th>148621</th>\n",
       "      <td>8646</td>\n",
       "      <td>33</td>\n",
       "      <td>3.5</td>\n",
       "      <td>North by Northwest (1959)</td>\n",
       "    </tr>\n",
       "    <tr>\n",
       "      <th>25190</th>\n",
       "      <td>1464</td>\n",
       "      <td>19</td>\n",
       "      <td>4.5</td>\n",
       "      <td>Reservoir Dogs (1992)</td>\n",
       "    </tr>\n",
       "    <tr>\n",
       "      <th>91518</th>\n",
       "      <td>5315</td>\n",
       "      <td>33</td>\n",
       "      <td>5.0</td>\n",
       "      <td>North by Northwest (1959)</td>\n",
       "    </tr>\n",
       "    <tr>\n",
       "      <th>113446</th>\n",
       "      <td>6571</td>\n",
       "      <td>18</td>\n",
       "      <td>4.0</td>\n",
       "      <td>Life Is Beautiful (La Vita è bella) (1997)</td>\n",
       "    </tr>\n",
       "  </tbody>\n",
       "</table>\n",
       "</div>"
      ],
      "text/plain": [
       "        userId  movieId  rating                                       title\n",
       "31477     1836       60     2.5                        She's the Man (2006)\n",
       "148621    8646       33     3.5                   North by Northwest (1959)\n",
       "25190     1464       19     4.5                       Reservoir Dogs (1992)\n",
       "91518     5315       33     5.0                   North by Northwest (1959)\n",
       "113446    6571       18     4.0  Life Is Beautiful (La Vita è bella) (1997)"
      ]
     },
     "execution_count": 21,
     "metadata": {},
     "output_type": "execute_result"
    }
   ],
   "source": [
    "test.head()"
   ]
  },
  {
   "cell_type": "code",
   "execution_count": 22,
   "id": "abd1c72c",
   "metadata": {},
   "outputs": [
    {
     "data": {
      "text/plain": [
       "3.0080106473297414"
      ]
     },
     "execution_count": 22,
     "metadata": {},
     "output_type": "execute_result"
    }
   ],
   "source": [
    "pred = gl + bu[7646] + bi[9] + np.dot(p[7646], q[9])\n",
    "pred"
   ]
  },
  {
   "cell_type": "markdown",
   "id": "392b7d26",
   "metadata": {},
   "source": [
    "## SVD Otimizado"
   ]
  },
  {
   "cell_type": "code",
   "execution_count": 23,
   "id": "4365a23a",
   "metadata": {},
   "outputs": [],
   "source": [
    "from math import sqrt\n",
    "\n",
    "def train_svdopt(train, n_factors, lr=0.05, reg=0.02, miter=10):\n",
    "    global_mean = train['rating'].mean()\n",
    "    n_users = df['userId'].max()+1\n",
    "    n_items = df['movieId'].max()+1\n",
    "    bu = np.zeros(n_users)\n",
    "    bi = np.zeros(n_items)\n",
    "    p = np.random.normal(0.1, 0.1, (n_users, n_factors))\n",
    "    q = np.random.normal(0.1, 0.1, (n_items, n_factors))\n",
    "    error = []\n",
    "    for t in range(miter):\n",
    "        sq_error = 0\n",
    "        for index, row in train.iterrows():\n",
    "            u = row['userId']\n",
    "            i = row['movieId']\n",
    "            r_ui = row['rating']\n",
    "            pred = global_mean + bu[u] + bi[i] + np.dot(p[u], q[i])\n",
    "            e_ui = r_ui - pred\n",
    "            sq_error = sq_error + pow(e_ui, 2)\n",
    "            bu[u] = bu[u] + lr * e_ui\n",
    "            bi[i] = bi[i] + lr * e_ui\n",
    "            for f in range(n_factors):\n",
    "                temp_uf = p[u][f]\n",
    "                p[u][f] = p[u][f] + lr * (e_ui * q[i][f] - reg * p[u][f])\n",
    "                q[i][f] = q[i][f] + lr * (e_ui * temp_uf - reg * q[i][f])\n",
    "        error.append(sqrt(sq_error/len(train)))\n",
    "    \n",
    "    return global_mean, bu, bi, p, q, error"
   ]
  },
  {
   "cell_type": "code",
   "execution_count": 28,
   "id": "b6a00d0b",
   "metadata": {},
   "outputs": [],
   "source": [
    "gl, bu, bi, p, q, error = train_svdopt(train, 2, miter=10)"
   ]
  },
  {
   "cell_type": "code",
   "execution_count": 29,
   "id": "928fe781",
   "metadata": {},
   "outputs": [
    {
     "data": {
      "image/png": "[encoded data removed]",
      "text/plain": [
       "<Figure size 640x480 with 1 Axes>"
      ]
     },
     "metadata": {},
     "output_type": "display_data"
    }
   ],
   "source": [
    "plt.plot(error)\n",
    "plt.show()"
   ]
  },
  {
   "cell_type": "code",
   "execution_count": 30,
   "id": "43c5094f",
   "metadata": {},
   "outputs": [
    {
     "data": {
      "text/html": [
       "<div>\n",
       "<style scoped>\n",
       "    .dataframe tbody tr th:only-of-type {\n",
       "        vertical-align: middle;\n",
       "    }\n",
       "\n",
       "    .dataframe tbody tr th {\n",
       "        vertical-align: top;\n",
       "    }\n",
       "\n",
       "    .dataframe thead th {\n",
       "        text-align: right;\n",
       "    }\n",
       "</style>\n",
       "<table border=\"1\" class=\"dataframe\">\n",
       "  <thead>\n",
       "    <tr style=\"text-align: right;\">\n",
       "      <th></th>\n",
       "      <th>userId</th>\n",
       "      <th>movieId</th>\n",
       "      <th>rating</th>\n",
       "      <th>title</th>\n",
       "    </tr>\n",
       "  </thead>\n",
       "  <tbody>\n",
       "    <tr>\n",
       "      <th>31477</th>\n",
       "      <td>1836</td>\n",
       "      <td>60</td>\n",
       "      <td>2.5</td>\n",
       "      <td>She's the Man (2006)</td>\n",
       "    </tr>\n",
       "    <tr>\n",
       "      <th>148621</th>\n",
       "      <td>8646</td>\n",
       "      <td>33</td>\n",
       "      <td>3.5</td>\n",
       "      <td>North by Northwest (1959)</td>\n",
       "    </tr>\n",
       "    <tr>\n",
       "      <th>25190</th>\n",
       "      <td>1464</td>\n",
       "      <td>19</td>\n",
       "      <td>4.5</td>\n",
       "      <td>Reservoir Dogs (1992)</td>\n",
       "    </tr>\n",
       "    <tr>\n",
       "      <th>91518</th>\n",
       "      <td>5315</td>\n",
       "      <td>33</td>\n",
       "      <td>5.0</td>\n",
       "      <td>North by Northwest (1959)</td>\n",
       "    </tr>\n",
       "    <tr>\n",
       "      <th>113446</th>\n",
       "      <td>6571</td>\n",
       "      <td>18</td>\n",
       "      <td>4.0</td>\n",
       "      <td>Life Is Beautiful (La Vita è bella) (1997)</td>\n",
       "    </tr>\n",
       "  </tbody>\n",
       "</table>\n",
       "</div>"
      ],
      "text/plain": [
       "        userId  movieId  rating                                       title\n",
       "31477     1836       60     2.5                        She's the Man (2006)\n",
       "148621    8646       33     3.5                   North by Northwest (1959)\n",
       "25190     1464       19     4.5                       Reservoir Dogs (1992)\n",
       "91518     5315       33     5.0                   North by Northwest (1959)\n",
       "113446    6571       18     4.0  Life Is Beautiful (La Vita è bella) (1997)"
      ]
     },
     "execution_count": 30,
     "metadata": {},
     "output_type": "execute_result"
    }
   ],
   "source": [
    "test.head()"
   ]
  },
  {
   "cell_type": "code",
   "execution_count": 31,
   "id": "fe6aed32",
   "metadata": {},
   "outputs": [
    {
     "data": {
      "text/plain": [
       "3.784083391333478"
      ]
     },
     "execution_count": 31,
     "metadata": {},
     "output_type": "execute_result"
    }
   ],
   "source": [
    "pred = gl + bu[991] + bi[25] + np.dot(p[991], q[25])\n",
    "pred"
   ]
  },
  {
   "cell_type": "code",
   "execution_count": null,
   "id": "bb05e1e1-8a2a-44ba-ad88-4de891af2275",
   "metadata": {},
   "outputs": [],
   "source": []
  }
 ],
 "metadata": {
  "kernelspec": {
   "display_name": "Python 3 (ipykernel)",
   "language": "python",
   "name": "python3"
  },
  "language_info": {
   "codemirror_mode": {
    "name": "ipython",
    "version": 3
   },
   "file_extension": ".py",
   "mimetype": "text/x-python",
   "name": "python",
   "nbconvert_exporter": "python",
   "pygments_lexer": "ipython3",
   "version": "3.10.12"
  }
 },
 "nbformat": 4,
 "nbformat_minor": 5
}
