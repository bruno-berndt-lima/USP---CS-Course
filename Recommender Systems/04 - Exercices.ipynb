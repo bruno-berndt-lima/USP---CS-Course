{
 "cells": [
  {
   "cell_type": "markdown",
   "id": "bb8764ef",
   "metadata": {},
   "source": [
    "# Aula 05 - Avaliação de Sistemas de Recomendação - Exercícios"
   ]
  },
  {
   "cell_type": "code",
   "execution_count": 2,
   "id": "397a5f1d",
   "metadata": {},
   "outputs": [],
   "source": [
    "import pandas as pd\n",
    "import numpy as np"
   ]
  },
  {
   "cell_type": "markdown",
   "id": "29ac21fe",
   "metadata": {},
   "source": [
    "### Importar base de dados"
   ]
  },
  {
   "cell_type": "code",
   "execution_count": 4,
   "id": "59c840c6",
   "metadata": {},
   "outputs": [
    {
     "name": "stdout",
     "output_type": "stream",
     "text": [
      "\n",
      "Saved under ml-20m-compact.tar (25).gz\n"
     ]
    },
    {
     "name": "stderr",
     "output_type": "stream",
     "text": [
      "x dataset/\n",
      "x dataset/tags_sample.csv\n",
      "x dataset/._.DS_Store\n",
      "x dataset/.DS_Store\n",
      "x dataset/movies_sample.csv\n",
      "x dataset/._genome-tags.csv\n",
      "x dataset/genome-tags.csv\n",
      "x dataset/._ml-youtube.csv\n",
      "x dataset/ml-youtube.csv\n",
      "x dataset/._genome-scores.csv\n",
      "x dataset/genome-scores.csv\n",
      "x dataset/ratings_sample.csv\n"
     ]
    }
   ],
   "source": [
    "import wget\n",
    "!python3 -m wget https://github.com/mmanzato/MBABigData/raw/master/ml-20m-compact.tar.gz\n",
    "!tar -xvzf ml-20m-compact.tar.gz"
   ]
  },
  {
   "cell_type": "code",
   "execution_count": 5,
   "id": "629b525d",
   "metadata": {},
   "outputs": [
    {
     "data": {
      "text/html": [
       "<div>\n",
       "<style scoped>\n",
       "    .dataframe tbody tr th:only-of-type {\n",
       "        vertical-align: middle;\n",
       "    }\n",
       "\n",
       "    .dataframe tbody tr th {\n",
       "        vertical-align: top;\n",
       "    }\n",
       "\n",
       "    .dataframe thead th {\n",
       "        text-align: right;\n",
       "    }\n",
       "</style>\n",
       "<table border=\"1\" class=\"dataframe\">\n",
       "  <thead>\n",
       "    <tr style=\"text-align: right;\">\n",
       "      <th></th>\n",
       "      <th>userId</th>\n",
       "      <th>movieId</th>\n",
       "      <th>rating</th>\n",
       "      <th>title</th>\n",
       "    </tr>\n",
       "  </thead>\n",
       "  <tbody>\n",
       "    <tr>\n",
       "      <th>0</th>\n",
       "      <td>11</td>\n",
       "      <td>7481</td>\n",
       "      <td>5.0</td>\n",
       "      <td>Enemy Mine (1985)</td>\n",
       "    </tr>\n",
       "    <tr>\n",
       "      <th>1</th>\n",
       "      <td>11</td>\n",
       "      <td>1046</td>\n",
       "      <td>4.5</td>\n",
       "      <td>Beautiful Thing (1996)</td>\n",
       "    </tr>\n",
       "    <tr>\n",
       "      <th>2</th>\n",
       "      <td>11</td>\n",
       "      <td>616</td>\n",
       "      <td>4.0</td>\n",
       "      <td>Aristocats, The (1970)</td>\n",
       "    </tr>\n",
       "    <tr>\n",
       "      <th>3</th>\n",
       "      <td>11</td>\n",
       "      <td>3535</td>\n",
       "      <td>2.0</td>\n",
       "      <td>American Psycho (2000)</td>\n",
       "    </tr>\n",
       "    <tr>\n",
       "      <th>4</th>\n",
       "      <td>11</td>\n",
       "      <td>5669</td>\n",
       "      <td>5.0</td>\n",
       "      <td>Bowling for Columbine (2002)</td>\n",
       "    </tr>\n",
       "    <tr>\n",
       "      <th>...</th>\n",
       "      <td>...</td>\n",
       "      <td>...</td>\n",
       "      <td>...</td>\n",
       "      <td>...</td>\n",
       "    </tr>\n",
       "    <tr>\n",
       "      <th>190616</th>\n",
       "      <td>138493</td>\n",
       "      <td>288</td>\n",
       "      <td>5.0</td>\n",
       "      <td>Natural Born Killers (1994)</td>\n",
       "    </tr>\n",
       "    <tr>\n",
       "      <th>190617</th>\n",
       "      <td>138493</td>\n",
       "      <td>1748</td>\n",
       "      <td>5.0</td>\n",
       "      <td>Dark City (1998)</td>\n",
       "    </tr>\n",
       "    <tr>\n",
       "      <th>190618</th>\n",
       "      <td>138493</td>\n",
       "      <td>616</td>\n",
       "      <td>4.0</td>\n",
       "      <td>Aristocats, The (1970)</td>\n",
       "    </tr>\n",
       "    <tr>\n",
       "      <th>190619</th>\n",
       "      <td>138493</td>\n",
       "      <td>1597</td>\n",
       "      <td>4.5</td>\n",
       "      <td>Conspiracy Theory (1997)</td>\n",
       "    </tr>\n",
       "    <tr>\n",
       "      <th>190620</th>\n",
       "      <td>138493</td>\n",
       "      <td>7371</td>\n",
       "      <td>5.0</td>\n",
       "      <td>Dogville (2003)</td>\n",
       "    </tr>\n",
       "  </tbody>\n",
       "</table>\n",
       "<p>190621 rows × 4 columns</p>\n",
       "</div>"
      ],
      "text/plain": [
       "        userId  movieId  rating                         title\n",
       "0           11     7481     5.0             Enemy Mine (1985)\n",
       "1           11     1046     4.5        Beautiful Thing (1996)\n",
       "2           11      616     4.0        Aristocats, The (1970)\n",
       "3           11     3535     2.0        American Psycho (2000)\n",
       "4           11     5669     5.0  Bowling for Columbine (2002)\n",
       "...        ...      ...     ...                           ...\n",
       "190616  138493      288     5.0   Natural Born Killers (1994)\n",
       "190617  138493     1748     5.0              Dark City (1998)\n",
       "190618  138493      616     4.0        Aristocats, The (1970)\n",
       "190619  138493     1597     4.5      Conspiracy Theory (1997)\n",
       "190620  138493     7371     5.0               Dogville (2003)\n",
       "\n",
       "[190621 rows x 4 columns]"
      ]
     },
     "execution_count": 5,
     "metadata": {},
     "output_type": "execute_result"
    }
   ],
   "source": [
    "movies = pd.read_csv('./dataset/movies_sample.csv')\n",
    "ratings = pd.read_csv('./dataset/ratings_sample.csv')\n",
    "df = ratings[['userId', 'movieId', 'rating']]\n",
    "df = df.merge(movies[['movieId', 'title']])\n",
    "df"
   ]
  },
  {
   "cell_type": "code",
   "execution_count": 6,
   "id": "5cb5c6d2",
   "metadata": {},
   "outputs": [
    {
     "data": {
      "text/html": [
       "<div>\n",
       "<style scoped>\n",
       "    .dataframe tbody tr th:only-of-type {\n",
       "        vertical-align: middle;\n",
       "    }\n",
       "\n",
       "    .dataframe tbody tr th {\n",
       "        vertical-align: top;\n",
       "    }\n",
       "\n",
       "    .dataframe thead th {\n",
       "        text-align: right;\n",
       "    }\n",
       "</style>\n",
       "<table border=\"1\" class=\"dataframe\">\n",
       "  <thead>\n",
       "    <tr style=\"text-align: right;\">\n",
       "      <th></th>\n",
       "      <th>movieId</th>\n",
       "      <th>title</th>\n",
       "      <th>genre</th>\n",
       "    </tr>\n",
       "  </thead>\n",
       "  <tbody>\n",
       "    <tr>\n",
       "      <th>0</th>\n",
       "      <td>30</td>\n",
       "      <td>Shanghai Triad (Yao a yao yao dao waipo qiao) ...</td>\n",
       "      <td>Crime</td>\n",
       "    </tr>\n",
       "    <tr>\n",
       "      <th>0</th>\n",
       "      <td>30</td>\n",
       "      <td>Shanghai Triad (Yao a yao yao dao waipo qiao) ...</td>\n",
       "      <td>Drama</td>\n",
       "    </tr>\n",
       "    <tr>\n",
       "      <th>1</th>\n",
       "      <td>31</td>\n",
       "      <td>Dangerous Minds (1995)</td>\n",
       "      <td>Drama</td>\n",
       "    </tr>\n",
       "    <tr>\n",
       "      <th>2</th>\n",
       "      <td>37</td>\n",
       "      <td>Across the Sea of Time (1995)</td>\n",
       "      <td>Documentary</td>\n",
       "    </tr>\n",
       "    <tr>\n",
       "      <th>2</th>\n",
       "      <td>37</td>\n",
       "      <td>Across the Sea of Time (1995)</td>\n",
       "      <td>IMAX</td>\n",
       "    </tr>\n",
       "  </tbody>\n",
       "</table>\n",
       "</div>"
      ],
      "text/plain": [
       "   movieId                                              title        genre\n",
       "0       30  Shanghai Triad (Yao a yao yao dao waipo qiao) ...        Crime\n",
       "0       30  Shanghai Triad (Yao a yao yao dao waipo qiao) ...        Drama\n",
       "1       31                             Dangerous Minds (1995)        Drama\n",
       "2       37                      Across the Sea of Time (1995)  Documentary\n",
       "2       37                      Across the Sea of Time (1995)         IMAX"
      ]
     },
     "execution_count": 6,
     "metadata": {},
     "output_type": "execute_result"
    }
   ],
   "source": [
    "movies_genres = movies.drop('genres', axis=1).join(movies.genres.str.split('|', expand=True)\n",
    "             .stack().reset_index(drop=True, level=1).rename('genre'))\n",
    "movies_genres.head()"
   ]
  },
  {
   "cell_type": "code",
   "execution_count": 7,
   "id": "d1a785c3",
   "metadata": {},
   "outputs": [
    {
     "data": {
      "text/html": [
       "<div>\n",
       "<style scoped>\n",
       "    .dataframe tbody tr th:only-of-type {\n",
       "        vertical-align: middle;\n",
       "    }\n",
       "\n",
       "    .dataframe tbody tr th {\n",
       "        vertical-align: top;\n",
       "    }\n",
       "\n",
       "    .dataframe thead th {\n",
       "        text-align: right;\n",
       "    }\n",
       "</style>\n",
       "<table border=\"1\" class=\"dataframe\">\n",
       "  <thead>\n",
       "    <tr style=\"text-align: right;\">\n",
       "      <th></th>\n",
       "      <th>userId</th>\n",
       "      <th>movieId</th>\n",
       "      <th>tag</th>\n",
       "      <th>timestamp_y</th>\n",
       "    </tr>\n",
       "  </thead>\n",
       "  <tbody>\n",
       "    <tr>\n",
       "      <th>0</th>\n",
       "      <td>279</td>\n",
       "      <td>916</td>\n",
       "      <td>Gregory Peck</td>\n",
       "      <td>1329962459</td>\n",
       "    </tr>\n",
       "    <tr>\n",
       "      <th>1</th>\n",
       "      <td>279</td>\n",
       "      <td>916</td>\n",
       "      <td>need to own</td>\n",
       "      <td>1329962471</td>\n",
       "    </tr>\n",
       "    <tr>\n",
       "      <th>2</th>\n",
       "      <td>279</td>\n",
       "      <td>916</td>\n",
       "      <td>romantic comedy</td>\n",
       "      <td>1329962476</td>\n",
       "    </tr>\n",
       "    <tr>\n",
       "      <th>3</th>\n",
       "      <td>279</td>\n",
       "      <td>916</td>\n",
       "      <td>Rome</td>\n",
       "      <td>1329962490</td>\n",
       "    </tr>\n",
       "    <tr>\n",
       "      <th>4</th>\n",
       "      <td>279</td>\n",
       "      <td>916</td>\n",
       "      <td>royalty</td>\n",
       "      <td>1329962474</td>\n",
       "    </tr>\n",
       "  </tbody>\n",
       "</table>\n",
       "</div>"
      ],
      "text/plain": [
       "   userId  movieId              tag  timestamp_y\n",
       "0     279      916     Gregory Peck   1329962459\n",
       "1     279      916      need to own   1329962471\n",
       "2     279      916  romantic comedy   1329962476\n",
       "3     279      916             Rome   1329962490\n",
       "4     279      916          royalty   1329962474"
      ]
     },
     "execution_count": 7,
     "metadata": {},
     "output_type": "execute_result"
    }
   ],
   "source": [
    "movies_tags = pd.read_csv('./dataset/tags_sample.csv')\n",
    "movies_tags.head()"
   ]
  },
  {
   "cell_type": "code",
   "execution_count": 8,
   "id": "626bcde9",
   "metadata": {},
   "outputs": [],
   "source": [
    "map_users = {user: idx for idx, user in enumerate(df.userId.unique())}\n",
    "map_items = {item: idx for idx, item in enumerate(df.movieId.unique())}\n",
    "\n",
    "df['userId'] = df['userId'].map(map_users)\n",
    "df['movieId'] = df['movieId'].map(map_items)\n",
    "\n",
    "movies_tags['userId'] = movies_tags['userId'].map(map_users)\n",
    "movies_tags['movieId'] = movies_tags['movieId'].map(map_items)\n",
    "movies_tags.dropna(inplace=True)\n",
    "movies_tags['movieId'] = movies_tags.movieId.astype(int)\n",
    "movies_tags['userId'] = movies_tags.userId.astype(int)\n",
    "\n",
    "movies_genres['movieId'] = movies_genres['movieId'].map(map_items)\n",
    "movies_genres.dropna(inplace=True)\n",
    "movies_genres['movieId'] = movies_genres.movieId.astype(int)\n",
    "\n",
    "map_title = {}\n",
    "for _, row in df.iterrows():\n",
    "    map_title[row.movieId] = row.title\n"
   ]
  },
  {
   "cell_type": "code",
   "execution_count": 9,
   "id": "282a2cfe",
   "metadata": {},
   "outputs": [],
   "source": [
    "movies_genres[['movieId', 'genre']].to_csv('items_genres.dat', index=False, sep='\\t', header=False)\n",
    "movies_tags[['movieId', 'tag']].to_csv('items_tags.dat', index=False, sep='\\t', header=False)"
   ]
  },
  {
   "cell_type": "markdown",
   "id": "3a67cae4",
   "metadata": {},
   "source": [
    "### Divisão da base em treino e teste"
   ]
  },
  {
   "cell_type": "code",
   "execution_count": 11,
   "id": "22f77461",
   "metadata": {},
   "outputs": [
    {
     "data": {
      "text/html": [
       "<div>\n",
       "<style scoped>\n",
       "    .dataframe tbody tr th:only-of-type {\n",
       "        vertical-align: middle;\n",
       "    }\n",
       "\n",
       "    .dataframe tbody tr th {\n",
       "        vertical-align: top;\n",
       "    }\n",
       "\n",
       "    .dataframe thead th {\n",
       "        text-align: right;\n",
       "    }\n",
       "</style>\n",
       "<table border=\"1\" class=\"dataframe\">\n",
       "  <thead>\n",
       "    <tr style=\"text-align: right;\">\n",
       "      <th></th>\n",
       "      <th>userId</th>\n",
       "      <th>movieId</th>\n",
       "      <th>rating</th>\n",
       "      <th>title</th>\n",
       "    </tr>\n",
       "  </thead>\n",
       "  <tbody>\n",
       "    <tr>\n",
       "      <th>51276</th>\n",
       "      <td>2985</td>\n",
       "      <td>88</td>\n",
       "      <td>2.5</td>\n",
       "      <td>Prince &amp; Me, The (2004)</td>\n",
       "    </tr>\n",
       "    <tr>\n",
       "      <th>125583</th>\n",
       "      <td>7302</td>\n",
       "      <td>222</td>\n",
       "      <td>5.0</td>\n",
       "      <td>Earrings of Madame de..., The (Madame de...) (...</td>\n",
       "    </tr>\n",
       "    <tr>\n",
       "      <th>150073</th>\n",
       "      <td>8729</td>\n",
       "      <td>82</td>\n",
       "      <td>2.0</td>\n",
       "      <td>Australia (2008)</td>\n",
       "    </tr>\n",
       "    <tr>\n",
       "      <th>186571</th>\n",
       "      <td>10853</td>\n",
       "      <td>17</td>\n",
       "      <td>3.0</td>\n",
       "      <td>Chasing Amy (1997)</td>\n",
       "    </tr>\n",
       "    <tr>\n",
       "      <th>38278</th>\n",
       "      <td>2230</td>\n",
       "      <td>27</td>\n",
       "      <td>3.0</td>\n",
       "      <td>Zero Effect (1998)</td>\n",
       "    </tr>\n",
       "    <tr>\n",
       "      <th>...</th>\n",
       "      <td>...</td>\n",
       "      <td>...</td>\n",
       "      <td>...</td>\n",
       "      <td>...</td>\n",
       "    </tr>\n",
       "    <tr>\n",
       "      <th>162091</th>\n",
       "      <td>9437</td>\n",
       "      <td>12</td>\n",
       "      <td>4.0</td>\n",
       "      <td>Star Wars: Episode V - The Empire Strikes Back...</td>\n",
       "    </tr>\n",
       "    <tr>\n",
       "      <th>175638</th>\n",
       "      <td>10230</td>\n",
       "      <td>16</td>\n",
       "      <td>2.0</td>\n",
       "      <td>Rush Hour 2 (2001)</td>\n",
       "    </tr>\n",
       "    <tr>\n",
       "      <th>95816</th>\n",
       "      <td>5556</td>\n",
       "      <td>41</td>\n",
       "      <td>4.5</td>\n",
       "      <td>Dangerous Beauty (1998)</td>\n",
       "    </tr>\n",
       "    <tr>\n",
       "      <th>100879</th>\n",
       "      <td>5846</td>\n",
       "      <td>8</td>\n",
       "      <td>2.0</td>\n",
       "      <td>Karate Kid, The (1984)</td>\n",
       "    </tr>\n",
       "    <tr>\n",
       "      <th>89256</th>\n",
       "      <td>5184</td>\n",
       "      <td>22</td>\n",
       "      <td>3.0</td>\n",
       "      <td>Natural Born Killers (1994)</td>\n",
       "    </tr>\n",
       "  </tbody>\n",
       "</table>\n",
       "<p>152496 rows × 4 columns</p>\n",
       "</div>"
      ],
      "text/plain": [
       "        userId  movieId  rating  \\\n",
       "51276     2985       88     2.5   \n",
       "125583    7302      222     5.0   \n",
       "150073    8729       82     2.0   \n",
       "186571   10853       17     3.0   \n",
       "38278     2230       27     3.0   \n",
       "...        ...      ...     ...   \n",
       "162091    9437       12     4.0   \n",
       "175638   10230       16     2.0   \n",
       "95816     5556       41     4.5   \n",
       "100879    5846        8     2.0   \n",
       "89256     5184       22     3.0   \n",
       "\n",
       "                                                    title  \n",
       "51276                             Prince & Me, The (2004)  \n",
       "125583  Earrings of Madame de..., The (Madame de...) (...  \n",
       "150073                                   Australia (2008)  \n",
       "186571                                 Chasing Amy (1997)  \n",
       "38278                                  Zero Effect (1998)  \n",
       "...                                                   ...  \n",
       "162091  Star Wars: Episode V - The Empire Strikes Back...  \n",
       "175638                                 Rush Hour 2 (2001)  \n",
       "95816                             Dangerous Beauty (1998)  \n",
       "100879                             Karate Kid, The (1984)  \n",
       "89256                         Natural Born Killers (1994)  \n",
       "\n",
       "[152496 rows x 4 columns]"
      ]
     },
     "execution_count": 11,
     "metadata": {},
     "output_type": "execute_result"
    }
   ],
   "source": [
    "from sklearn.model_selection import train_test_split\n",
    "train, test = train_test_split(df, test_size=.2, random_state=2)\n",
    "train.to_csv('train.dat', index=False, header=False, sep='\\t')\n",
    "test.to_csv('test.dat', index=False, header=False, sep='\\t')\n",
    "train"
   ]
  },
  {
   "cell_type": "markdown",
   "id": "580a1494",
   "metadata": {},
   "source": [
    "### Exemplos de utilização do CaseRecommender"
   ]
  },
  {
   "cell_type": "code",
   "execution_count": 13,
   "id": "75bbbd2d",
   "metadata": {},
   "outputs": [
    {
     "name": "stdout",
     "output_type": "stream",
     "text": [
      "[Case Recommender: Rating Prediction > Item Attribute KNN Algorithm]\n",
      "\n",
      "train data:: 11090 users and 405 items (152496 interactions) | sparsity:: 96.60%\n",
      "test data:: 10571 users and 331 items (38125 interactions) | sparsity:: 98.91%\n",
      "\n",
      "training_time:: 5.077804 sec\n",
      ">> metadata:: 417 items and 20 metadata (890 interactions) | sparsity:: 89.33%\n",
      "prediction_time:: 0.708069 sec\n",
      "Eval:: MAE: 0.73347 RMSE: 0.964352 \n",
      "[Case Recommender: Rating Prediction > Item Attribute KNN Algorithm]\n",
      "\n",
      "train data:: 11090 users and 405 items (152496 interactions) | sparsity:: 96.60%\n",
      "test data:: 10571 users and 331 items (38125 interactions) | sparsity:: 98.91%\n",
      "\n",
      "training_time:: 4.414645 sec\n",
      ">> metadata:: 231 items and 1979 metadata (6274 interactions) | sparsity:: 98.63%\n",
      "prediction_time:: 0.757888 sec\n",
      "Eval:: MAE: 0.765116 RMSE: 1.006911 \n"
     ]
    }
   ],
   "source": [
    "from caserec.recommenders.rating_prediction.item_attribute_knn import ItemAttributeKNN\n",
    "\n",
    "ItemAttributeKNN('train.dat', 'test.dat', metadata_file='items_genres.dat', k_neighbors=10, as_similar_first=True).compute()\n",
    "ItemAttributeKNN('train.dat', 'test.dat', metadata_file='items_tags.dat', k_neighbors=10, as_similar_first=True).compute()"
   ]
  },
  {
   "cell_type": "markdown",
   "id": "92d5c385",
   "metadata": {},
   "source": [
    "***Exercício 01:*** Verifique o efeito no RSME ao aumentar o número de vizinhos do algoritmo ItemAttributeKNN com usando gêneros. Explique."
   ]
  },
  {
   "cell_type": "code",
   "execution_count": 44,
   "id": "0baae030",
   "metadata": {},
   "outputs": [
    {
     "name": "stdout",
     "output_type": "stream",
     "text": [
      "K = 10, RSME = 0.964352\n",
      "K = 20, RSME = 0.969717\n",
      "K = 50, RSME = 0.965269\n",
      "K = 100, RSME = 0.945425\n",
      "K = 200, RSME = 0.920997\n",
      "K = 500, RSME = 0.916212\n"
     ]
    }
   ],
   "source": [
    "# TODO\n",
    "k_neighbours = [10, 20, 50, 100, 200, 500]\n",
    "for k in k_neighbours:\n",
    "    model = ItemAttributeKNN('train.dat', 'test.dat', metadata_file='items_genres.dat', k_neighbors=k, as_similar_first=True,)\n",
    "    model.compute( verbose=False, verbose_evaluation=False)\n",
    "    print(f\"K = {k}, RSME = {model.evaluation_results['RMSE']}\")\n",
    "    "
   ]
  },
  {
   "cell_type": "markdown",
   "id": "5f4a1f8e-efd7-4047-b14f-93444b5a024f",
   "metadata": {},
   "source": [
    "O aumento no número de vizinhos *K* geralmente leva a uma melhoria na precisão das previsões, como indicado pela redução do RMSE. Porém, para a escolha ideal de *K* deve-se balancear entre ter um número suficiente de vizinhos para capturar padrões gerais e não ser tão grande a ponto de haver perdas de informações específicas."
   ]
  },
  {
   "cell_type": "markdown",
   "id": "a0894ca4",
   "metadata": {},
   "source": [
    "***Exercício 02:*** Verifique o efeito na métrica MAP@1 ao aumentar o número de fatores do algoritmo BPRMF. Explique."
   ]
  },
  {
   "cell_type": "code",
   "execution_count": 18,
   "id": "37fe983b",
   "metadata": {},
   "outputs": [
    {
     "name": "stdout",
     "output_type": "stream",
     "text": [
      "Factors = 1, MAP@1 = 0.383124\n",
      "Factors = 4, MAP@1 = 0.359096\n",
      "Factors = 7, MAP@1 = 0.347744\n",
      "Factors = 10, MAP@1 = 0.36515\n",
      "Factors = 15, MAP@1 = 0.370353\n",
      "Factors = 20, MAP@1 = 0.37338\n",
      "Factors = 25, MAP@1 = 0.397786\n",
      "Factors = 30, MAP@1 = 0.408381\n"
     ]
    }
   ],
   "source": [
    "# TODO\n",
    "from caserec.recommenders.item_recommendation.bprmf import BprMF\n",
    "n_factors = [1, 4, 7, 10, 15, 20, 25, 30]\n",
    "for n in n_factors:\n",
    "    model = BprMF('train.dat', 'test.dat', 'ir_bprmf.dat', factors=n)\n",
    "    model.compute( verbose=False, verbose_evaluation=False)\n",
    "    print(f\"Factors = {n}, MAP@1 = {model.evaluation_results['MAP@1']}\")"
   ]
  },
  {
   "cell_type": "markdown",
   "id": "4d682a71-397e-4bd2-a236-60c45a06afeb",
   "metadata": {},
   "source": [
    "O aumento no número de fatores geralmente melhora a métrica MAP@1 (*Mean Average Precision at 1*) , o que indica que o modelo BPRMF está se tornando mais eficaz em recomendar o filme relevante no topo da lista. Isso ocorre porque mais fatores permitem uma representação mais detalhada e precisa das preferências dos usuários e das características dos filmes. Como visto acima, ao se ter um aumento significante no números de fatores, é possível notar um aumento na métrica MAP@1."
   ]
  },
  {
   "cell_type": "markdown",
   "id": "00c91bd5",
   "metadata": {},
   "source": [
    "***Exercício 03:*** Implemente a métrica Average Precision para um único usuário. Utilize as recomendações geradas pelo algoritmo BPRMF (consulte notebook Aula04_Exemplo como base)."
   ]
  },
  {
   "cell_type": "code",
   "execution_count": 21,
   "id": "12503999-48b5-46d0-995d-a5a3470e87e5",
   "metadata": {},
   "outputs": [],
   "source": [
    "model = BprMF('train.dat', 'test.dat', 'ir_bprmf.dat', factors=3)\n",
    "model.compute(verbose=False, verbose_evaluation=False)\n",
    "\n",
    "recommendations = pd.read_csv('ir_bprmf.dat', sep='\\t', names=['userId', 'movieId', 'score'])"
   ]
  },
  {
   "cell_type": "code",
   "execution_count": 22,
   "id": "22389d25",
   "metadata": {},
   "outputs": [
    {
     "name": "stdout",
     "output_type": "stream",
     "text": [
      "User: 1, AP = 0.6250\n",
      "User: 2, AP = 0.2500\n",
      "User: 3, AP = 0.5000\n",
      "User: 4, AP = 0.1000\n",
      "User: 5, AP = 0.6429\n",
      "User: 6, AP = 0.7500\n",
      "User: 7, AP = 0.1250\n",
      "User: 8, AP = 0.0000\n",
      "User: 9, AP = 0.0000\n",
      "User: 10, AP = 0.2083\n"
     ]
    }
   ],
   "source": [
    "# TODO\n",
    "\n",
    "# Calculate the average precision for a user\n",
    "def average_precision(user_id, recommendations, test): \n",
    "    # Get the recommendations for the specific user\n",
    "    recs_user = recommendations.loc[(recommendations.userId == user_id), 'movieId'].tolist()\n",
    "    # Get the relevant movies for the specific user\n",
    "    relevant_movies = test.loc[(test.userId == user_id), 'movieId'].tolist()\n",
    "    \n",
    "    n_relevant_movies = 0\n",
    "    cumulative_precision = 0.0\n",
    "    \n",
    "    # Iterate over the recommendations and calculate the precision\n",
    "    for i, movie in enumerate(recs_user):\n",
    "        if movie in relevant_movies:\n",
    "            n_relevant_movies += 1\n",
    "            # Precision at index i\n",
    "            precision_at_i = n_relevant_movies / (i + 1)\n",
    "            cumulative_precision += precision_at_i\n",
    "    \n",
    "    if n_relevant_movies == 0:\n",
    "        return 0.0\n",
    "    \n",
    "    ap = cumulative_precision / n_relevant_movies\n",
    "    return ap\n",
    "\n",
    "# Calc the average precision for the first 10 user_ids\n",
    "for u in range(1, 11):\n",
    "    print(f\"User: {u}, AP = {average_precision(u, recommendations, test):.4f}\") "
   ]
  },
  {
   "cell_type": "markdown",
   "id": "916be3ec",
   "metadata": {},
   "source": [
    "***Exercício 04:*** Um importante aspecto que pode ser avaliado em Sistemas de Recomendação é a diversidade da lista de recomendações. A métrica Intra-List Similarity (ILS) aplica uma função de similaridade (e.g. Cosseno, Jaccard, Pearson, etc.) entre todos os pares de itens da lista de recomendação, usando seus metadados como gêneros, tags, etc. Mais detalhes sobre essa métrica podem ser encontrados em: https://grouplens.org/site-content/uploads/Improving-WWW-20051.pdf"
   ]
  },
  {
   "cell_type": "markdown",
   "id": "80e440b3",
   "metadata": {},
   "source": [
    "***a)*** Implemente uma função que calcula a ILS de uma lista de recomendação para um único usuário. Utilize os gêneros de filmes."
   ]
  },
  {
   "cell_type": "code",
   "execution_count": 25,
   "id": "60350f04",
   "metadata": {},
   "outputs": [],
   "source": [
    "# TODO"
   ]
  },
  {
   "cell_type": "markdown",
   "id": "def098f0",
   "metadata": {},
   "source": [
    "***b)*** Utilize a função que implementou no item (a) para calcular a ILS de todos os usuários da base de dados. Utilize as recomendações geradas pelo algoritmo BPR MF do CaseRecommender."
   ]
  },
  {
   "cell_type": "code",
   "execution_count": 27,
   "id": "e7880c83",
   "metadata": {
    "scrolled": true
   },
   "outputs": [],
   "source": [
    "# TODO"
   ]
  },
  {
   "cell_type": "markdown",
   "id": "76cf2e0d",
   "metadata": {},
   "source": [
    "***c)*** Aplique a função que implementou no item (b) para calcular a ILS das recomendações geradas pelos algoritmos ItemKNN e ItemAttributeKNN. Compare os resultados de todos os algoritmos, verificando inclusive o que acontece com a acurácia (precisão, MAP ou NDCG) quando a diversidade aumenta ou diminui."
   ]
  },
  {
   "cell_type": "code",
   "execution_count": 29,
   "id": "bf5bea2c",
   "metadata": {},
   "outputs": [],
   "source": [
    "# TODO"
   ]
  }
 ],
 "metadata": {
  "kernelspec": {
   "display_name": "Python 3 (ipykernel)",
   "language": "python",
   "name": "python3"
  },
  "language_info": {
   "codemirror_mode": {
    "name": "ipython",
    "version": 3
   },
   "file_extension": ".py",
   "mimetype": "text/x-python",
   "name": "python",
   "nbconvert_exporter": "python",
   "pygments_lexer": "ipython3",
   "version": "3.12.4"
  }
 },
 "nbformat": 4,
 "nbformat_minor": 5
}
