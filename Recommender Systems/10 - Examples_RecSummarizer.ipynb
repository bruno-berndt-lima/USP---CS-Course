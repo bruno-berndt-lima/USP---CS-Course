{
  "nbformat": 4,
  "nbformat_minor": 0,
  "metadata": {
    "colab": {
      "provenance": [],
      "collapsed_sections": []
    },
    "kernelspec": {
      "name": "python3",
      "display_name": "Python 3"
    },
    "language_info": {
      "name": "python"
    }
  },
  "cells": [
    {
      "cell_type": "code",
      "execution_count": null,
      "metadata": {
        "id": "iwtjFfi8Nw56"
      },
      "outputs": [],
      "source": [
        "!pip install git+https://github.com/luanssouza/recsummarizer -q\n",
        "!pip install stanza -q"
      ]
    },
    {
      "cell_type": "code",
      "source": [
        "!wget https://raw.githubusercontent.com/luanssouza/recsummarizer/main/resources/BNC_nouns.csv -q"
      ],
      "metadata": {
        "id": "7I46da3GBSg_"
      },
      "execution_count": null,
      "outputs": []
    },
    {
      "cell_type": "code",
      "source": [
        "import stanza\n",
        "import pandas as pd"
      ],
      "metadata": {
        "id": "6SPgGnWIqNBk"
      },
      "execution_count": null,
      "outputs": []
    },
    {
      "cell_type": "code",
      "source": [
        "stanza.download('en', verbose=False) # download English model\n",
        "nlp = stanza.Pipeline('en', processors='tokenize,mwt,pos,sentiment', verbose=False) # initialize English neural pipeline"
      ],
      "metadata": {
        "id": "ylNa-YXHBXxM"
      },
      "execution_count": null,
      "outputs": []
    },
    {
      "cell_type": "code",
      "source": [
        "from recsummarizer.review import StanzaReview\n",
        "from recsummarizer.normalize.tf_idf_normalizer import TfIdfNormalizer\n",
        "from recsummarizer.persistence.stanza_persistence import StanzaPersistence\n",
        "from recsummarizer.preprocess.stanza_preprocess import StanzaPreProcess\n",
        "from recsummarizer.centroid.centroid import Centroid\n",
        "from recsummarizer.embedding.word2vec_embedding import Word2VecEmbedding\n",
        "from recsummarizer.embedding.bert_embedding import BertEmbedding\n",
        "from recsummarizer.extractor import epsilon_aspects_extraction\n",
        "from recsummarizer.item import StanzaItem\n",
        "from recsummarizer.corpus import CsvGeneralCorpus"
      ],
      "metadata": {
        "id": "2mmKNOzGBJ8v"
      },
      "execution_count": null,
      "outputs": []
    },
    {
      "cell_type": "code",
      "source": [
        "review = StanzaReview(\"Barack Obama was born in Hawaii. The director is really good.\", nlp)\n",
        "\n",
        "print(review.raw_review)\n",
        "print(review.nouns_occurrences)\n",
        "print(review.sentences[0])"
      ],
      "metadata": {
        "colab": {
          "base_uri": "https://localhost:8080/"
        },
        "id": "vwioIkdVqLzH",
        "outputId": "98811497-5684-4eb0-df2c-17c4837a6f31"
      },
      "execution_count": null,
      "outputs": [
        {
          "output_type": "stream",
          "name": "stdout",
          "text": [
            "Barack Obama was born in Hawaii.The director is really good.\n",
            "Counter({'barack': 1, 'obama': 1, 'hawaii': 1, 'director': 1})\n",
            "Barack Obama was born in Hawaii.\n"
          ]
        }
      ]
    },
    {
      "cell_type": "code",
      "source": [
        "print(review.sentences[1].sentiment)"
      ],
      "metadata": {
        "colab": {
          "base_uri": "https://localhost:8080/"
        },
        "id": "SzzqgXdh3RtR",
        "outputId": "22ceb0b9-4b17-4f1f-8249-50f4ba0f62f8"
      },
      "execution_count": null,
      "outputs": [
        {
          "output_type": "stream",
          "name": "stdout",
          "text": [
            "2\n"
          ]
        }
      ]
    },
    {
      "cell_type": "code",
      "source": [
        "raw_reviews = [\n",
        "    \"The director is really good. The movie is awesome! You will definetly enjoy it! The scenes are the best!\", \n",
        "    \"The racer is really good.\"\n",
        "    ]\n",
        "\n",
        "items = [\n",
        "    {\"id\": 0, \"reviews\": raw_reviews }\n",
        "]\n",
        "\n",
        "review = StanzaReview(raw_reviews[0], nlp)\n",
        "\n",
        "print(review.raw_review)\n",
        "print(review.nouns_occurrences)"
      ],
      "metadata": {
        "colab": {
          "base_uri": "https://localhost:8080/"
        },
        "id": "aFCAORaZ5N5h",
        "outputId": "a943fe47-0564-451b-f2ee-d63f60fd10e5"
      },
      "execution_count": null,
      "outputs": [
        {
          "output_type": "stream",
          "name": "stdout",
          "text": [
            "The director is really good.The movie is awesome!You will definetly enjoy it!The scenes are the best!\n",
            "Counter({'director': 1, 'movie': 1, 'scenes': 1})\n"
          ]
        }
      ]
    },
    {
      "cell_type": "code",
      "source": [
        "general_corpus = CsvGeneralCorpus(pd.read_csv('./BNC_nouns.csv', index_col='noun'))\n",
        "\n",
        "item = StanzaItem(0, raw_reviews, general_corpus, nlp)\n",
        "\n",
        "item.kl_values()\n",
        "\n",
        "item.aspects_score = epsilon_aspects_extraction(item.kl_nouns_values, -20)\n",
        "\n",
        "item.top_k_aspects_evaluation(20)\n",
        "\n",
        "item.sentence_filtering()\n",
        "\n",
        "print(item.aspects_score)\n",
        "\n",
        "print(item.filtered_sentences)\n",
        "print(item.filtered_sentences_nn)"
      ],
      "metadata": {
        "colab": {
          "base_uri": "https://localhost:8080/"
        },
        "id": "__II4XKBt5q9",
        "outputId": "429b61d0-9aa9-4770-d629-8063d6022044"
      },
      "execution_count": null,
      "outputs": [
        {
          "output_type": "stream",
          "name": "stdout",
          "text": [
            "{'director': -9.711842668281289, 'movie': -7.943427767876373, 'scenes': inf, 'racer': -5.420534999272286}\n",
            "['The director is really good.', 'The scenes are the best!', 'The racer is really good.']\n",
            "[('The director is really good.', <recsummarizer.sentence.sentence.Sentence object at 0x7f1da3716e10>), ('The scenes are the best!', <recsummarizer.sentence.sentence.Sentence object at 0x7f1da3711350>), ('The racer is really good.', <recsummarizer.sentence.sentence.Sentence object at 0x7f1da3711690>)]\n"
          ]
        }
      ]
    },
    {
      "cell_type": "code",
      "source": [
        "# https://www.sbert.net/docs/pretrained_models.html\n",
        "embedding = BertEmbedding('all-MiniLM-L6-v2') "
      ],
      "metadata": {
        "id": "uMNPce7cDfnH"
      },
      "execution_count": null,
      "outputs": []
    },
    {
      "cell_type": "code",
      "source": [
        "# Creating normalizer instance\n",
        "normalizer = TfIdfNormalizer()\n",
        "\n",
        "# Creating centroid instance\n",
        "centroid = Centroid(normalizer, 0.35)\n",
        "\n",
        "# Creating persistence instance\n",
        "persistence = StanzaPersistence('./data/', embedding, centroid)\n",
        "\n",
        "# Creating a instance of PreProcess\n",
        "preprocess = StanzaPreProcess(-20, 5)\n",
        "\n",
        "# Preprocessing movies\n",
        "preprocess.proprocess(items, persistence, general_corpus, nlp)"
      ],
      "metadata": {
        "colab": {
          "base_uri": "https://localhost:8080/"
        },
        "id": "8YGPt9Hg4WWu",
        "outputId": "65c2895d-ccf2-43f0-8c16-1966da3446d4"
      },
      "execution_count": null,
      "outputs": [
        {
          "output_type": "stream",
          "name": "stdout",
          "text": [
            "Item processed: 0\n"
          ]
        },
        {
          "output_type": "stream",
          "name": "stderr",
          "text": [
            "/usr/local/lib/python3.7/dist-packages/sklearn/utils/deprecation.py:87: FutureWarning: Function get_feature_names is deprecated; get_feature_names is deprecated in 1.0 and will be removed in 1.2. Please use get_feature_names_out instead.\n",
            "  warnings.warn(msg, category=FutureWarning)\n"
          ]
        }
      ]
    },
    {
      "cell_type": "code",
      "source": [
        "from recsummarizer.summarize.summarizer_baseline import SummarizerBaseline\n",
        "\n",
        "\n",
        "print(SummarizerBaseline('./data/', 0.90, 5).summarize(0))"
      ],
      "metadata": {
        "colab": {
          "base_uri": "https://localhost:8080/"
        },
        "id": "dSZi0DElE-YG",
        "outputId": "2af655d5-0323-4da4-9eb9-cc93311b4a95"
      },
      "execution_count": null,
      "outputs": [
        {
          "output_type": "stream",
          "name": "stdout",
          "text": [
            "['The racer is really good.', 'The director is really good.', 'The scenes are the best!']\n"
          ]
        }
      ]
    },
    {
      "cell_type": "code",
      "source": [
        "from recsummarizer.summarize.summarizer_clusters_frequency import SummarizerClustersFrequency\n",
        "\n",
        "print(SummarizerClustersFrequency('./data/', 0.90, 5).summarize(0, 3))"
      ],
      "metadata": {
        "colab": {
          "base_uri": "https://localhost:8080/"
        },
        "id": "TFXEVNPs6oLX",
        "outputId": "b8a15e9a-5fff-4e78-887b-997105ff617a"
      },
      "execution_count": null,
      "outputs": [
        {
          "output_type": "stream",
          "name": "stdout",
          "text": [
            "['The racer is really good.', 'The director is really good.', 'The scenes are the best!']\n"
          ]
        }
      ]
    }
  ]
}