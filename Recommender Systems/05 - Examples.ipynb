{
 "cells": [
  {
   "cell_type": "markdown",
   "id": "6c87f553",
   "metadata": {},
   "source": [
    "# Aula 06 - Filtragem Híbrida - Exemplos"
   ]
  },
  {
   "cell_type": "markdown",
   "id": "366aa5e0",
   "metadata": {},
   "source": [
    "## Criando dataframe do exemplo da aula"
   ]
  },
  {
   "cell_type": "code",
   "execution_count": 1,
   "id": "cf6dfced",
   "metadata": {},
   "outputs": [],
   "source": [
    "import pandas as pd\n",
    "import numpy as np"
   ]
  },
  {
   "cell_type": "code",
   "execution_count": 2,
   "id": "4a8b739c",
   "metadata": {},
   "outputs": [
    {
     "data": {
      "text/html": [
       "<div>\n",
       "<style scoped>\n",
       "    .dataframe tbody tr th:only-of-type {\n",
       "        vertical-align: middle;\n",
       "    }\n",
       "\n",
       "    .dataframe tbody tr th {\n",
       "        vertical-align: top;\n",
       "    }\n",
       "\n",
       "    .dataframe thead th {\n",
       "        text-align: right;\n",
       "    }\n",
       "</style>\n",
       "<table border=\"1\" class=\"dataframe\">\n",
       "  <thead>\n",
       "    <tr style=\"text-align: right;\">\n",
       "      <th></th>\n",
       "      <th>user</th>\n",
       "      <th>item</th>\n",
       "      <th>rating</th>\n",
       "    </tr>\n",
       "  </thead>\n",
       "  <tbody>\n",
       "    <tr>\n",
       "      <th>0</th>\n",
       "      <td>Jessica</td>\n",
       "      <td>Oceans Eleven</td>\n",
       "      <td>2</td>\n",
       "    </tr>\n",
       "    <tr>\n",
       "      <th>1</th>\n",
       "      <td>Jessica</td>\n",
       "      <td>The Lion King</td>\n",
       "      <td>4</td>\n",
       "    </tr>\n",
       "    <tr>\n",
       "      <th>2</th>\n",
       "      <td>Jessica</td>\n",
       "      <td>Braveheart</td>\n",
       "      <td>3</td>\n",
       "    </tr>\n",
       "    <tr>\n",
       "      <th>3</th>\n",
       "      <td>Jessica</td>\n",
       "      <td>Independence Day</td>\n",
       "      <td>2</td>\n",
       "    </tr>\n",
       "    <tr>\n",
       "      <th>4</th>\n",
       "      <td>Jessica</td>\n",
       "      <td>Deby&amp;Loide</td>\n",
       "      <td>3</td>\n",
       "    </tr>\n",
       "    <tr>\n",
       "      <th>5</th>\n",
       "      <td>Marta</td>\n",
       "      <td>The Princess Diary</td>\n",
       "      <td>4</td>\n",
       "    </tr>\n",
       "    <tr>\n",
       "      <th>6</th>\n",
       "      <td>Marta</td>\n",
       "      <td>Oceans Eleven</td>\n",
       "      <td>3</td>\n",
       "    </tr>\n",
       "    <tr>\n",
       "      <th>7</th>\n",
       "      <td>Marta</td>\n",
       "      <td>Braveheart</td>\n",
       "      <td>4</td>\n",
       "    </tr>\n",
       "    <tr>\n",
       "      <th>8</th>\n",
       "      <td>Marta</td>\n",
       "      <td>Independence Day</td>\n",
       "      <td>3</td>\n",
       "    </tr>\n",
       "    <tr>\n",
       "      <th>9</th>\n",
       "      <td>Marta</td>\n",
       "      <td>Deby&amp;Loide</td>\n",
       "      <td>2</td>\n",
       "    </tr>\n",
       "    <tr>\n",
       "      <th>10</th>\n",
       "      <td>Jose</td>\n",
       "      <td>The Princess Diary</td>\n",
       "      <td>1</td>\n",
       "    </tr>\n",
       "    <tr>\n",
       "      <th>11</th>\n",
       "      <td>Jose</td>\n",
       "      <td>Oceans Eleven</td>\n",
       "      <td>5</td>\n",
       "    </tr>\n",
       "    <tr>\n",
       "      <th>12</th>\n",
       "      <td>Jose</td>\n",
       "      <td>The Lion King</td>\n",
       "      <td>3</td>\n",
       "    </tr>\n",
       "    <tr>\n",
       "      <th>13</th>\n",
       "      <td>Jose</td>\n",
       "      <td>Braveheart</td>\n",
       "      <td>4</td>\n",
       "    </tr>\n",
       "    <tr>\n",
       "      <th>14</th>\n",
       "      <td>Jose</td>\n",
       "      <td>Deby&amp;Loide</td>\n",
       "      <td>5</td>\n",
       "    </tr>\n",
       "    <tr>\n",
       "      <th>15</th>\n",
       "      <td>Dave</td>\n",
       "      <td>The Princess Diary</td>\n",
       "      <td>1</td>\n",
       "    </tr>\n",
       "    <tr>\n",
       "      <th>16</th>\n",
       "      <td>Dave</td>\n",
       "      <td>The Lion King</td>\n",
       "      <td>2</td>\n",
       "    </tr>\n",
       "    <tr>\n",
       "      <th>17</th>\n",
       "      <td>Dave</td>\n",
       "      <td>Braveheart</td>\n",
       "      <td>3</td>\n",
       "    </tr>\n",
       "    <tr>\n",
       "      <th>18</th>\n",
       "      <td>Dave</td>\n",
       "      <td>Independence Day</td>\n",
       "      <td>4</td>\n",
       "    </tr>\n",
       "  </tbody>\n",
       "</table>\n",
       "</div>"
      ],
      "text/plain": [
       "       user                item  rating\n",
       "0   Jessica       Oceans Eleven       2\n",
       "1   Jessica       The Lion King       4\n",
       "2   Jessica          Braveheart       3\n",
       "3   Jessica    Independence Day       2\n",
       "4   Jessica          Deby&Loide       3\n",
       "5     Marta  The Princess Diary       4\n",
       "6     Marta       Oceans Eleven       3\n",
       "7     Marta          Braveheart       4\n",
       "8     Marta    Independence Day       3\n",
       "9     Marta          Deby&Loide       2\n",
       "10     Jose  The Princess Diary       1\n",
       "11     Jose       Oceans Eleven       5\n",
       "12     Jose       The Lion King       3\n",
       "13     Jose          Braveheart       4\n",
       "14     Jose          Deby&Loide       5\n",
       "15     Dave  The Princess Diary       1\n",
       "16     Dave       The Lion King       2\n",
       "17     Dave          Braveheart       3\n",
       "18     Dave    Independence Day       4"
      ]
     },
     "execution_count": 2,
     "metadata": {},
     "output_type": "execute_result"
    }
   ],
   "source": [
    "\n",
    "\n",
    "data = [['Jessica', 'Oceans Eleven', 2], \n",
    "        ['Jessica', 'The Lion King', 4], \n",
    "        ['Jessica', 'Braveheart', 3], \n",
    "        ['Jessica', 'Independence Day', 2],\n",
    "        ['Jessica', 'Deby&Loide', 3],\n",
    "        ['Marta', 'The Princess Diary', 4], \n",
    "        ['Marta', 'Oceans Eleven', 3], \n",
    "        ['Marta', 'Braveheart', 4], \n",
    "        ['Marta', 'Independence Day', 3],\n",
    "        ['Marta', 'Deby&Loide', 2],\n",
    "        ['Jose', 'The Princess Diary', 1], \n",
    "        ['Jose', 'Oceans Eleven', 5], \n",
    "        ['Jose', 'The Lion King', 3], \n",
    "        ['Jose', 'Braveheart', 4], \n",
    "        ['Jose', 'Deby&Loide', 5],\n",
    "        ['Dave', 'The Princess Diary', 1], \n",
    "        ['Dave', 'The Lion King', 2], \n",
    "        ['Dave', 'Braveheart', 3], \n",
    "        ['Dave', 'Independence Day', 4]]\n",
    "        \n",
    "genres = [['The Princess Diary', 'Drama|Comedia'],\n",
    "          ['Oceans Eleven', 'Acao|Comedia'],\n",
    "          ['The Lion King', 'Drama|Sci-Fi'],\n",
    "          ['Braveheart', 'Drama|Acao'],\n",
    "          ['Independence Day', 'Acao|Sci-Fi'],\n",
    "          ['Deby&Loide', 'Comedia']]\n",
    "\n",
    "df = pd.DataFrame(data, columns=['user','item', 'rating'])\n",
    "movies = pd.DataFrame(genres, columns=['item','genres'])\n",
    "df"
   ]
  },
  {
   "cell_type": "code",
   "execution_count": 3,
   "id": "185a64ad",
   "metadata": {},
   "outputs": [
    {
     "data": {
      "text/html": [
       "<div>\n",
       "<style scoped>\n",
       "    .dataframe tbody tr th:only-of-type {\n",
       "        vertical-align: middle;\n",
       "    }\n",
       "\n",
       "    .dataframe tbody tr th {\n",
       "        vertical-align: top;\n",
       "    }\n",
       "\n",
       "    .dataframe thead th {\n",
       "        text-align: right;\n",
       "    }\n",
       "</style>\n",
       "<table border=\"1\" class=\"dataframe\">\n",
       "  <thead>\n",
       "    <tr style=\"text-align: right;\">\n",
       "      <th></th>\n",
       "      <th>item</th>\n",
       "      <th>genres</th>\n",
       "    </tr>\n",
       "  </thead>\n",
       "  <tbody>\n",
       "    <tr>\n",
       "      <th>0</th>\n",
       "      <td>The Princess Diary</td>\n",
       "      <td>Drama|Comedia</td>\n",
       "    </tr>\n",
       "    <tr>\n",
       "      <th>1</th>\n",
       "      <td>Oceans Eleven</td>\n",
       "      <td>Acao|Comedia</td>\n",
       "    </tr>\n",
       "    <tr>\n",
       "      <th>2</th>\n",
       "      <td>The Lion King</td>\n",
       "      <td>Drama|Sci-Fi</td>\n",
       "    </tr>\n",
       "    <tr>\n",
       "      <th>3</th>\n",
       "      <td>Braveheart</td>\n",
       "      <td>Drama|Acao</td>\n",
       "    </tr>\n",
       "    <tr>\n",
       "      <th>4</th>\n",
       "      <td>Independence Day</td>\n",
       "      <td>Acao|Sci-Fi</td>\n",
       "    </tr>\n",
       "    <tr>\n",
       "      <th>5</th>\n",
       "      <td>Deby&amp;Loide</td>\n",
       "      <td>Comedia</td>\n",
       "    </tr>\n",
       "  </tbody>\n",
       "</table>\n",
       "</div>"
      ],
      "text/plain": [
       "                 item         genres\n",
       "0  The Princess Diary  Drama|Comedia\n",
       "1       Oceans Eleven   Acao|Comedia\n",
       "2       The Lion King   Drama|Sci-Fi\n",
       "3          Braveheart     Drama|Acao\n",
       "4    Independence Day    Acao|Sci-Fi\n",
       "5          Deby&Loide        Comedia"
      ]
     },
     "execution_count": 3,
     "metadata": {},
     "output_type": "execute_result"
    }
   ],
   "source": [
    "movies"
   ]
  },
  {
   "cell_type": "markdown",
   "id": "fb8330cb",
   "metadata": {},
   "source": [
    "## Mapeando usuários e itens para ids"
   ]
  },
  {
   "cell_type": "code",
   "execution_count": 4,
   "id": "25b60c08",
   "metadata": {},
   "outputs": [
    {
     "data": {
      "text/html": [
       "<div>\n",
       "<style scoped>\n",
       "    .dataframe tbody tr th:only-of-type {\n",
       "        vertical-align: middle;\n",
       "    }\n",
       "\n",
       "    .dataframe tbody tr th {\n",
       "        vertical-align: top;\n",
       "    }\n",
       "\n",
       "    .dataframe thead th {\n",
       "        text-align: right;\n",
       "    }\n",
       "</style>\n",
       "<table border=\"1\" class=\"dataframe\">\n",
       "  <thead>\n",
       "    <tr style=\"text-align: right;\">\n",
       "      <th></th>\n",
       "      <th>user</th>\n",
       "      <th>item</th>\n",
       "      <th>rating</th>\n",
       "      <th>userId</th>\n",
       "      <th>itemId</th>\n",
       "    </tr>\n",
       "  </thead>\n",
       "  <tbody>\n",
       "    <tr>\n",
       "      <th>0</th>\n",
       "      <td>Jessica</td>\n",
       "      <td>Oceans Eleven</td>\n",
       "      <td>2</td>\n",
       "      <td>0</td>\n",
       "      <td>0</td>\n",
       "    </tr>\n",
       "    <tr>\n",
       "      <th>1</th>\n",
       "      <td>Jessica</td>\n",
       "      <td>The Lion King</td>\n",
       "      <td>4</td>\n",
       "      <td>0</td>\n",
       "      <td>1</td>\n",
       "    </tr>\n",
       "    <tr>\n",
       "      <th>2</th>\n",
       "      <td>Jessica</td>\n",
       "      <td>Braveheart</td>\n",
       "      <td>3</td>\n",
       "      <td>0</td>\n",
       "      <td>2</td>\n",
       "    </tr>\n",
       "    <tr>\n",
       "      <th>3</th>\n",
       "      <td>Jessica</td>\n",
       "      <td>Independence Day</td>\n",
       "      <td>2</td>\n",
       "      <td>0</td>\n",
       "      <td>3</td>\n",
       "    </tr>\n",
       "    <tr>\n",
       "      <th>4</th>\n",
       "      <td>Jessica</td>\n",
       "      <td>Deby&amp;Loide</td>\n",
       "      <td>3</td>\n",
       "      <td>0</td>\n",
       "      <td>4</td>\n",
       "    </tr>\n",
       "    <tr>\n",
       "      <th>5</th>\n",
       "      <td>Marta</td>\n",
       "      <td>The Princess Diary</td>\n",
       "      <td>4</td>\n",
       "      <td>1</td>\n",
       "      <td>5</td>\n",
       "    </tr>\n",
       "    <tr>\n",
       "      <th>6</th>\n",
       "      <td>Marta</td>\n",
       "      <td>Oceans Eleven</td>\n",
       "      <td>3</td>\n",
       "      <td>1</td>\n",
       "      <td>0</td>\n",
       "    </tr>\n",
       "    <tr>\n",
       "      <th>7</th>\n",
       "      <td>Marta</td>\n",
       "      <td>Braveheart</td>\n",
       "      <td>4</td>\n",
       "      <td>1</td>\n",
       "      <td>2</td>\n",
       "    </tr>\n",
       "    <tr>\n",
       "      <th>8</th>\n",
       "      <td>Marta</td>\n",
       "      <td>Independence Day</td>\n",
       "      <td>3</td>\n",
       "      <td>1</td>\n",
       "      <td>3</td>\n",
       "    </tr>\n",
       "    <tr>\n",
       "      <th>9</th>\n",
       "      <td>Marta</td>\n",
       "      <td>Deby&amp;Loide</td>\n",
       "      <td>2</td>\n",
       "      <td>1</td>\n",
       "      <td>4</td>\n",
       "    </tr>\n",
       "    <tr>\n",
       "      <th>10</th>\n",
       "      <td>Jose</td>\n",
       "      <td>The Princess Diary</td>\n",
       "      <td>1</td>\n",
       "      <td>2</td>\n",
       "      <td>5</td>\n",
       "    </tr>\n",
       "    <tr>\n",
       "      <th>11</th>\n",
       "      <td>Jose</td>\n",
       "      <td>Oceans Eleven</td>\n",
       "      <td>5</td>\n",
       "      <td>2</td>\n",
       "      <td>0</td>\n",
       "    </tr>\n",
       "    <tr>\n",
       "      <th>12</th>\n",
       "      <td>Jose</td>\n",
       "      <td>The Lion King</td>\n",
       "      <td>3</td>\n",
       "      <td>2</td>\n",
       "      <td>1</td>\n",
       "    </tr>\n",
       "    <tr>\n",
       "      <th>13</th>\n",
       "      <td>Jose</td>\n",
       "      <td>Braveheart</td>\n",
       "      <td>4</td>\n",
       "      <td>2</td>\n",
       "      <td>2</td>\n",
       "    </tr>\n",
       "    <tr>\n",
       "      <th>14</th>\n",
       "      <td>Jose</td>\n",
       "      <td>Deby&amp;Loide</td>\n",
       "      <td>5</td>\n",
       "      <td>2</td>\n",
       "      <td>4</td>\n",
       "    </tr>\n",
       "    <tr>\n",
       "      <th>15</th>\n",
       "      <td>Dave</td>\n",
       "      <td>The Princess Diary</td>\n",
       "      <td>1</td>\n",
       "      <td>3</td>\n",
       "      <td>5</td>\n",
       "    </tr>\n",
       "    <tr>\n",
       "      <th>16</th>\n",
       "      <td>Dave</td>\n",
       "      <td>The Lion King</td>\n",
       "      <td>2</td>\n",
       "      <td>3</td>\n",
       "      <td>1</td>\n",
       "    </tr>\n",
       "    <tr>\n",
       "      <th>17</th>\n",
       "      <td>Dave</td>\n",
       "      <td>Braveheart</td>\n",
       "      <td>3</td>\n",
       "      <td>3</td>\n",
       "      <td>2</td>\n",
       "    </tr>\n",
       "    <tr>\n",
       "      <th>18</th>\n",
       "      <td>Dave</td>\n",
       "      <td>Independence Day</td>\n",
       "      <td>4</td>\n",
       "      <td>3</td>\n",
       "      <td>3</td>\n",
       "    </tr>\n",
       "  </tbody>\n",
       "</table>\n",
       "</div>"
      ],
      "text/plain": [
       "       user                item  rating  userId  itemId\n",
       "0   Jessica       Oceans Eleven       2       0       0\n",
       "1   Jessica       The Lion King       4       0       1\n",
       "2   Jessica          Braveheart       3       0       2\n",
       "3   Jessica    Independence Day       2       0       3\n",
       "4   Jessica          Deby&Loide       3       0       4\n",
       "5     Marta  The Princess Diary       4       1       5\n",
       "6     Marta       Oceans Eleven       3       1       0\n",
       "7     Marta          Braveheart       4       1       2\n",
       "8     Marta    Independence Day       3       1       3\n",
       "9     Marta          Deby&Loide       2       1       4\n",
       "10     Jose  The Princess Diary       1       2       5\n",
       "11     Jose       Oceans Eleven       5       2       0\n",
       "12     Jose       The Lion King       3       2       1\n",
       "13     Jose          Braveheart       4       2       2\n",
       "14     Jose          Deby&Loide       5       2       4\n",
       "15     Dave  The Princess Diary       1       3       5\n",
       "16     Dave       The Lion King       2       3       1\n",
       "17     Dave          Braveheart       3       3       2\n",
       "18     Dave    Independence Day       4       3       3"
      ]
     },
     "execution_count": 4,
     "metadata": {},
     "output_type": "execute_result"
    }
   ],
   "source": [
    "map_users = {user: idx for idx, user in enumerate(df.user.unique())}\n",
    "map_items = {item: idx for idx, item in enumerate(df.item.unique())}\n",
    "df['userId'] = df['user'].map(map_users)\n",
    "df['itemId'] = df['item'].map(map_items)\n",
    "df"
   ]
  },
  {
   "cell_type": "code",
   "execution_count": 5,
   "id": "ab96f058",
   "metadata": {},
   "outputs": [
    {
     "data": {
      "text/html": [
       "<div>\n",
       "<style scoped>\n",
       "    .dataframe tbody tr th:only-of-type {\n",
       "        vertical-align: middle;\n",
       "    }\n",
       "\n",
       "    .dataframe tbody tr th {\n",
       "        vertical-align: top;\n",
       "    }\n",
       "\n",
       "    .dataframe thead th {\n",
       "        text-align: right;\n",
       "    }\n",
       "</style>\n",
       "<table border=\"1\" class=\"dataframe\">\n",
       "  <thead>\n",
       "    <tr style=\"text-align: right;\">\n",
       "      <th></th>\n",
       "      <th>item</th>\n",
       "      <th>genres</th>\n",
       "      <th>itemId</th>\n",
       "    </tr>\n",
       "  </thead>\n",
       "  <tbody>\n",
       "    <tr>\n",
       "      <th>0</th>\n",
       "      <td>The Princess Diary</td>\n",
       "      <td>Drama|Comedia</td>\n",
       "      <td>5</td>\n",
       "    </tr>\n",
       "    <tr>\n",
       "      <th>1</th>\n",
       "      <td>Oceans Eleven</td>\n",
       "      <td>Acao|Comedia</td>\n",
       "      <td>0</td>\n",
       "    </tr>\n",
       "    <tr>\n",
       "      <th>2</th>\n",
       "      <td>The Lion King</td>\n",
       "      <td>Drama|Sci-Fi</td>\n",
       "      <td>1</td>\n",
       "    </tr>\n",
       "    <tr>\n",
       "      <th>3</th>\n",
       "      <td>Braveheart</td>\n",
       "      <td>Drama|Acao</td>\n",
       "      <td>2</td>\n",
       "    </tr>\n",
       "    <tr>\n",
       "      <th>4</th>\n",
       "      <td>Independence Day</td>\n",
       "      <td>Acao|Sci-Fi</td>\n",
       "      <td>3</td>\n",
       "    </tr>\n",
       "    <tr>\n",
       "      <th>5</th>\n",
       "      <td>Deby&amp;Loide</td>\n",
       "      <td>Comedia</td>\n",
       "      <td>4</td>\n",
       "    </tr>\n",
       "  </tbody>\n",
       "</table>\n",
       "</div>"
      ],
      "text/plain": [
       "                 item         genres  itemId\n",
       "0  The Princess Diary  Drama|Comedia       5\n",
       "1       Oceans Eleven   Acao|Comedia       0\n",
       "2       The Lion King   Drama|Sci-Fi       1\n",
       "3          Braveheart     Drama|Acao       2\n",
       "4    Independence Day    Acao|Sci-Fi       3\n",
       "5          Deby&Loide        Comedia       4"
      ]
     },
     "execution_count": 5,
     "metadata": {},
     "output_type": "execute_result"
    }
   ],
   "source": [
    "movies['itemId'] = movies['item'].map(map_items)\n",
    "movies"
   ]
  },
  {
   "cell_type": "code",
   "execution_count": 6,
   "id": "f17962dc",
   "metadata": {},
   "outputs": [
    {
     "data": {
      "text/html": [
       "<div>\n",
       "<style scoped>\n",
       "    .dataframe tbody tr th:only-of-type {\n",
       "        vertical-align: middle;\n",
       "    }\n",
       "\n",
       "    .dataframe tbody tr th {\n",
       "        vertical-align: top;\n",
       "    }\n",
       "\n",
       "    .dataframe thead th {\n",
       "        text-align: right;\n",
       "    }\n",
       "</style>\n",
       "<table border=\"1\" class=\"dataframe\">\n",
       "  <thead>\n",
       "    <tr style=\"text-align: right;\">\n",
       "      <th></th>\n",
       "      <th>item</th>\n",
       "      <th>itemId</th>\n",
       "      <th>genre</th>\n",
       "    </tr>\n",
       "  </thead>\n",
       "  <tbody>\n",
       "    <tr>\n",
       "      <th>0</th>\n",
       "      <td>The Princess Diary</td>\n",
       "      <td>5</td>\n",
       "      <td>Drama</td>\n",
       "    </tr>\n",
       "    <tr>\n",
       "      <th>0</th>\n",
       "      <td>The Princess Diary</td>\n",
       "      <td>5</td>\n",
       "      <td>Comedia</td>\n",
       "    </tr>\n",
       "    <tr>\n",
       "      <th>1</th>\n",
       "      <td>Oceans Eleven</td>\n",
       "      <td>0</td>\n",
       "      <td>Acao</td>\n",
       "    </tr>\n",
       "    <tr>\n",
       "      <th>1</th>\n",
       "      <td>Oceans Eleven</td>\n",
       "      <td>0</td>\n",
       "      <td>Comedia</td>\n",
       "    </tr>\n",
       "    <tr>\n",
       "      <th>2</th>\n",
       "      <td>The Lion King</td>\n",
       "      <td>1</td>\n",
       "      <td>Drama</td>\n",
       "    </tr>\n",
       "    <tr>\n",
       "      <th>2</th>\n",
       "      <td>The Lion King</td>\n",
       "      <td>1</td>\n",
       "      <td>Sci-Fi</td>\n",
       "    </tr>\n",
       "    <tr>\n",
       "      <th>3</th>\n",
       "      <td>Braveheart</td>\n",
       "      <td>2</td>\n",
       "      <td>Drama</td>\n",
       "    </tr>\n",
       "    <tr>\n",
       "      <th>3</th>\n",
       "      <td>Braveheart</td>\n",
       "      <td>2</td>\n",
       "      <td>Acao</td>\n",
       "    </tr>\n",
       "    <tr>\n",
       "      <th>4</th>\n",
       "      <td>Independence Day</td>\n",
       "      <td>3</td>\n",
       "      <td>Acao</td>\n",
       "    </tr>\n",
       "    <tr>\n",
       "      <th>4</th>\n",
       "      <td>Independence Day</td>\n",
       "      <td>3</td>\n",
       "      <td>Sci-Fi</td>\n",
       "    </tr>\n",
       "    <tr>\n",
       "      <th>5</th>\n",
       "      <td>Deby&amp;Loide</td>\n",
       "      <td>4</td>\n",
       "      <td>Comedia</td>\n",
       "    </tr>\n",
       "  </tbody>\n",
       "</table>\n",
       "</div>"
      ],
      "text/plain": [
       "                 item  itemId    genre\n",
       "0  The Princess Diary       5    Drama\n",
       "0  The Princess Diary       5  Comedia\n",
       "1       Oceans Eleven       0     Acao\n",
       "1       Oceans Eleven       0  Comedia\n",
       "2       The Lion King       1    Drama\n",
       "2       The Lion King       1   Sci-Fi\n",
       "3          Braveheart       2    Drama\n",
       "3          Braveheart       2     Acao\n",
       "4    Independence Day       3     Acao\n",
       "4    Independence Day       3   Sci-Fi\n",
       "5          Deby&Loide       4  Comedia"
      ]
     },
     "execution_count": 6,
     "metadata": {},
     "output_type": "execute_result"
    }
   ],
   "source": [
    "movies_genres = movies.drop('genres', axis=1).join(movies.genres.str.split('|', expand=True)\n",
    "             .stack().reset_index(drop=True, level=1).rename('genre'))\n",
    "movies_genres"
   ]
  },
  {
   "cell_type": "markdown",
   "id": "eb90a785",
   "metadata": {},
   "source": [
    "### Funções para obter informações específicas do DataFrame"
   ]
  },
  {
   "cell_type": "code",
   "execution_count": 7,
   "id": "cb710edc",
   "metadata": {},
   "outputs": [
    {
     "data": {
      "text/plain": [
       "np.int64(4)"
      ]
     },
     "execution_count": 7,
     "metadata": {},
     "output_type": "execute_result"
    }
   ],
   "source": [
    "# Obter a nota que um usuário deu para um item.\n",
    "def get_rating(userId,itemId):\n",
    "    if len(df[(df['userId']==userId)&(df['itemId']==itemId)]) == 0:\n",
    "        return 0\n",
    "    return (df.loc[(df.userId==userId) & (df.itemId == itemId),'rating'].iloc[0])\n",
    "\n",
    "get_rating(1, 5)"
   ]
  },
  {
   "cell_type": "code",
   "execution_count": 8,
   "id": "7a31515d",
   "metadata": {},
   "outputs": [
    {
     "data": {
      "text/plain": [
       "[0, 1, 2, 3, 4]"
      ]
     },
     "execution_count": 8,
     "metadata": {},
     "output_type": "execute_result"
    }
   ],
   "source": [
    "# Obter a lista de todos os itens que um usuário avaliou.\n",
    "def get_item_ids(userId):\n",
    "    if userId not in df['userId'].values:\n",
    "        return []\n",
    "    return (df.loc[(df.userId==userId),'itemId'].tolist())\n",
    "\n",
    "get_item_ids(0)"
   ]
  },
  {
   "cell_type": "code",
   "execution_count": 9,
   "id": "2f0fb367",
   "metadata": {},
   "outputs": [
    {
     "data": {
      "text/plain": [
       "[0, 1, 2, 3]"
      ]
     },
     "execution_count": 9,
     "metadata": {},
     "output_type": "execute_result"
    }
   ],
   "source": [
    "def get_user_ids(itemId):\n",
    "    if itemId not in df['itemId'].values:\n",
    "        return []\n",
    "    return (df.loc[(df.itemId==itemId),'userId'].tolist())\n",
    "\n",
    "get_user_ids(2)"
   ]
  },
  {
   "cell_type": "code",
   "execution_count": 10,
   "id": "af15fa58",
   "metadata": {},
   "outputs": [
    {
     "data": {
      "text/plain": [
       "'Oceans Eleven'"
      ]
     },
     "execution_count": 10,
     "metadata": {},
     "output_type": "execute_result"
    }
   ],
   "source": [
    "# Obter o título do item dado o seu id.\n",
    "def get_item_title(itemId):\n",
    "    if itemId not in df['itemId'].values:\n",
    "        return ''\n",
    "    return (df.loc[(df.itemId == itemId),'item'].iloc[0])\n",
    "\n",
    "get_item_title(0)"
   ]
  },
  {
   "cell_type": "code",
   "execution_count": 11,
   "id": "d61b27ba",
   "metadata": {},
   "outputs": [
    {
     "data": {
      "text/plain": [
       "[2, 4, 3, 2, 3]"
      ]
     },
     "execution_count": 11,
     "metadata": {},
     "output_type": "execute_result"
    }
   ],
   "source": [
    "# Obter a lista de ratings de um usuário.\n",
    "def get_user_ratings(userId):\n",
    "    if userId not in df['userId'].values:\n",
    "        return []\n",
    "    return (df.loc[(df.userId==userId),'rating'].tolist())\n",
    "\n",
    "get_user_ratings(0)"
   ]
  },
  {
   "cell_type": "code",
   "execution_count": 12,
   "id": "477ea0a8",
   "metadata": {},
   "outputs": [
    {
     "data": {
      "text/plain": [
       "[2, 3, 5]"
      ]
     },
     "execution_count": 12,
     "metadata": {},
     "output_type": "execute_result"
    }
   ],
   "source": [
    "# Obter a lista de ratings de um usuário.\n",
    "def get_item_ratings(itemId):\n",
    "    if itemId not in df['itemId'].values:\n",
    "        return []\n",
    "    return (df.loc[(df.itemId==itemId),'rating'].tolist())\n",
    "\n",
    "get_item_ratings(0)"
   ]
  },
  {
   "cell_type": "code",
   "execution_count": 13,
   "id": "8309fda7",
   "metadata": {},
   "outputs": [
    {
     "data": {
      "text/plain": [
       "np.float64(3.2)"
      ]
     },
     "execution_count": 13,
     "metadata": {},
     "output_type": "execute_result"
    }
   ],
   "source": [
    "# Obter a média de ratings de um usuário\n",
    "def get_user_mean(userId):\n",
    "    return np.mean(get_user_ratings(userId))\n",
    "\n",
    "get_user_mean(1)"
   ]
  },
  {
   "cell_type": "code",
   "execution_count": 14,
   "id": "14ea4be0",
   "metadata": {},
   "outputs": [
    {
     "data": {
      "text/plain": [
       "np.float64(3.0)"
      ]
     },
     "execution_count": 14,
     "metadata": {},
     "output_type": "execute_result"
    }
   ],
   "source": [
    "# Obter a média de ratings de um item\n",
    "def get_item_mean(itemId):\n",
    "    return np.mean(get_item_ratings(itemId))\n",
    "\n",
    "get_item_mean(1)"
   ]
  },
  {
   "cell_type": "code",
   "execution_count": 15,
   "id": "17c013d4",
   "metadata": {},
   "outputs": [
    {
     "data": {
      "text/plain": [
       "['Acao', 'Comedia']"
      ]
     },
     "execution_count": 15,
     "metadata": {},
     "output_type": "execute_result"
    }
   ],
   "source": [
    "# Obter a lista de gêneros de um item\n",
    "def get_genres(itemId):\n",
    "    if itemId not in movies_genres['itemId'].values:\n",
    "        return []\n",
    "    return movies_genres.loc[(movies_genres.itemId==itemId),'genre'].tolist()\n",
    "\n",
    "get_genres(0)"
   ]
  },
  {
   "cell_type": "markdown",
   "id": "f0f55ea2",
   "metadata": {},
   "source": [
    "## Hibridização monolítica - combinação"
   ]
  },
  {
   "cell_type": "markdown",
   "id": "a0515e3b",
   "metadata": {},
   "source": [
    "### Computar a similaridade de itens usando gêneros e notas"
   ]
  },
  {
   "cell_type": "code",
   "execution_count": 16,
   "id": "470d4944",
   "metadata": {},
   "outputs": [
    {
     "data": {
      "text/plain": [
       "np.float64(-0.9079593845004517)"
      ]
     },
     "execution_count": 16,
     "metadata": {},
     "output_type": "execute_result"
    }
   ],
   "source": [
    "from math import sqrt\n",
    "\n",
    "def item_sim_pearson_rating(itemId1, itemId2):\n",
    "    '''\n",
    "    itemId1 & itemId2 : ids dos dois itens cuja similaridade será computada\n",
    "    '''\n",
    "    # Contar quantos usuários avaliaram os mesmos itens.\n",
    "    item_list1 = get_user_ids(itemId1)\n",
    "    item_list2 = get_user_ids(itemId2)\n",
    "    common_users = list(set(item_list1) & set(item_list2))\n",
    "    if len(common_users) == 0:\n",
    "        return 0\n",
    "    \n",
    "    # Calcular a média de cada item\n",
    "    item1_mean = get_item_mean(itemId1)\n",
    "    item2_mean = get_item_mean(itemId2)\n",
    "    \n",
    "    # Cálculo da similaridade.\n",
    "    sim = []\n",
    "    norm1 = []\n",
    "    norm2 = []\n",
    "    for user in common_users:\n",
    "        rating1 = get_rating(user, itemId1)\n",
    "        rating2 = get_rating(user, itemId2)\n",
    "        sim.append((rating1 - item1_mean)*(rating2 - item2_mean))\n",
    "        norm1.append(pow(rating1 - item1_mean, 2))\n",
    "        norm2.append(pow(rating2 - item2_mean, 2))\n",
    "    \n",
    "    return sum(sim) / (sqrt(sum(norm1)) * sqrt(sum(norm2)))\n",
    "\n",
    "item_sim_pearson_rating(4, 5)"
   ]
  },
  {
   "cell_type": "code",
   "execution_count": 17,
   "id": "6a6078f8",
   "metadata": {},
   "outputs": [
    {
     "data": {
      "text/plain": [
       "0.5"
      ]
     },
     "execution_count": 17,
     "metadata": {},
     "output_type": "execute_result"
    }
   ],
   "source": [
    "from math import pow, sqrt\n",
    "\n",
    "def item_sim_jaccard_genre(itemId1, itemId2):\n",
    "    '''\n",
    "    itemId1 & itemId2 : ids dos dois itens cuja similaridade será computada\n",
    "    '''\n",
    "    # Similaridade baseada em gêneros (Jaccard).\n",
    "    genre_list1 = get_genres(itemId1)\n",
    "    genre_list2 = get_genres(itemId2)\n",
    "    common_genres = list(set(genre_list1) & set(genre_list2))\n",
    "    return len(common_genres) / len(set(genre_list1 + genre_list2))\n",
    "        \n",
    "item_sim_jaccard_genre(4, 5)"
   ]
  },
  {
   "cell_type": "code",
   "execution_count": 18,
   "id": "ebd46d6c",
   "metadata": {},
   "outputs": [
    {
     "data": {
      "text/plain": [
       "np.float64(-0.20397969225022583)"
      ]
     },
     "execution_count": 18,
     "metadata": {},
     "output_type": "execute_result"
    }
   ],
   "source": [
    "def hybrid_similarity_score(itemId1, itemId2, tradeoff):\n",
    "    return tradeoff * item_sim_pearson_rating(itemId1, itemId2) + (1 - tradeoff) * item_sim_jaccard_genre(itemId1, itemId2)\n",
    "\n",
    "hybrid_similarity_score(4, 5, 0.5)"
   ]
  },
  {
   "cell_type": "markdown",
   "id": "f1ab60e0",
   "metadata": {},
   "source": [
    "### Obter os itens mais similares"
   ]
  },
  {
   "cell_type": "code",
   "execution_count": 19,
   "id": "f03b1927",
   "metadata": {},
   "outputs": [
    {
     "name": "stdout",
     "output_type": "stream",
     "text": [
      "[(np.float64(0.9064615834641321), 3), (np.float64(0.7571428571428569), 4)]\n"
     ]
    }
   ],
   "source": [
    "def most_similar_items(itemId, k):\n",
    "    '''\n",
    "    itemId : Targeted item\n",
    "    k : qtde de vizinhos\n",
    "    '''\n",
    "    # Obter lista de itens.\n",
    "    item_ids = df.itemId.unique().tolist()\n",
    "    \n",
    "    # Obter a similaridade entre o item alvo e os demais itens\n",
    "    sim = [(hybrid_similarity_score(itemId, i, 0.9), i) for i in item_ids if i != itemId]\n",
    "    \n",
    "    # Ordenação inversa.\n",
    "    sim.sort()\n",
    "    sim.reverse()\n",
    "    \n",
    "    # Retornando os usuários mais similares. \n",
    "    return sim[:k]\n",
    "\n",
    "print(most_similar_items(0, 2))"
   ]
  },
  {
   "cell_type": "markdown",
   "id": "3101a024",
   "metadata": {},
   "source": [
    "### Calcular a nota"
   ]
  },
  {
   "cell_type": "code",
   "execution_count": 20,
   "id": "158b7652",
   "metadata": {},
   "outputs": [
    {
     "data": {
      "text/plain": [
       "np.float64(4.333333333333334)"
      ]
     },
     "execution_count": 20,
     "metadata": {},
     "output_type": "execute_result"
    }
   ],
   "source": [
    "def get_prediction(userId, itemId, k):\n",
    "    item_mean = get_item_mean(itemId)\n",
    "    similar_items = most_similar_items(itemId, k)\n",
    "    num = []\n",
    "    den = []\n",
    "    \n",
    "    for s, j in similar_items:\n",
    "        rj = get_rating(userId, j)\n",
    "        if rj == 0:\n",
    "            continue\n",
    "        num.append(s * (rj - get_item_mean(j)))\n",
    "        den.append(s)\n",
    "    \n",
    "    return item_mean + sum(num) / sum(den)\n",
    "\n",
    "get_prediction(3, 4, 2)"
   ]
  },
  {
   "cell_type": "markdown",
   "id": "21463bd1",
   "metadata": {},
   "source": [
    "## Hibridização monolítica - combinação - usando base de dados e CaseRecommender"
   ]
  },
  {
   "cell_type": "markdown",
   "id": "2dfcab25",
   "metadata": {},
   "source": [
    "### Importar base de dados"
   ]
  },
  {
   "cell_type": "code",
   "execution_count": 21,
   "id": "56ff0313",
   "metadata": {},
   "outputs": [
    {
     "name": "stdout",
     "output_type": "stream",
     "text": [
      "\n",
      "Saved under ml-20m-compact.tar (29).gz\n"
     ]
    },
    {
     "name": "stderr",
     "output_type": "stream",
     "text": [
      "x dataset/\n",
      "x dataset/tags_sample.csv\n",
      "x dataset/._.DS_Store\n",
      "x dataset/.DS_Store\n",
      "x dataset/movies_sample.csv\n",
      "x dataset/._genome-tags.csv\n",
      "x dataset/genome-tags.csv\n",
      "x dataset/._ml-youtube.csv\n",
      "x dataset/ml-youtube.csv\n",
      "x dataset/._genome-scores.csv\n",
      "x dataset/genome-scores.csv\n",
      "x dataset/ratings_sample.csv\n"
     ]
    }
   ],
   "source": [
    "import wget\n",
    "!python3 -m wget https://github.com/mmanzato/MBABigData/raw/master/ml-20m-compact.tar.gz\n",
    "!tar -xvzf ml-20m-compact.tar.gz"
   ]
  },
  {
   "cell_type": "code",
   "execution_count": 22,
   "id": "58756fdc",
   "metadata": {},
   "outputs": [],
   "source": [
    "movies = pd.read_csv('./dataset/movies_sample.csv')\n",
    "ratings = pd.read_csv('./dataset/ratings_sample.csv')\n",
    "df = ratings[['userId', 'movieId', 'rating']]\n",
    "df = df.merge(movies[['movieId', 'title']])\n",
    "map_users = {user: idx for idx, user in enumerate(df.userId.unique())}\n",
    "map_items = {item: idx for idx, item in enumerate(df.movieId.unique())}\n",
    "df['userId'] = df['userId'].map(map_users)\n",
    "df['movieId'] = df['movieId'].map(map_items)\n",
    "movies['movieId'] = movies['movieId'].map(map_items)\n",
    "map_title = {}\n",
    "\n",
    "for _, row in df.iterrows():\n",
    "    map_title[row.movieId] = row.title\n",
    "    \n",
    "from sklearn.model_selection import train_test_split\n",
    "train, test = train_test_split(df, test_size=.2, random_state=2)"
   ]
  },
  {
   "cell_type": "markdown",
   "id": "952a2127",
   "metadata": {},
   "source": [
    "### Calcular similaridade baseada em notas"
   ]
  },
  {
   "cell_type": "code",
   "execution_count": 23,
   "id": "274c04b7",
   "metadata": {},
   "outputs": [
    {
     "name": "stdout",
     "output_type": "stream",
     "text": [
      "Original rating matrix shape:  (11090, 417)\n",
      "Matrix :\n",
      " [[0.  4.5 4.  ... 0.  0.  0. ]\n",
      " [0.  0.  0.  ... 0.  0.  0. ]\n",
      " [0.  0.  0.  ... 0.  0.  0. ]\n",
      " ...\n",
      " [0.  0.  0.  ... 0.  0.  0. ]\n",
      " [0.  0.  0.  ... 0.  0.  0. ]\n",
      " [0.  0.  4.  ... 0.  0.  0. ]]\n"
     ]
    }
   ],
   "source": [
    "from sklearn.metrics.pairwise import cosine_similarity\n",
    "from scipy import sparse\n",
    "\n",
    "n_users = train['userId'].max()\n",
    "n_items = train['movieId'].max()\n",
    "\n",
    "A = np.zeros((n_users+1,n_items+1))\n",
    "for line in train.itertuples():\n",
    "    A[line[1],line[2]] = line[3]\n",
    "\n",
    "print(\"Original rating matrix shape: \",A.shape)\n",
    "print(\"Matrix :\\n\",A)"
   ]
  },
  {
   "cell_type": "code",
   "execution_count": 24,
   "id": "e2662421",
   "metadata": {},
   "outputs": [
    {
     "name": "stdout",
     "output_type": "stream",
     "text": [
      "Shape:  (417, 417)\n",
      "[[0.         0.9722365  0.89060962 ... 1.         1.         1.        ]\n",
      " [0.9722365  0.         0.91093714 ... 1.         1.         0.94611664]\n",
      " [0.89060962 0.91093714 0.         ... 1.         1.         1.        ]\n",
      " ...\n",
      " [1.         1.         1.         ... 0.         0.         1.        ]\n",
      " [1.         1.         1.         ... 0.         0.         1.        ]\n",
      " [1.         0.94611664 1.         ... 1.         1.         0.        ]]\n"
     ]
    }
   ],
   "source": [
    "from sklearn.metrics import pairwise_distances\n",
    "from scipy.spatial.distance import cosine\n",
    "\n",
    "#Valid metrics are ['euclidean', 'l2', 'l1', 'manhattan', 'cityblock', 'braycurtis', 'canberra', 'chebyshev', 'correlation', 'cosine', 'dice', 'hamming', 'jaccard', 'kulsinski', 'mahalanobis', 'matching', 'minkowski', 'rogerstanimoto', 'russellrao', 'seuclidean', 'sokalmichener', 'sokalsneath', 'sqeuclidean', 'yule', 'wminkowski', 'nan_euclidean', 'haversine'], or 'precomputed', or a callable\n",
    "sim_matrix = pairwise_distances(A.T, metric=\"cosine\")\n",
    "print(\"Shape: \", sim_matrix.shape)\n",
    "print(sim_matrix)"
   ]
  },
  {
   "cell_type": "code",
   "execution_count": 25,
   "id": "d2e1aaf7",
   "metadata": {},
   "outputs": [],
   "source": [
    "with open('sim_r_matrix.dat', 'w') as arq_sim_matrix:\n",
    "    for i in range(len(sim_matrix)):\n",
    "        for j in range(len(sim_matrix)):\n",
    "            if i < j:\n",
    "                arq_sim_matrix.write(str(i) + '\\t' + str(j) + '\\t' + str(sim_matrix[i][j]) + '\\n')"
   ]
  },
  {
   "cell_type": "markdown",
   "id": "9263dc85",
   "metadata": {},
   "source": [
    "### Testando só com similaridade baseada em ratings (equivalente ao ItemKNN)"
   ]
  },
  {
   "cell_type": "code",
   "execution_count": 26,
   "id": "49e3d55b",
   "metadata": {},
   "outputs": [
    {
     "name": "stdout",
     "output_type": "stream",
     "text": [
      "[Case Recommender: Rating Prediction > Item Attribute KNN Algorithm]\n",
      "\n",
      "train data:: 11090 users and 405 items (152496 interactions) | sparsity:: 96.60%\n",
      "test data:: 10571 users and 331 items (38125 interactions) | sparsity:: 98.91%\n",
      "\n",
      "training_time:: 6.862049 sec\n",
      "prediction_time:: 0.262534 sec\n",
      "Eval:: MAE: 0.662461 RMSE: 0.863259 \n"
     ]
    }
   ],
   "source": [
    "from caserec.recommenders.rating_prediction.item_attribute_knn import ItemAttributeKNN\n",
    "\n",
    "ItemAttributeKNN('train.dat', 'test.dat', similarity_file='sim_r_matrix.dat', as_similar_first=True).compute()"
   ]
  },
  {
   "cell_type": "markdown",
   "id": "4cc21f18",
   "metadata": {},
   "source": [
    "### Calcular similaridade baseada em gêneros"
   ]
  },
  {
   "cell_type": "code",
   "execution_count": 43,
   "id": "18124a99",
   "metadata": {},
   "outputs": [
    {
     "name": "stdout",
     "output_type": "stream",
     "text": [
      "                 genre\n",
      "0                Crime\n",
      "1                Drama\n",
      "2          Documentary\n",
      "3                 IMAX\n",
      "4             Thriller\n",
      "5                  War\n",
      "6               Action\n",
      "7               Comedy\n",
      "8              Romance\n",
      "9            Animation\n",
      "10            Children\n",
      "11             Mystery\n",
      "12              Sci-Fi\n",
      "13           Adventure\n",
      "14             Fantasy\n",
      "15           Film-Noir\n",
      "16              Horror\n",
      "17             Western\n",
      "18             Musical\n",
      "19  (no genres listed)\n"
     ]
    },
    {
     "data": {
      "text/plain": [
       "array([[0.        , 0.5       , 1.        , ..., 1.        , 1.        ,\n",
       "        0.66666667],\n",
       "       [0.5       , 0.        , 1.        , ..., 1.        , 1.        ,\n",
       "        0.5       ],\n",
       "       [1.        , 1.        , 0.        , ..., 1.        , 1.        ,\n",
       "        1.        ],\n",
       "       ...,\n",
       "       [1.        , 1.        , 1.        , ..., 0.        , 1.        ,\n",
       "        1.        ],\n",
       "       [1.        , 1.        , 1.        , ..., 1.        , 0.        ,\n",
       "        1.        ],\n",
       "       [0.66666667, 0.5       , 1.        , ..., 1.        , 1.        ,\n",
       "        0.        ]])"
      ]
     },
     "execution_count": 43,
     "metadata": {},
     "output_type": "execute_result"
    }
   ],
   "source": [
    "genres_unique = pd.DataFrame(movies.genres.str.split('|').tolist()).stack().unique()\n",
    "genres_unique = pd.DataFrame(genres_unique, columns=['genre'])\n",
    "print(genres_unique)\n",
    "movies_exp = movies.join(movies.genres.str.get_dummies().astype(bool))\n",
    "movies_exp.drop('genres', inplace=True, axis=1)\n",
    "movies_exp.dropna(inplace=True)\n",
    "B = movies_exp.iloc[:,2:].to_numpy(dtype=bool)\n",
    "\n",
    "sim_g_matrix = pairwise_distances(B, metric=\"jaccard\")\n",
    "sim_g_matrix"
   ]
  },
  {
   "cell_type": "code",
   "execution_count": 28,
   "id": "877945de",
   "metadata": {},
   "outputs": [],
   "source": [
    "with open('sim_g_matrix.dat', 'w') as arq_sim_matrix:\n",
    "    for i in range(len(sim_g_matrix)):\n",
    "        for j in range(len(sim_g_matrix)):\n",
    "            if i < j:\n",
    "                arq_sim_matrix.write(str(i) + '\\t' + str(j) + '\\t' + str(sim_g_matrix[i][j]) + '\\n')"
   ]
  },
  {
   "cell_type": "markdown",
   "id": "d97556b6",
   "metadata": {},
   "source": [
    "### Testando só com similaridade baseada em gêneros (equivalente a FBC)"
   ]
  },
  {
   "cell_type": "code",
   "execution_count": 29,
   "id": "13877402",
   "metadata": {},
   "outputs": [
    {
     "name": "stdout",
     "output_type": "stream",
     "text": [
      "[Case Recommender: Rating Prediction > Item Attribute KNN Algorithm]\n",
      "\n",
      "train data:: 11090 users and 405 items (152496 interactions) | sparsity:: 96.60%\n",
      "test data:: 10571 users and 331 items (38125 interactions) | sparsity:: 98.91%\n",
      "\n",
      "training_time:: 4.703032 sec\n",
      "prediction_time:: 0.770478 sec\n",
      "Eval:: MAE: 0.725912 RMSE: 0.955302 \n"
     ]
    }
   ],
   "source": [
    "ItemAttributeKNN('train.dat', 'test.dat', similarity_file='sim_g_matrix.dat', as_similar_first=True).compute()"
   ]
  },
  {
   "cell_type": "markdown",
   "id": "29fd198b",
   "metadata": {},
   "source": [
    "### Hibridização"
   ]
  },
  {
   "cell_type": "code",
   "execution_count": 30,
   "id": "968b611d",
   "metadata": {},
   "outputs": [
    {
     "data": {
      "text/html": [
       "<div>\n",
       "<style scoped>\n",
       "    .dataframe tbody tr th:only-of-type {\n",
       "        vertical-align: middle;\n",
       "    }\n",
       "\n",
       "    .dataframe tbody tr th {\n",
       "        vertical-align: top;\n",
       "    }\n",
       "\n",
       "    .dataframe thead th {\n",
       "        text-align: right;\n",
       "    }\n",
       "</style>\n",
       "<table border=\"1\" class=\"dataframe\">\n",
       "  <thead>\n",
       "    <tr style=\"text-align: right;\">\n",
       "      <th></th>\n",
       "      <th>movieId1</th>\n",
       "      <th>movieId2</th>\n",
       "      <th>similarity</th>\n",
       "    </tr>\n",
       "  </thead>\n",
       "  <tbody>\n",
       "    <tr>\n",
       "      <th>0</th>\n",
       "      <td>0</td>\n",
       "      <td>1</td>\n",
       "      <td>0.972237</td>\n",
       "    </tr>\n",
       "    <tr>\n",
       "      <th>1</th>\n",
       "      <td>0</td>\n",
       "      <td>2</td>\n",
       "      <td>0.890610</td>\n",
       "    </tr>\n",
       "    <tr>\n",
       "      <th>2</th>\n",
       "      <td>0</td>\n",
       "      <td>3</td>\n",
       "      <td>0.844219</td>\n",
       "    </tr>\n",
       "    <tr>\n",
       "      <th>3</th>\n",
       "      <td>0</td>\n",
       "      <td>4</td>\n",
       "      <td>0.832586</td>\n",
       "    </tr>\n",
       "    <tr>\n",
       "      <th>4</th>\n",
       "      <td>0</td>\n",
       "      <td>5</td>\n",
       "      <td>0.754534</td>\n",
       "    </tr>\n",
       "  </tbody>\n",
       "</table>\n",
       "</div>"
      ],
      "text/plain": [
       "   movieId1  movieId2  similarity\n",
       "0         0         1    0.972237\n",
       "1         0         2    0.890610\n",
       "2         0         3    0.844219\n",
       "3         0         4    0.832586\n",
       "4         0         5    0.754534"
      ]
     },
     "execution_count": 30,
     "metadata": {},
     "output_type": "execute_result"
    }
   ],
   "source": [
    "hib_rating_sim = pd.read_csv('sim_r_matrix.dat', sep='\\t', names=['movieId1', 'movieId2', 'similarity'])\n",
    "hib_rating_sim.sort_values(['movieId1', 'movieId2']).head()"
   ]
  },
  {
   "cell_type": "code",
   "execution_count": 31,
   "id": "c41e7ccd",
   "metadata": {},
   "outputs": [
    {
     "data": {
      "text/html": [
       "<div>\n",
       "<style scoped>\n",
       "    .dataframe tbody tr th:only-of-type {\n",
       "        vertical-align: middle;\n",
       "    }\n",
       "\n",
       "    .dataframe tbody tr th {\n",
       "        vertical-align: top;\n",
       "    }\n",
       "\n",
       "    .dataframe thead th {\n",
       "        text-align: right;\n",
       "    }\n",
       "</style>\n",
       "<table border=\"1\" class=\"dataframe\">\n",
       "  <thead>\n",
       "    <tr style=\"text-align: right;\">\n",
       "      <th></th>\n",
       "      <th>movieId1</th>\n",
       "      <th>movieId2</th>\n",
       "      <th>similarity</th>\n",
       "    </tr>\n",
       "  </thead>\n",
       "  <tbody>\n",
       "    <tr>\n",
       "      <th>0</th>\n",
       "      <td>0</td>\n",
       "      <td>1</td>\n",
       "      <td>0.50</td>\n",
       "    </tr>\n",
       "    <tr>\n",
       "      <th>1</th>\n",
       "      <td>0</td>\n",
       "      <td>2</td>\n",
       "      <td>1.00</td>\n",
       "    </tr>\n",
       "    <tr>\n",
       "      <th>2</th>\n",
       "      <td>0</td>\n",
       "      <td>3</td>\n",
       "      <td>0.75</td>\n",
       "    </tr>\n",
       "    <tr>\n",
       "      <th>3</th>\n",
       "      <td>0</td>\n",
       "      <td>4</td>\n",
       "      <td>0.50</td>\n",
       "    </tr>\n",
       "    <tr>\n",
       "      <th>4</th>\n",
       "      <td>0</td>\n",
       "      <td>5</td>\n",
       "      <td>0.50</td>\n",
       "    </tr>\n",
       "  </tbody>\n",
       "</table>\n",
       "</div>"
      ],
      "text/plain": [
       "   movieId1  movieId2  similarity\n",
       "0         0         1        0.50\n",
       "1         0         2        1.00\n",
       "2         0         3        0.75\n",
       "3         0         4        0.50\n",
       "4         0         5        0.50"
      ]
     },
     "execution_count": 31,
     "metadata": {},
     "output_type": "execute_result"
    }
   ],
   "source": [
    "hib_genre_sim = pd.read_csv('sim_g_matrix.dat', sep='\\t', names=['movieId1', 'movieId2', 'similarity'])\n",
    "hib_genre_sim.sort_values(['movieId1', 'movieId2']).head()"
   ]
  },
  {
   "cell_type": "code",
   "execution_count": 32,
   "id": "5be1b200",
   "metadata": {},
   "outputs": [
    {
     "data": {
      "text/html": [
       "<div>\n",
       "<style scoped>\n",
       "    .dataframe tbody tr th:only-of-type {\n",
       "        vertical-align: middle;\n",
       "    }\n",
       "\n",
       "    .dataframe tbody tr th {\n",
       "        vertical-align: top;\n",
       "    }\n",
       "\n",
       "    .dataframe thead th {\n",
       "        text-align: right;\n",
       "    }\n",
       "</style>\n",
       "<table border=\"1\" class=\"dataframe\">\n",
       "  <thead>\n",
       "    <tr style=\"text-align: right;\">\n",
       "      <th></th>\n",
       "      <th>movieId1</th>\n",
       "      <th>movieId2</th>\n",
       "      <th>similarity_x</th>\n",
       "      <th>similarity_y</th>\n",
       "    </tr>\n",
       "  </thead>\n",
       "  <tbody>\n",
       "    <tr>\n",
       "      <th>0</th>\n",
       "      <td>0</td>\n",
       "      <td>1</td>\n",
       "      <td>0.972237</td>\n",
       "      <td>0.50</td>\n",
       "    </tr>\n",
       "    <tr>\n",
       "      <th>1</th>\n",
       "      <td>0</td>\n",
       "      <td>2</td>\n",
       "      <td>0.890610</td>\n",
       "      <td>1.00</td>\n",
       "    </tr>\n",
       "    <tr>\n",
       "      <th>2</th>\n",
       "      <td>0</td>\n",
       "      <td>3</td>\n",
       "      <td>0.844219</td>\n",
       "      <td>0.75</td>\n",
       "    </tr>\n",
       "    <tr>\n",
       "      <th>3</th>\n",
       "      <td>0</td>\n",
       "      <td>4</td>\n",
       "      <td>0.832586</td>\n",
       "      <td>0.50</td>\n",
       "    </tr>\n",
       "    <tr>\n",
       "      <th>4</th>\n",
       "      <td>0</td>\n",
       "      <td>5</td>\n",
       "      <td>0.754534</td>\n",
       "      <td>0.50</td>\n",
       "    </tr>\n",
       "  </tbody>\n",
       "</table>\n",
       "</div>"
      ],
      "text/plain": [
       "   movieId1  movieId2  similarity_x  similarity_y\n",
       "0         0         1      0.972237          0.50\n",
       "1         0         2      0.890610          1.00\n",
       "2         0         3      0.844219          0.75\n",
       "3         0         4      0.832586          0.50\n",
       "4         0         5      0.754534          0.50"
      ]
     },
     "execution_count": 32,
     "metadata": {},
     "output_type": "execute_result"
    }
   ],
   "source": [
    "hib_sim = hib_rating_sim.merge(hib_genre_sim, on=['movieId1', 'movieId2'], how='outer')\n",
    "hib_sim.head()"
   ]
  },
  {
   "cell_type": "code",
   "execution_count": 33,
   "id": "ca78645f",
   "metadata": {},
   "outputs": [
    {
     "data": {
      "text/html": [
       "<div>\n",
       "<style scoped>\n",
       "    .dataframe tbody tr th:only-of-type {\n",
       "        vertical-align: middle;\n",
       "    }\n",
       "\n",
       "    .dataframe tbody tr th {\n",
       "        vertical-align: top;\n",
       "    }\n",
       "\n",
       "    .dataframe thead th {\n",
       "        text-align: right;\n",
       "    }\n",
       "</style>\n",
       "<table border=\"1\" class=\"dataframe\">\n",
       "  <thead>\n",
       "    <tr style=\"text-align: right;\">\n",
       "      <th></th>\n",
       "      <th>movieId1</th>\n",
       "      <th>movieId2</th>\n",
       "      <th>similarity_x</th>\n",
       "      <th>similarity_y</th>\n",
       "    </tr>\n",
       "  </thead>\n",
       "  <tbody>\n",
       "  </tbody>\n",
       "</table>\n",
       "</div>"
      ],
      "text/plain": [
       "Empty DataFrame\n",
       "Columns: [movieId1, movieId2, similarity_x, similarity_y]\n",
       "Index: []"
      ]
     },
     "execution_count": 33,
     "metadata": {},
     "output_type": "execute_result"
    }
   ],
   "source": [
    "hib_sim[hib_sim['similarity_x'].isna()==True]"
   ]
  },
  {
   "cell_type": "code",
   "execution_count": 34,
   "id": "49d7feda",
   "metadata": {},
   "outputs": [
    {
     "data": {
      "text/html": [
       "<div>\n",
       "<style scoped>\n",
       "    .dataframe tbody tr th:only-of-type {\n",
       "        vertical-align: middle;\n",
       "    }\n",
       "\n",
       "    .dataframe tbody tr th {\n",
       "        vertical-align: top;\n",
       "    }\n",
       "\n",
       "    .dataframe thead th {\n",
       "        text-align: right;\n",
       "    }\n",
       "</style>\n",
       "<table border=\"1\" class=\"dataframe\">\n",
       "  <thead>\n",
       "    <tr style=\"text-align: right;\">\n",
       "      <th></th>\n",
       "      <th>movieId1</th>\n",
       "      <th>movieId2</th>\n",
       "      <th>similarity_x</th>\n",
       "      <th>similarity_y</th>\n",
       "      <th>similarity</th>\n",
       "    </tr>\n",
       "  </thead>\n",
       "  <tbody>\n",
       "    <tr>\n",
       "      <th>0</th>\n",
       "      <td>0</td>\n",
       "      <td>1</td>\n",
       "      <td>0.972237</td>\n",
       "      <td>0.500000</td>\n",
       "      <td>0.830566</td>\n",
       "    </tr>\n",
       "    <tr>\n",
       "      <th>1</th>\n",
       "      <td>0</td>\n",
       "      <td>2</td>\n",
       "      <td>0.890610</td>\n",
       "      <td>1.000000</td>\n",
       "      <td>0.923427</td>\n",
       "    </tr>\n",
       "    <tr>\n",
       "      <th>2</th>\n",
       "      <td>0</td>\n",
       "      <td>3</td>\n",
       "      <td>0.844219</td>\n",
       "      <td>0.750000</td>\n",
       "      <td>0.815954</td>\n",
       "    </tr>\n",
       "    <tr>\n",
       "      <th>3</th>\n",
       "      <td>0</td>\n",
       "      <td>4</td>\n",
       "      <td>0.832586</td>\n",
       "      <td>0.500000</td>\n",
       "      <td>0.732810</td>\n",
       "    </tr>\n",
       "    <tr>\n",
       "      <th>4</th>\n",
       "      <td>0</td>\n",
       "      <td>5</td>\n",
       "      <td>0.754534</td>\n",
       "      <td>0.500000</td>\n",
       "      <td>0.678174</td>\n",
       "    </tr>\n",
       "    <tr>\n",
       "      <th>...</th>\n",
       "      <td>...</td>\n",
       "      <td>...</td>\n",
       "      <td>...</td>\n",
       "      <td>...</td>\n",
       "      <td>...</td>\n",
       "    </tr>\n",
       "    <tr>\n",
       "      <th>86731</th>\n",
       "      <td>413</td>\n",
       "      <td>415</td>\n",
       "      <td>0.000000</td>\n",
       "      <td>1.000000</td>\n",
       "      <td>0.300000</td>\n",
       "    </tr>\n",
       "    <tr>\n",
       "      <th>86732</th>\n",
       "      <td>413</td>\n",
       "      <td>416</td>\n",
       "      <td>1.000000</td>\n",
       "      <td>0.666667</td>\n",
       "      <td>0.900000</td>\n",
       "    </tr>\n",
       "    <tr>\n",
       "      <th>86733</th>\n",
       "      <td>414</td>\n",
       "      <td>415</td>\n",
       "      <td>0.000000</td>\n",
       "      <td>1.000000</td>\n",
       "      <td>0.300000</td>\n",
       "    </tr>\n",
       "    <tr>\n",
       "      <th>86734</th>\n",
       "      <td>414</td>\n",
       "      <td>416</td>\n",
       "      <td>1.000000</td>\n",
       "      <td>1.000000</td>\n",
       "      <td>1.000000</td>\n",
       "    </tr>\n",
       "    <tr>\n",
       "      <th>86735</th>\n",
       "      <td>415</td>\n",
       "      <td>416</td>\n",
       "      <td>1.000000</td>\n",
       "      <td>1.000000</td>\n",
       "      <td>1.000000</td>\n",
       "    </tr>\n",
       "  </tbody>\n",
       "</table>\n",
       "<p>86736 rows × 5 columns</p>\n",
       "</div>"
      ],
      "text/plain": [
       "       movieId1  movieId2  similarity_x  similarity_y  similarity\n",
       "0             0         1      0.972237      0.500000    0.830566\n",
       "1             0         2      0.890610      1.000000    0.923427\n",
       "2             0         3      0.844219      0.750000    0.815954\n",
       "3             0         4      0.832586      0.500000    0.732810\n",
       "4             0         5      0.754534      0.500000    0.678174\n",
       "...         ...       ...           ...           ...         ...\n",
       "86731       413       415      0.000000      1.000000    0.300000\n",
       "86732       413       416      1.000000      0.666667    0.900000\n",
       "86733       414       415      0.000000      1.000000    0.300000\n",
       "86734       414       416      1.000000      1.000000    1.000000\n",
       "86735       415       416      1.000000      1.000000    1.000000\n",
       "\n",
       "[86736 rows x 5 columns]"
      ]
     },
     "execution_count": 34,
     "metadata": {},
     "output_type": "execute_result"
    }
   ],
   "source": [
    "import math\n",
    "\n",
    "def choose_sim(row):\n",
    "    if math.isnan(row['similarity_x']):\n",
    "        return row['similarity_y']        \n",
    "    else:\n",
    "        return 0.7*row['similarity_x'] + 0.3*row['similarity_y']\n",
    "\n",
    "hib_sim['similarity'] = hib_sim.apply(lambda row: choose_sim(row), axis=1)\n",
    "hib_sim"
   ]
  },
  {
   "cell_type": "code",
   "execution_count": 35,
   "id": "9ad0667a",
   "metadata": {},
   "outputs": [],
   "source": [
    "hib_sim[['movieId1', 'movieId2', 'similarity']].to_csv('sim_h_matrix.dat', index=False, header=False, sep='\\t')"
   ]
  },
  {
   "cell_type": "code",
   "execution_count": 36,
   "id": "b725e530",
   "metadata": {},
   "outputs": [
    {
     "name": "stdout",
     "output_type": "stream",
     "text": [
      "[Case Recommender: Rating Prediction > Item Attribute KNN Algorithm]\n",
      "\n",
      "train data:: 11090 users and 405 items (152496 interactions) | sparsity:: 96.60%\n",
      "test data:: 10571 users and 331 items (38125 interactions) | sparsity:: 98.91%\n",
      "\n",
      "training_time:: 7.801001 sec\n",
      "prediction_time:: 0.673973 sec\n",
      "Eval:: MAE: 0.661219 RMSE: 0.86049 \n"
     ]
    }
   ],
   "source": [
    "ItemAttributeKNN('train.dat', 'test.dat', similarity_file='sim_h_matrix.dat', as_similar_first=True).compute()"
   ]
  },
  {
   "cell_type": "markdown",
   "id": "4cb3ff17",
   "metadata": {},
   "source": [
    "## Hibridização canalizada - meta-nível (MF + KNN)\n"
   ]
  },
  {
   "cell_type": "code",
   "execution_count": 37,
   "id": "139b474a",
   "metadata": {},
   "outputs": [],
   "source": [
    "from math import sqrt\n",
    "\n",
    "def train_svdopt(train, n_factors, lr=0.05, reg=0.02, miter=10):\n",
    "    global_mean = train['rating'].mean()\n",
    "    n_users = df['userId'].max()+1\n",
    "    n_items = df['movieId'].max()+1\n",
    "    bu = np.zeros(n_users)\n",
    "    bi = np.zeros(n_items)\n",
    "    p = np.random.normal(0.1, 0.1, (n_users, n_factors))\n",
    "    q = np.random.normal(0.1, 0.1, (n_items, n_factors))\n",
    "    error = []\n",
    "    for t in range(miter):\n",
    "        sq_error = 0\n",
    "        for index, row in train.iterrows():\n",
    "            u = row['userId']\n",
    "            i = row['movieId']\n",
    "            r_ui = row['rating']\n",
    "            pred = global_mean + bu[u] + bi[i] + np.dot(p[u], q[i])\n",
    "            e_ui = r_ui - pred\n",
    "            sq_error = sq_error + pow(e_ui, 2)\n",
    "            bu[u] = bu[u] + lr * e_ui\n",
    "            bi[i] = bi[i] + lr * e_ui\n",
    "            for f in range(n_factors):\n",
    "                temp_uf = p[u][f]\n",
    "                p[u][f] = p[u][f] + lr * (e_ui * q[i][f] - reg * p[u][f])\n",
    "                q[i][f] = q[i][f] + lr * (e_ui * temp_uf - reg * q[i][f])\n",
    "        error.append(sqrt(sq_error/len(train)))\n",
    "    \n",
    "    return global_mean, bu, bi, p, q, error"
   ]
  },
  {
   "cell_type": "code",
   "execution_count": 38,
   "id": "df61a45e",
   "metadata": {},
   "outputs": [],
   "source": [
    "gl, bu, bi, p, q, error = train_svdopt(train, 10, miter=30)"
   ]
  },
  {
   "cell_type": "code",
   "execution_count": 39,
   "id": "903998a6",
   "metadata": {},
   "outputs": [
    {
     "name": "stdout",
     "output_type": "stream",
     "text": [
      "Items factors matrix shape:  (417, 10)\n"
     ]
    }
   ],
   "source": [
    "print('Items factors matrix shape: ', q.shape)"
   ]
  },
  {
   "cell_type": "code",
   "execution_count": 40,
   "id": "9e82d85c",
   "metadata": {},
   "outputs": [
    {
     "name": "stdout",
     "output_type": "stream",
     "text": [
      "Shape:  (417, 417)\n",
      "[[0.         1.1941483  1.62711386 ... 1.14695206 0.8685363  1.24268945]\n",
      " [1.1941483  0.         0.93004272 ... 0.83043361 0.84494341 1.62047542]\n",
      " [1.62711386 0.93004272 0.         ... 0.80879002 1.30855934 0.65908884]\n",
      " ...\n",
      " [1.14695206 0.83043361 0.80879002 ... 0.         1.44242327 0.85119935]\n",
      " [0.8685363  0.84494341 1.30855934 ... 1.44242327 0.         0.84791173]\n",
      " [1.24268945 1.62047542 0.65908884 ... 0.85119935 0.84791173 0.        ]]\n"
     ]
    }
   ],
   "source": [
    "sim_f_matrix = pairwise_distances(q, metric=\"cosine\")\n",
    "print(\"Shape: \", sim_f_matrix.shape)\n",
    "print(sim_f_matrix)"
   ]
  },
  {
   "cell_type": "code",
   "execution_count": 41,
   "id": "ab8ad2de",
   "metadata": {},
   "outputs": [],
   "source": [
    "with open('sim_f_matrix.dat', 'w') as arq_sim_matrix:\n",
    "    for i in range(len(sim_f_matrix)):\n",
    "        for j in range(len(sim_f_matrix)):\n",
    "            if i < j:\n",
    "                arq_sim_matrix.write(str(i) + '\\t' + str(j) + '\\t' + str(sim_f_matrix[i][j]) + '\\n')"
   ]
  },
  {
   "cell_type": "code",
   "execution_count": 42,
   "id": "cf5edaa9",
   "metadata": {},
   "outputs": [
    {
     "name": "stdout",
     "output_type": "stream",
     "text": [
      "[Case Recommender: Rating Prediction > Item Attribute KNN Algorithm]\n",
      "\n",
      "train data:: 11090 users and 405 items (152496 interactions) | sparsity:: 96.60%\n",
      "test data:: 10571 users and 331 items (38125 interactions) | sparsity:: 98.91%\n",
      "\n",
      "training_time:: 4.770686 sec\n",
      "prediction_time:: 0.626801 sec\n",
      "Eval:: MAE: 0.738577 RMSE: 0.972871 \n"
     ]
    }
   ],
   "source": [
    "ItemAttributeKNN('train.dat', 'test.dat', similarity_file='sim_f_matrix.dat', as_similar_first=True).compute()"
   ]
  }
 ],
 "metadata": {
  "kernelspec": {
   "display_name": "Python 3",
   "language": "python",
   "name": "python3"
  },
  "language_info": {
   "codemirror_mode": {
    "name": "ipython",
    "version": 3
   },
   "file_extension": ".py",
   "mimetype": "text/x-python",
   "name": "python",
   "nbconvert_exporter": "python",
   "pygments_lexer": "ipython3",
   "version": "3.12.6"
  }
 },
 "nbformat": 4,
 "nbformat_minor": 5
}
