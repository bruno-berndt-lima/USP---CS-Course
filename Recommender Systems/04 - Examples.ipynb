{
 "cells": [
  {
   "cell_type": "markdown",
   "metadata": {},
   "source": [
    "# Aula 05 - Exemplos"
   ]
  },
  {
   "cell_type": "code",
   "execution_count": 1,
   "metadata": {
    "executionInfo": {
     "elapsed": 1489,
     "status": "ok",
     "timestamp": 1655753727921,
     "user": {
      "displayName": "Marcelo Manzato",
      "userId": "04825752819034907940"
     },
     "user_tz": 180
    },
    "id": "BwBeOhCaERjC"
   },
   "outputs": [],
   "source": [
    "import numpy as np\n",
    "import pandas as pd"
   ]
  },
  {
   "cell_type": "markdown",
   "metadata": {},
   "source": [
    "## Fazendo download da base"
   ]
  },
  {
   "cell_type": "code",
   "execution_count": 1,
   "metadata": {
    "colab": {
     "base_uri": "https://localhost:8080/"
    },
    "executionInfo": {
     "elapsed": 9625,
     "status": "ok",
     "timestamp": 1655753719706,
     "user": {
      "displayName": "Marcelo Manzato",
      "userId": "04825752819034907940"
     },
     "user_tz": 180
    },
    "id": "OD_v_w7Xl4aO",
    "outputId": "52d7a06f-e664-4533-f659-04bd6d330d5e"
   },
   "outputs": [
    {
     "name": "stdout",
     "output_type": "stream",
     "text": [
      "100% [....................................................] 65019041 / 65019041\n",
      "Saved under ml-20m-compact.tar.gz\n",
      "x dataset/\n",
      "x dataset/tags_sample.csv\n",
      "x dataset/.DS_Store\n",
      "x dataset/movies_sample.csv\n",
      "x dataset/genome-tags.csv\n",
      "x dataset/ml-youtube.csv\n",
      "x dataset/genome-scores.csv\n",
      "x dataset/ratings_sample.csv\n"
     ]
    }
   ],
   "source": [
    "import wget\n",
    "!python3 -m wget https://github.com/mmanzato/MBABigData/raw/master/ml-20m-compact.tar.gz\n",
    "!tar -xvzf ml-20m-compact.tar.gz"
   ]
  },
  {
   "cell_type": "markdown",
   "metadata": {
    "id": "S_bo-yZVngYP"
   },
   "source": [
    "## Ler e preparar dados (vide notebooks anteriores)\n"
   ]
  },
  {
   "cell_type": "code",
   "execution_count": 2,
   "metadata": {
    "id": "yFc5AN6-mBWT"
   },
   "outputs": [],
   "source": [
    "movies = pd.read_csv('./dataset/movies_sample.csv')\n",
    "ratings = pd.read_csv('./dataset/ratings_sample.csv')\n",
    "df = ratings[['userId', 'movieId', 'rating']]\n",
    "df = df.merge(movies[['movieId', 'title']])\n",
    "map_users = {user: idx for idx, user in enumerate(df.userId.unique())}\n",
    "map_items = {item: idx for idx, item in enumerate(df.movieId.unique())}\n",
    "df['userId'] = df['userId'].map(map_users)\n",
    "df['movieId'] = df['movieId'].map(map_items)\n",
    "\n",
    "map_title = {}\n",
    "for _, row in df.iterrows():\n",
    "    map_title[row.movieId] = row.title"
   ]
  },
  {
   "cell_type": "markdown",
   "metadata": {
    "id": "PG2-igcjGgzs"
   },
   "source": [
    "## Avaliação no cenário de predição de notas (rating prediction)"
   ]
  },
  {
   "cell_type": "markdown",
   "metadata": {},
   "source": [
    "### Cross-Validation"
   ]
  },
  {
   "cell_type": "code",
   "execution_count": 3,
   "metadata": {
    "colab": {
     "base_uri": "https://localhost:8080/",
     "height": 143
    },
    "executionInfo": {
     "elapsed": 611,
     "status": "ok",
     "timestamp": 1651844795926,
     "user": {
      "displayName": "Marcelo Manzato",
      "userId": "04825752819034907940"
     },
     "user_tz": 180
    },
    "id": "L1EoGufqFHJp",
    "outputId": "70404d35-1f6f-4c2e-9bf1-55d185d2f2b4"
   },
   "outputs": [
    {
     "name": "stdout",
     "output_type": "stream",
     "text": [
      "[Case Recommender: Cross Validation]\n",
      "\n",
      "Database:: ratings.dat \n",
      "Recommender Algorithm:: ItemKNN Algorithm | K Folds: 5\n",
      "\n",
      "Eval:: MAE: 0.80243 RMSE: 1.068182 \n",
      "Eval:: MAE: 0.801585 RMSE: 1.065781 \n",
      "Eval:: MAE: 0.799916 RMSE: 1.06408 \n",
      "Eval:: MAE: 0.801509 RMSE: 1.064542 \n",
      "Eval:: MAE: 0.800297 RMSE: 1.06173 \n",
      "Mean:: MAE: 0.801147 RMSE: 1.064863 \n",
      "STD:: MAE: 0.000917 RMSE: 0.002116 \n"
     ]
    }
   ],
   "source": [
    "from caserec.utils.cross_validation import CrossValidation\n",
    "from caserec.recommenders.rating_prediction.itemknn import ItemKNN\n",
    "\n",
    "df.to_csv('ratings.dat', index=False, header=False, sep='\\t')\n",
    "\n",
    "recommender = ItemKNN()\n",
    "CrossValidation(input_file='ratings.dat', recommender=recommender, dir_folds='./', header=1, k_folds=5).compute()"
   ]
  },
  {
   "cell_type": "markdown",
   "metadata": {},
   "source": [
    "### Hold-Out"
   ]
  },
  {
   "cell_type": "code",
   "execution_count": 4,
   "metadata": {
    "colab": {
     "base_uri": "https://localhost:8080/"
    },
    "executionInfo": {
     "elapsed": 13535,
     "status": "ok",
     "timestamp": 1651844724821,
     "user": {
      "displayName": "Marcelo Manzato",
      "userId": "04825752819034907940"
     },
     "user_tz": 180
    },
    "id": "gnQKrVXnDurV",
    "outputId": "4447b5b5-cf49-4a01-8e85-58e780edd087"
   },
   "outputs": [
    {
     "name": "stdout",
     "output_type": "stream",
     "text": [
      "[Case Recommender: Rating Prediction > ItemKNN Algorithm]\n",
      "\n",
      "train data:: 11090 users and 403 items (152496 interactions) | sparsity:: 96.59%\n",
      "test data:: 10503 users and 340 items (38125 interactions) | sparsity:: 98.93%\n",
      "\n",
      "training_time:: 3.721757 sec\n",
      "prediction_time:: 2.289772 sec\n",
      "Eval:: MAE: 0.665964 RMSE: 0.876739 \n"
     ]
    }
   ],
   "source": [
    "from sklearn.model_selection import train_test_split\n",
    "\n",
    "train, test = train_test_split(df, test_size=.2, random_state=2)\n",
    "train.to_csv('train.dat', index=False, header=False, sep='\\t')\n",
    "test.to_csv('test.dat', index=False, header=False, sep='\\t')\n",
    "\n",
    "\n",
    "ItemKNN('train.dat', 'test.dat', 'rp_iknn.dat', as_similar_first=True).compute()"
   ]
  },
  {
   "cell_type": "markdown",
   "metadata": {},
   "source": [
    "### Explorando as predições"
   ]
  },
  {
   "cell_type": "code",
   "execution_count": 5,
   "metadata": {
    "colab": {
     "base_uri": "https://localhost:8080/"
    },
    "executionInfo": {
     "elapsed": 333752,
     "status": "ok",
     "timestamp": 1651845183544,
     "user": {
      "displayName": "Marcelo Manzato",
      "userId": "04825752819034907940"
     },
     "user_tz": 180
    },
    "id": "dqOhsX0XEIG_",
    "outputId": "9d269e3d-9e83-4c5d-963b-1e02846c24f0"
   },
   "outputs": [
    {
     "name": "stdout",
     "output_type": "stream",
     "text": [
      "[4.26384, 3.824934]\n"
     ]
    }
   ],
   "source": [
    "preds = pd.read_csv('./rp_iknn.dat', sep='\\t', names=['userId', 'movieId', 'rating'])\n",
    "preds_user = preds.loc[(preds.userId==0), 'rating'].tolist()\n",
    "print(preds_user)"
   ]
  },
  {
   "cell_type": "code",
   "execution_count": 6,
   "metadata": {
    "colab": {
     "base_uri": "https://localhost:8080/",
     "height": 143
    },
    "executionInfo": {
     "elapsed": 403,
     "status": "ok",
     "timestamp": 1651845297769,
     "user": {
      "displayName": "Marcelo Manzato",
      "userId": "04825752819034907940"
     },
     "user_tz": 180
    },
    "id": "fG8zLJsFFVN9",
    "outputId": "49e4fc03-59d2-4500-df12-61f06960bda1"
   },
   "outputs": [
    {
     "name": "stdout",
     "output_type": "stream",
     "text": [
      "[5.0, 5.0]\n"
     ]
    }
   ],
   "source": [
    "ratings_user = test.loc[(test.userId==0), 'rating'].tolist()\n",
    "print(ratings_user)"
   ]
  },
  {
   "cell_type": "code",
   "execution_count": 7,
   "metadata": {},
   "outputs": [
    {
     "name": "stdout",
     "output_type": "stream",
     "text": [
      "0.9804875445297611\n"
     ]
    }
   ],
   "source": [
    "from math import sqrt\n",
    "\n",
    "def rmse_user(preds, ratings):\n",
    "    if len(preds) != len(ratings):\n",
    "        return -1\n",
    "    sum = 0\n",
    "    for i in range(len(preds)):\n",
    "        sum += pow(preds[i]-ratings[i], 2)\n",
    "    return sqrt(sum/len(preds))\n",
    "\n",
    "print(rmse_user(preds_user, ratings_user))"
   ]
  },
  {
   "cell_type": "markdown",
   "metadata": {
    "id": "lch6FzLoGF4F"
   },
   "source": [
    "## Avaliação no cenário de recomendação de itens (item recommendation)"
   ]
  },
  {
   "cell_type": "code",
   "execution_count": 8,
   "metadata": {
    "colab": {
     "base_uri": "https://localhost:8080/"
    },
    "executionInfo": {
     "elapsed": 42558,
     "status": "ok",
     "timestamp": 1651845408460,
     "user": {
      "displayName": "Marcelo Manzato",
      "userId": "04825752819034907940"
     },
     "user_tz": 180
    },
    "id": "hTgDDYUlGJTc",
    "outputId": "155dccaf-633b-4bc9-ed99-91f305eb5f37"
   },
   "outputs": [
    {
     "name": "stdout",
     "output_type": "stream",
     "text": [
      "[Case Recommender: Item Recommendation > BPRMF]\n",
      "\n",
      "train data:: 11090 users and 403 items (152496 interactions) | sparsity:: 96.59%\n",
      "test data:: 10503 users and 340 items (38125 interactions) | sparsity:: 98.93%\n",
      "\n",
      "training_time:: 105.370493 sec\n",
      "prediction_time:: 2.090727 sec\n",
      "\n",
      "\n",
      "Eval:: PREC@1: 0.37475 PREC@3: 0.263956 PREC@5: 0.223784 PREC@10: 0.172322 RECALL@1: 0.118124 RECALL@3: 0.23802 RECALL@5: 0.329635 RECALL@10: 0.500156 MAP@1: 0.37475 MAP@3: 0.459123 MAP@5: 0.463995 MAP@10: 0.439807 NDCG@1: 0.37475 NDCG@3: 0.540146 NDCG@5: 0.561823 NDCG@10: 0.562711 \n"
     ]
    }
   ],
   "source": [
    "from caserec.recommenders.item_recommendation.bprmf import BprMF\n",
    "\n",
    "BprMF('train.dat', 'test.dat', 'ir_bprmf.dat', factors=3).compute()"
   ]
  },
  {
   "cell_type": "code",
   "execution_count": 9,
   "metadata": {
    "colab": {
     "base_uri": "https://localhost:8080/"
    },
    "executionInfo": {
     "elapsed": 3347,
     "status": "ok",
     "timestamp": 1651845520674,
     "user": {
      "displayName": "Marcelo Manzato",
      "userId": "04825752819034907940"
     },
     "user_tz": 180
    },
    "id": "y3BFGK-6Hcg9",
    "outputId": "672bc223-d15b-49f5-935c-50aa8518142b"
   },
   "outputs": [
    {
     "name": "stdout",
     "output_type": "stream",
     "text": [
      "[Case Recommender: Item Recommendation > ItemKNN Algorithm]\n",
      "\n",
      "train data:: 11090 users and 403 items (152496 interactions) | sparsity:: 96.59%\n",
      "test data:: 10503 users and 340 items (38125 interactions) | sparsity:: 98.93%\n",
      "\n",
      "training_time:: 1.059788 sec\n",
      "prediction_time:: 37.244149 sec\n",
      "\n",
      "\n",
      "Eval:: PREC@1: 0.419023 PREC@3: 0.307975 PREC@5: 0.254384 PREC@10: 0.187261 RECALL@1: 0.134438 RECALL@3: 0.281617 RECALL@5: 0.378529 RECALL@10: 0.546924 MAP@1: 0.419023 MAP@3: 0.513599 MAP@5: 0.516788 MAP@10: 0.487732 NDCG@1: 0.419023 NDCG@3: 0.603503 NDCG@5: 0.620406 NDCG@10: 0.613585 \n"
     ]
    }
   ],
   "source": [
    "from caserec.recommenders.item_recommendation.itemknn import ItemKNN\n",
    "\n",
    "ItemKNN('train.dat', 'test.dat', 'ir_itemknn.dat').compute()"
   ]
  },
  {
   "cell_type": "markdown",
   "metadata": {},
   "source": [
    "### Explorando as recomendações"
   ]
  },
  {
   "cell_type": "code",
   "execution_count": 10,
   "metadata": {},
   "outputs": [
    {
     "name": "stdout",
     "output_type": "stream",
     "text": [
      "[12, 22, 10, 4, 17, 21, 30, 33, 13, 28]\n"
     ]
    }
   ],
   "source": [
    "recs = pd.read_csv('./ir_bprmf.dat', sep='\\t', names=['userId', 'movieId', 'score'])\n",
    "recs_user = recs.loc[(recs.userId==1), 'movieId'].tolist()\n",
    "print(recs_user)"
   ]
  },
  {
   "cell_type": "code",
   "execution_count": 11,
   "metadata": {},
   "outputs": [
    {
     "name": "stdout",
     "output_type": "stream",
     "text": [
      "[6, 106, 21, 30, 12]\n"
     ]
    }
   ],
   "source": [
    "ground_truth = test.loc[(test.userId==1), 'movieId'].tolist()\n",
    "print(ground_truth)"
   ]
  },
  {
   "cell_type": "code",
   "execution_count": 12,
   "metadata": {},
   "outputs": [
    {
     "name": "stdout",
     "output_type": "stream",
     "text": [
      "Precisão: 0.3\n",
      "Revocação: 0.6\n"
     ]
    }
   ],
   "source": [
    "intersec = list(set(recs_user) & set(ground_truth))\n",
    "print('Precisão: ' + str(len(intersec)/len(recs_user)))\n",
    "print('Revocação: ' + str(len(intersec)/len(ground_truth)))"
   ]
  }
 ],
 "metadata": {
  "colab": {
   "collapsed_sections": [],
   "name": "FC.ipynb",
   "provenance": []
  },
  "kernelspec": {
   "display_name": "Python 3 (ipykernel)",
   "language": "python",
   "name": "python3"
  },
  "language_info": {
   "codemirror_mode": {
    "name": "ipython",
    "version": 3
   },
   "file_extension": ".py",
   "mimetype": "text/x-python",
   "name": "python",
   "nbconvert_exporter": "python",
   "pygments_lexer": "ipython3",
   "version": "3.12.4"
  }
 },
 "nbformat": 4,
 "nbformat_minor": 4
}
