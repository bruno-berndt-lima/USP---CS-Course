{
 "cells": [
  {
   "cell_type": "markdown",
   "id": "4a51fca0",
   "metadata": {},
   "source": [
    "# Viés de Popularidade em Sistemas de Recomendação\n",
    "\n",
    "---\n",
    "\n",
    "## Tabela de Conteudos\n",
    "\n",
    "0. [Download do Dataset](#0.-Download-do-Dataset-)\n",
    "\n",
    "1. [Carregando e Visualizando o Dataset](#1.-Carregando-e-visualizando-o-dataset)\n",
    "\n",
    "2. [Divisão da Base em Treino e teste](#2.-Divisão-da-base-em-treino-e-teste)\n",
    "\n",
    "3. [Visualizando a curva de popularidade do dataset](#3.-Visualizando-a-curva-de-popularidade-do-dataset)\n",
    "\n",
    "4. [Formas de medir o vies de popularidade](#4.-Formas-de-medir-o-vies-de-popularidade)\n",
    "\n",
    "5. [Correção do víes de popularidade](#5.-Correção-do-víes-de-popularidade)\n",
    "\n",
    "6. [Comparação das Métricas](#6.-Comparação-das-métricas)\n",
    "\n",
    "## Vídeos de Apoio\n",
    "\n",
    "https://www.youtube.com/watch?v=OSv5J1EVEqA\n",
    "\n",
    "https://www.youtube.com/watch?v=abGCaK86tY4\n"
   ]
  },
  {
   "cell_type": "markdown",
   "id": "adba3a5b",
   "metadata": {},
   "source": [
    "## 0. Download do Dataset <a class=\"anchor\" id=\"download1\"></a>"
   ]
  },
  {
   "cell_type": "markdown",
   "id": "cc4f4181",
   "metadata": {},
   "source": [
    "O dataset utilizado para essa aula será o conjunto Steam-200k, composto por interações entre usuarios e jogos na plataforma virtual Steam. As interações desse dataset estão no formato de \"horas jogadas\", ou seja, quanto mais o usuario gosta de determinado jogo, maior será as horas jogadas, portanto, essa será a informação usada para gerar as recomendações!\n",
    "\n",
    "Esse dataset consiste em:\n",
    "\n",
    "* 70489 interações envolvendo 3600 jogos\n",
    "* 11350 usuarios"
   ]
  },
  {
   "cell_type": "code",
   "execution_count": 3,
   "id": "1ad6edc2",
   "metadata": {},
   "outputs": [
    {
     "name": "stdout",
     "output_type": "stream",
     "text": [
      "--2022-11-12 16:37:43--  https://raw.githubusercontent.com/Andre-Sacilotti/recsys_lectures/main/datasets/steam-200k.csv\n",
      "Resolving raw.githubusercontent.com (raw.githubusercontent.com)... 2606:50c0:8000::154, 2606:50c0:8002::154, 2606:50c0:8001::154, ...\n",
      "Connecting to raw.githubusercontent.com (raw.githubusercontent.com)|2606:50c0:8000::154|:443... connected.\n",
      "HTTP request sent, awaiting response... 200 OK\n",
      "Length: 2268468 (2.2M) [text/plain]\n",
      "Saving to: ‘./steam-200k.csv’\n",
      "\n",
      "./steam-200k.csv    100%[===================>]   2.16M  --.-KB/s    in 0.1s    \n",
      "\n",
      "2022-11-12 16:37:44 (15.3 MB/s) - ‘./steam-200k.csv’ saved [2268468/2268468]\n",
      "\n"
     ]
    }
   ],
   "source": [
    "!wget https://raw.githubusercontent.com/Andre-Sacilotti/recsys_lectures/main/datasets/steam-200k.csv  -O ./steam-200k.csv"
   ]
  },
  {
   "cell_type": "code",
   "execution_count": null,
   "id": "25ef38ee",
   "metadata": {},
   "outputs": [],
   "source": [
    "!pip install surprise"
   ]
  },
  {
   "cell_type": "code",
   "execution_count": 1,
   "id": "fe212462",
   "metadata": {},
   "outputs": [],
   "source": [
    "import pandas as pd\n",
    "import tqdm\n",
    "import numpy as np\n",
    "from sklearn.model_selection import train_test_split\n",
    "import seaborn as sns\n",
    "from matplotlib import pyplot as plt\n",
    "from surprise import Dataset, Reader\n",
    "from surprise.model_selection import cross_validate\n",
    "from surprise import accuracy, Dataset, SVD\n",
    "from surprise.model_selection import KFold\n",
    "from surprise.prediction_algorithms.knns import KNNBasic"
   ]
  },
  {
   "cell_type": "markdown",
   "id": "75ad2e05",
   "metadata": {},
   "source": [
    "## 1. Carregando e visualizando o dataset"
   ]
  },
  {
   "cell_type": "markdown",
   "id": "d307252a",
   "metadata": {},
   "source": [
    "A primeira etapa é carregar o dataset e realizar a normalização das horas jogadas por usuario. A normalização ocorre pois a quantidade de horas jogadas é um valor que pode aumentar sem limitações, por isso, normalizamos para o intervalo [0, 1], estabelecendo o limite inferior e superior "
   ]
  },
  {
   "cell_type": "code",
   "execution_count": 4,
   "id": "07c26458",
   "metadata": {},
   "outputs": [
    {
     "data": {
      "text/html": [
       "<div>\n",
       "<style scoped>\n",
       "    .dataframe tbody tr th:only-of-type {\n",
       "        vertical-align: middle;\n",
       "    }\n",
       "\n",
       "    .dataframe tbody tr th {\n",
       "        vertical-align: top;\n",
       "    }\n",
       "\n",
       "    .dataframe thead th {\n",
       "        text-align: right;\n",
       "    }\n",
       "</style>\n",
       "<table border=\"1\" class=\"dataframe\">\n",
       "  <thead>\n",
       "    <tr style=\"text-align: right;\">\n",
       "      <th></th>\n",
       "      <th>user_id</th>\n",
       "      <th>game_title</th>\n",
       "      <th>hours_played</th>\n",
       "    </tr>\n",
       "  </thead>\n",
       "  <tbody>\n",
       "    <tr>\n",
       "      <th>0</th>\n",
       "      <td>151603712</td>\n",
       "      <td>The Elder Scrolls V Skyrim</td>\n",
       "      <td>0.598538</td>\n",
       "    </tr>\n",
       "    <tr>\n",
       "      <th>1</th>\n",
       "      <td>151603712</td>\n",
       "      <td>Fallout 4</td>\n",
       "      <td>0.476519</td>\n",
       "    </tr>\n",
       "    <tr>\n",
       "      <th>2</th>\n",
       "      <td>151603712</td>\n",
       "      <td>Spore</td>\n",
       "      <td>0.288239</td>\n",
       "    </tr>\n",
       "    <tr>\n",
       "      <th>3</th>\n",
       "      <td>151603712</td>\n",
       "      <td>Fallout New Vegas</td>\n",
       "      <td>0.266028</td>\n",
       "    </tr>\n",
       "    <tr>\n",
       "      <th>4</th>\n",
       "      <td>151603712</td>\n",
       "      <td>Left 4 Dead 2</td>\n",
       "      <td>0.233255</td>\n",
       "    </tr>\n",
       "  </tbody>\n",
       "</table>\n",
       "</div>"
      ],
      "text/plain": [
       "     user_id                  game_title  hours_played\n",
       "0  151603712  The Elder Scrolls V Skyrim      0.598538\n",
       "1  151603712                   Fallout 4      0.476519\n",
       "2  151603712                       Spore      0.288239\n",
       "3  151603712           Fallout New Vegas      0.266028\n",
       "4  151603712               Left 4 Dead 2      0.233255"
      ]
     },
     "execution_count": 4,
     "metadata": {},
     "output_type": "execute_result"
    }
   ],
   "source": [
    "df = pd.read_csv(\"./steam-200k.csv\")\n",
    "df['hours_played'] = np.log10(df['hours_played'])/np.log10(df['hours_played']).max()\n",
    "df['user_id'] = df['user_id'].astype(str)\n",
    "df.head()"
   ]
  },
  {
   "cell_type": "code",
   "execution_count": 5,
   "id": "fed3bae1",
   "metadata": {},
   "outputs": [
    {
     "name": "stdout",
     "output_type": "stream",
     "text": [
      "Numero de Usuarios:  11350\n",
      "Numero de Jogos:  3600\n"
     ]
    }
   ],
   "source": [
    "n_jogos = len(df['game_title'].unique())\n",
    "n_usuarios = len(df['user_id'].unique())\n",
    "\n",
    "print(\"Numero de Usuarios: \", n_usuarios)\n",
    "print(\"Numero de Jogos: \", n_jogos)"
   ]
  },
  {
   "cell_type": "markdown",
   "id": "7abb09b4",
   "metadata": {},
   "source": [
    "## 2. Divisão da base em treino e teste"
   ]
  },
  {
   "cell_type": "markdown",
   "id": "33db12cc",
   "metadata": {},
   "source": [
    "Antes de avançar para as etapas de exploração dos vieses de popularidade é importante dividir o dataset em bases de treino e teste.\n",
    "\n",
    "Essa divisão é importante, pois, usaremos a base de treino tanto para ajustar nosso modelo de recomendação, conforme ja visto nas aulas anteriores, mas também para metrificar o estado inicial do perfis dos usuarios, ou seja, usaremos a base de treino para medir o nivel de popularidade dos filmes que cada usuario consome e poder realizar uma comparação justa com as recomendações geradas posteriormente!"
   ]
  },
  {
   "cell_type": "code",
   "execution_count": 6,
   "id": "58ed3f0b",
   "metadata": {},
   "outputs": [],
   "source": [
    "train, test = train_test_split(df, test_size=.3, random_state=42)"
   ]
  },
  {
   "cell_type": "markdown",
   "id": "f59c675a",
   "metadata": {},
   "source": [
    "## 3. Visualizando a curva de popularidade do dataset"
   ]
  },
  {
   "cell_type": "markdown",
   "id": "2c863aa7",
   "metadata": {},
   "source": [
    "A primeira etapa para entender o que é essa tal de popularidade é defini-la! \n",
    "\n",
    "Nessa aula usaremos a definição de popularidade como a quantidade de interações que um item, jogo ou filme possui. Por exemplo, se 10 usuarios jogaram o jogo A e 100 usuarios jogaram o jogo B, definimos que a popularidade $p(A) = 10$ e $p(B) = 100$ de tal forma que podemos comparar o quão mais popular ou não são os jogos, $p(B) > p(A)$."
   ]
  },
  {
   "cell_type": "markdown",
   "id": "8124dc26",
   "metadata": {},
   "source": [
    "### 3.1 Cálculo da quantidade de horas jogadas por jogo"
   ]
  },
  {
   "cell_type": "markdown",
   "id": "95252f03",
   "metadata": {},
   "source": [
    "Utilizando a ferramenta ``groupby`` do pandas podemos agrupar jogos com mesmo título e contar a quantidade de interações."
   ]
  },
  {
   "cell_type": "code",
   "execution_count": 7,
   "id": "b52011ac",
   "metadata": {},
   "outputs": [
    {
     "data": {
      "text/html": [
       "<div>\n",
       "<style scoped>\n",
       "    .dataframe tbody tr th:only-of-type {\n",
       "        vertical-align: middle;\n",
       "    }\n",
       "\n",
       "    .dataframe tbody tr th {\n",
       "        vertical-align: top;\n",
       "    }\n",
       "\n",
       "    .dataframe thead th {\n",
       "        text-align: right;\n",
       "    }\n",
       "</style>\n",
       "<table border=\"1\" class=\"dataframe\">\n",
       "  <thead>\n",
       "    <tr style=\"text-align: right;\">\n",
       "      <th></th>\n",
       "      <th>interactions</th>\n",
       "    </tr>\n",
       "    <tr>\n",
       "      <th>game_title</th>\n",
       "      <th></th>\n",
       "    </tr>\n",
       "  </thead>\n",
       "  <tbody>\n",
       "    <tr>\n",
       "      <th>007 Legends</th>\n",
       "      <td>1</td>\n",
       "    </tr>\n",
       "    <tr>\n",
       "      <th>0RBITALIS</th>\n",
       "      <td>3</td>\n",
       "    </tr>\n",
       "    <tr>\n",
       "      <th>1... 2... 3... KICK IT! (Drop That Beat Like an Ugly Baby)</th>\n",
       "      <td>1</td>\n",
       "    </tr>\n",
       "    <tr>\n",
       "      <th>10 Second Ninja</th>\n",
       "      <td>2</td>\n",
       "    </tr>\n",
       "    <tr>\n",
       "      <th>100% Orange Juice</th>\n",
       "      <td>6</td>\n",
       "    </tr>\n",
       "  </tbody>\n",
       "</table>\n",
       "</div>"
      ],
      "text/plain": [
       "                                                    interactions\n",
       "game_title                                                      \n",
       "007 Legends                                                    1\n",
       "0RBITALIS                                                      3\n",
       "1... 2... 3... KICK IT! (Drop That Beat Like an...             1\n",
       "10 Second Ninja                                                2\n",
       "100% Orange Juice                                              6"
      ]
     },
     "execution_count": 7,
     "metadata": {},
     "output_type": "execute_result"
    }
   ],
   "source": [
    "soma_interacoes_por_jogo = train.groupby('game_title').count()[['hours_played']]\n",
    "soma_interacoes_por_jogo.columns = ['interactions']\n",
    "\n",
    "map_soma = soma_interacoes_por_jogo.to_dict()['interactions']\n",
    "\n",
    "soma_interacoes_por_jogo.head(5)"
   ]
  },
  {
   "cell_type": "markdown",
   "id": "8fce0a10",
   "metadata": {},
   "source": [
    "Podemos também ordenar esses valores para visualizar os jogos com maiores interações e plotá-los de forma decrescente!"
   ]
  },
  {
   "cell_type": "code",
   "execution_count": 8,
   "id": "722dafa9",
   "metadata": {},
   "outputs": [
    {
     "data": {
      "text/html": [
       "<div>\n",
       "<style scoped>\n",
       "    .dataframe tbody tr th:only-of-type {\n",
       "        vertical-align: middle;\n",
       "    }\n",
       "\n",
       "    .dataframe tbody tr th {\n",
       "        vertical-align: top;\n",
       "    }\n",
       "\n",
       "    .dataframe thead th {\n",
       "        text-align: right;\n",
       "    }\n",
       "</style>\n",
       "<table border=\"1\" class=\"dataframe\">\n",
       "  <thead>\n",
       "    <tr style=\"text-align: right;\">\n",
       "      <th></th>\n",
       "      <th>interactions</th>\n",
       "    </tr>\n",
       "    <tr>\n",
       "      <th>game_title</th>\n",
       "      <th></th>\n",
       "    </tr>\n",
       "  </thead>\n",
       "  <tbody>\n",
       "    <tr>\n",
       "      <th>Dota 2</th>\n",
       "      <td>3354</td>\n",
       "    </tr>\n",
       "    <tr>\n",
       "      <th>Team Fortress 2</th>\n",
       "      <td>1656</td>\n",
       "    </tr>\n",
       "    <tr>\n",
       "      <th>Counter-Strike Global Offensive</th>\n",
       "      <td>981</td>\n",
       "    </tr>\n",
       "    <tr>\n",
       "      <th>Unturned</th>\n",
       "      <td>784</td>\n",
       "    </tr>\n",
       "    <tr>\n",
       "      <th>Left 4 Dead 2</th>\n",
       "      <td>589</td>\n",
       "    </tr>\n",
       "  </tbody>\n",
       "</table>\n",
       "</div>"
      ],
      "text/plain": [
       "                                 interactions\n",
       "game_title                                   \n",
       "Dota 2                                   3354\n",
       "Team Fortress 2                          1656\n",
       "Counter-Strike Global Offensive           981\n",
       "Unturned                                  784\n",
       "Left 4 Dead 2                             589"
      ]
     },
     "execution_count": 8,
     "metadata": {},
     "output_type": "execute_result"
    }
   ],
   "source": [
    "soma_interacoes_por_jogo_ordenado = soma_interacoes_por_jogo.sort_values('interactions', ascending=False)\n",
    "\n",
    "map_id = dict(list(enumerate(soma_interacoes_por_jogo_ordenado.index)))\n",
    "map_id = {v:k for k,v in map_id.items()}\n",
    "\n",
    "\n",
    "soma_interacoes_por_jogo_ordenado.head(5)"
   ]
  },
  {
   "cell_type": "markdown",
   "id": "3fc89723",
   "metadata": {},
   "source": [
    "### 3.2 A Long Tail Curve"
   ]
  },
  {
   "cell_type": "markdown",
   "id": "0c53fa69",
   "metadata": {},
   "source": [
    "Um conceito fundamental em sistemas de recomendação é a Cauda Longa (Long Tail Curve)."
   ]
  },
  {
   "cell_type": "code",
   "execution_count": 9,
   "id": "4cafb207",
   "metadata": {},
   "outputs": [
    {
     "data": {
      "image/png": "[encoded data removed]",
      "text/plain": [
       "<Figure size 864x576 with 1 Axes>"
      ]
     },
     "metadata": {
      "needs_background": "light"
     },
     "output_type": "display_data"
    }
   ],
   "source": [
    "plt.figure(figsize=(12, 8))\n",
    "sns.lineplot(\n",
    "    x = [i for i in range(len(soma_interacoes_por_jogo_ordenado))],\n",
    "    y = soma_interacoes_por_jogo_ordenado['interactions']\n",
    ")\n",
    "plt.grid()"
   ]
  },
  {
   "cell_type": "markdown",
   "id": "ee08cb20",
   "metadata": {},
   "source": [
    "### 3.3 A relação entre popularidade e frequência de recomendação"
   ]
  },
  {
   "cell_type": "markdown",
   "id": "ec59b047",
   "metadata": {},
   "source": [
    "Ao longo da historia da pesquisa em sistemas de recomendação um fato veio a tona: Os algoritmos possuem vieses naturalmente. Em específico para o viés de popularidade, notou-se que alguns algoritmos tendem a recomendar com mais frequência aqueles filmes, jogos ou livros que são mais famosos, acarretando na retroalimentação (Feedback Loop) do viés de popularidade (\"rich get richer\").\n",
    "\n",
    "Para essa etapa, precisaremos criar e treinar um modelo de recomendação. Escolhemos utilizar a biblioteca Surprise, uma biblioteca em Python usada para construir e analisar sistemas de recomendação com foco em feedback explícito.\n",
    "\n",
    "Para instalar a biblioteca, basta usar o seguinte comando:\n",
    "\n",
    "```bash\n",
    "pip install surprise\n",
    "```\n",
    "\n",
    "Além disso, colocamos um exemplo basico de utilização da biblioteca para o modelo SVD:\n",
    "\n",
    "```python\n",
    "from surprise import Dataset, accuracy, SVD\n",
    "from surprise.model_selection import train_test_split\n",
    "\n",
    "data = Dataset.load_builtin('ml-100k')\n",
    "trainset, testset = train_test_split(data, test_size=0.25)\n",
    "\n",
    "modelo = SVD()\n",
    "modelo.fit(trainset)\n",
    "predictions = modelo.test(testset)\n",
    "\n",
    "accuracy.rmse(predictions)\n",
    "```\n",
    "\n",
    "Se precisar de mais informações, basta consultar a documentação: https://surprise.readthedocs.io/en/stable/getting_started.html\n",
    "\n",
    "Por fim, cabe ressaltar que todos os métodos que vamos explorar nesse notebook são agnósticos de bibliotecas, modelo ou implementação. Se quiser reimplementar as funções de recomendação com base na sua biblioteca preferida, ou implementar seu próprio modelo de recomendação, fique a vontade!\n",
    "\n",
    "Portanto, nessa etapa vamos visualizar como o modelo ``User-based KNN``, um dos modelos do tipo ``KNN`` implementado pelo surprise, lida com esse viés! Para explorar isso, vamos criar um modelo basico, treiná-lo e gerar uma recomendação com o top-10 itens para cada usuario.\n",
    "\n",
    "Além disso, vamos definir o conceito de ``frequência de recomendação`` como a quantidade de vezes em que cada item é recomendado para todas as top-10 recomendações geradas. Por exemplo, se para o usuário 1 recomendamos os jogos A, B e C e para o usuário 2 recomendamos o jogo B e D, teremos que a frequência de recomendação de B, $f(B) = 2$, enquanto que $f(A) = f(C) = f(D) = 1$."
   ]
  },
  {
   "cell_type": "code",
   "execution_count": 10,
   "id": "eabdc55f",
   "metadata": {},
   "outputs": [
    {
     "name": "stdout",
     "output_type": "stream",
     "text": [
      "Computing the msd similarity matrix...\n",
      "Done computing similarity matrix.\n"
     ]
    },
    {
     "data": {
      "text/plain": [
       "<surprise.prediction_algorithms.knns.KNNBasic at 0x7efc37cdf760>"
      ]
     },
     "execution_count": 10,
     "metadata": {},
     "output_type": "execute_result"
    }
   ],
   "source": [
    "from  surprise.prediction_algorithms.slope_one import SlopeOne\n",
    "\n",
    "reader = Reader(rating_scale = (0, 1))\n",
    "\n",
    "trainset = Dataset.load_from_df(\n",
    "    train[[\"user_id\", \"game_title\", \"hours_played\"]], reader=reader\n",
    ").build_full_trainset()\n",
    "\n",
    "userknn = KNNBasic(K=10, sim_options={\"user_based\": True, \"similarities\": 'cosine'})\n",
    "userknn.fit(trainset)"
   ]
  },
  {
   "cell_type": "markdown",
   "id": "8cd14b42",
   "metadata": {},
   "source": [
    "No bloco abaixo estamos calculando o score entre usuários e jogos para selecionar os 10 itens com o maior score para cada usuário."
   ]
  },
  {
   "cell_type": "code",
   "execution_count": 51,
   "id": "be6d2c03",
   "metadata": {},
   "outputs": [
    {
     "name": "stderr",
     "output_type": "stream",
     "text": [
      "100%|███████████████████████████████████████████████████████████████████████████████████████████████████████████████████████████████████████████████████████| 1200/1200 [02:14<00:00,  8.93it/s]\n"
     ]
    }
   ],
   "source": [
    "new_predictions = []\n",
    "prediction_user_map = {}\n",
    "data_p2 = []\n",
    "\n",
    "for user in tqdm.tqdm(test['user_id'].unique()[:1200]):\n",
    "    data = {\"game_title\": list(set(df[\"game_title\"].unique()))}\n",
    "    user_testset_df = pd.DataFrame(data)\n",
    "    user_testset_df[\"hours_played\"] = 0.0\n",
    "    user_testset_df[\"user_id\"] = user\n",
    "    \n",
    "    testset = (\n",
    "        Dataset.load_from_df(\n",
    "            user_testset_df[[\"user_id\", \"game_title\", \"hours_played\"]],\n",
    "            reader=reader,\n",
    "        )\n",
    "        .build_full_trainset()\n",
    "        .build_testset()\n",
    "    )\n",
    "    predictions = sorted(\n",
    "        [(pred.iid, pred.est)for pred in userknn.test(testset) if ((pred.uid == user))],\n",
    "        key=lambda x: x[1],reverse=True\n",
    "    )\n",
    "    new_predictions.append(predictions[:10])\n",
    "    prediction_user_map[user] = predictions[:10]\n",
    "    \n",
    "    for j in predictions[:10]:\n",
    "        if j[0] in map_id:\n",
    "            data_p2.append(map_id[j[0]])\n",
    "    \n"
   ]
  },
  {
   "cell_type": "code",
   "execution_count": 52,
   "id": "2bd13aca",
   "metadata": {},
   "outputs": [
    {
     "data": {
      "text/plain": [
       "Text(0.5, 0, 'ID Filmes')"
      ]
     },
     "execution_count": 52,
     "metadata": {},
     "output_type": "execute_result"
    },
    {
     "data": {
      "image/png": "[encoded data removed]",
      "text/plain": [
       "<Figure size 864x576 with 2 Axes>"
      ]
     },
     "metadata": {
      "needs_background": "light"
     },
     "output_type": "display_data"
    }
   ],
   "source": [
    "import seaborn as sns\n",
    "from matplotlib import pyplot as plt\n",
    "\n",
    "plt.figure(figsize=(12, 8))\n",
    "\n",
    "g = sns.histplot(\n",
    "    x = data_p2,color='red', alpha=0.4\n",
    ")\n",
    "plt.ylabel(\"Frequencia da Recomendação (Vermelho)\")\n",
    "plt.xlabel(\"ID Filmes\")\n",
    "ax2 = g.twinx()\n",
    "\n",
    "plt.ylabel(\"Quantidade de Interações (Azul)\")\n",
    "sns.lineplot(\n",
    "    x = [i for i in range(len(df['game_title'].unique()))],\n",
    "    y=df.groupby('game_title').count().sort_values('hours_played', ascending=False)['hours_played'], ax=ax2,\n",
    "    color='blue',linewidth = 4, alpha=0.5\n",
    ")\n",
    "plt.grid()\n",
    "plt.xlabel(\"ID Filmes\")"
   ]
  },
  {
   "cell_type": "markdown",
   "id": "143a85b4",
   "metadata": {},
   "source": [
    "Na visualização acima temos a long-tail em azul, mostrando que poucos jogos concetram a maior parte das interações do dataset, porém, acrescentamos uma distribuição em vermelho, mostrando a quantidade acumulada que os itens foram recomendados para os usuários.\n",
    "\n",
    "Fica claro que itens muito populares (mais que 4000 interações) são recomendados muitas vezes pelo algoritmo. Nesse caso, um pequeno grupo dos itens muito populares foi recomendado quase 2500 vezes.\n",
    "\n",
    "Esse é um exemplo que mostra itens pouco populares do final da curva azul (com ID acima de ~3200) que não são recomendados, sendo ignorados pelo dataset."
   ]
  },
  {
   "cell_type": "markdown",
   "id": "adea9929",
   "metadata": {},
   "source": [
    "## 4. Formas de medir o viés de popularidade"
   ]
  },
  {
   "cell_type": "markdown",
   "id": "b3769f7d",
   "metadata": {},
   "source": [
    "Na etapa anterior foi possível visualizar que existe uma correlação entre popularidade e a frequência em que esses itens são recomendados, mas, precisamos medir esses efeitos de forma quantitativa para fazer comparações justas entre modelos de recomendação e algoritmos de debiasing."
   ]
  },
  {
   "cell_type": "markdown",
   "id": "01b6e8c7",
   "metadata": {},
   "source": [
    "### 4.1 Popularidade média por grupo"
   ]
  },
  {
   "cell_type": "markdown",
   "id": "5f069718",
   "metadata": {},
   "source": [
    "Uma das formas de medir o impacto do viés de popularidade é por meio de uma métrica chamada GAP (Group Average Popularity) (https://arxiv.org/pdf/1907.13286.pdf). Essa métrica tem como objetivo agrupar usuários em três diferentes grupos:\n",
    "\n",
    "* **Usuários BlockBuster:** nesse caso os usuários consomem majoritariamente jogos/filmes populares.\n",
    "* **Usuários de Nicho:** Nessa categoria temos usuários que consomem majoritariamente jogos/filmes pouco populares, como jogos indie e de nicho.\n",
    "* **Usuários de Diversidade:** Nessa categoria os usuários consomem tanto populares quanto não populares.\n",
    "\n",
    "No entanto, para obter esses grupos, precisamos antes definir um critério para dizer quais são os jogos populares ou não. Uma maneira de realizar essa divisão é utilizando a long tail curve que visualizamos anteriormente, de forma a dividi-la em 3 partes, sendo:\n",
    "* **Head:** Grupo dos jogos que juntos somam 20% das maiores interações do dataset\n",
    "* **Tail:** Grupo dos jogos que juntos somam 20% das menores interações do dataset\n",
    "* **Mid:** Restante dos jogos que não entram em nenhum desses grupos.\n"
   ]
  },
  {
   "cell_type": "markdown",
   "id": "895393ae",
   "metadata": {},
   "source": [
    "Na cédula abaixo estamos somando as interações dos 11 filmes com maior interação do dataset e dividindo pela soma do total de interações. Observa-se que o resultado fica em $0.200823$, aproximadamente 20% ou seja, temos os itens que representam a HEAD da long tail curve, que compoem as 20% maiores interações."
   ]
  },
  {
   "cell_type": "code",
   "execution_count": 20,
   "id": "23c13b56",
   "metadata": {},
   "outputs": [
    {
     "name": "stdout",
     "output_type": "stream",
     "text": [
      "% de interações:  0.20082282842203397\n"
     ]
    }
   ],
   "source": [
    "print(\n",
    "    \"% de interações: \",\n",
    "    (soma_interacoes_por_jogo_ordenado.values[:11].sum()/soma_interacoes_por_jogo_ordenado.sum()\n",
    "    ).values[0]\n",
    ")"
   ]
  },
  {
   "cell_type": "markdown",
   "id": "6a734784",
   "metadata": {},
   "source": [
    "Na cédula abaixo estamos somando as interações dos 2680 filmes com menor interação do dataset e dividindo pela soma do total de interações. Observa-se que o resultado fica em $0.20214$, aproximadamente 20% ou seja, temos os itens que representam a TAIL da long tail curve, que compoem as 20% menores interações."
   ]
  },
  {
   "cell_type": "code",
   "execution_count": 21,
   "id": "4cc466ad",
   "metadata": {},
   "outputs": [
    {
     "name": "stdout",
     "output_type": "stream",
     "text": [
      "% de interações:  0.2021401645656844\n"
     ]
    }
   ],
   "source": [
    "print(\n",
    "    \"% de interações: \",\n",
    "    (soma_interacoes_por_jogo_ordenado.values[-2680:].sum()/soma_interacoes_por_jogo_ordenado.sum()\n",
    "    ).values[0]\n",
    ")"
   ]
  },
  {
   "cell_type": "markdown",
   "id": "ff0efcc0",
   "metadata": {},
   "source": [
    "Sabendo que os 11 primeiros filmes pertencem a HEAD e que os últimos 2680 pertencem a TAIL, podemos definir uma variável com o nome dos filmes e obter os filmes da categoria MID que não pertencem nem a HEAD nem a TAIL."
   ]
  },
  {
   "cell_type": "code",
   "execution_count": 22,
   "id": "54092584",
   "metadata": {},
   "outputs": [],
   "source": [
    "jogos_maior_20porcento_nome = soma_interacoes_por_jogo_ordenado.reset_index().values[:11, 0]\n",
    "jogos_menor_20porcento_nome = soma_interacoes_por_jogo_ordenado.reset_index().values[-2680:, 0]\n",
    "\n",
    "jogos_entre_os_20porcento = set(df['game_title']) - set(jogos_maior_20porcento_nome) - set(jogos_menor_20porcento_nome)"
   ]
  },
  {
   "cell_type": "markdown",
   "id": "ca92457e",
   "metadata": {},
   "source": [
    "Após definir os itens por categoria, vamos verificar em quais categorias cada usuário se encaixa. A verificação é simples:\n",
    "* Consome mais que 50% de items da HEAD -> Usuário BlockBuster\n",
    "* Consome mais que 50% de items da TAIL -> Usuário de Nicho\n",
    "* Caso não seja nenhum dos dois anteriores -> Usuário de Diversidade"
   ]
  },
  {
   "cell_type": "code",
   "execution_count": 23,
   "id": "74aedca3",
   "metadata": {},
   "outputs": [],
   "source": [
    "block_buster_group = []\n",
    "niche_group = []\n",
    "diverse_group = []\n",
    "\n",
    "for user_id in train['user_id'].unique():\n",
    "    interacted_by_user = train[train['user_id'] == user_id]\n",
    "    high_pop = interacted_by_user[interacted_by_user['game_title'].isin(jogos_maior_20porcento_nome)]\n",
    "    lowest_pop = interacted_by_user[interacted_by_user['game_title'].isin(jogos_menor_20porcento_nome)]\n",
    "\n",
    "    if len(high_pop)/len(interacted_by_user) > 0.5:\n",
    "        block_buster_group.append(user_id)\n",
    "    elif len(lowest_pop)/len(interacted_by_user) > 0.5:\n",
    "        niche_group.append(user_id)\n",
    "    else:\n",
    "        diverse_group.append(user_id)"
   ]
  },
  {
   "cell_type": "code",
   "execution_count": 24,
   "id": "49e1fd28",
   "metadata": {},
   "outputs": [],
   "source": [
    "def calculate_gap_profile(train, user_id):\n",
    "    list_items = train[train['user_id'] == user_id]['game_title'].values\n",
    "    gap = sum([map_soma[i] for i in list_items])\n",
    "    return gap/len(list_items)\n",
    "    \n",
    "    \n",
    "gap_bb_profile = np.mean([calculate_gap_profile(train, i) for i in block_buster_group])\n",
    "gap_n_profile = np.mean([calculate_gap_profile(train, i) for i in niche_group])\n",
    "gap_d_profile = np.mean([calculate_gap_profile(train, i) for i in diverse_group])"
   ]
  },
  {
   "cell_type": "code",
   "execution_count": 25,
   "id": "6b251b07",
   "metadata": {},
   "outputs": [
    {
     "name": "stderr",
     "output_type": "stream",
     "text": [
      "  9%|█████████████                                                                                                                                        | 500/5681 [00:00<00:00, 10197.73it/s]\n"
     ]
    }
   ],
   "source": [
    "def calculate_gap(list_items):\n",
    "    gap = sum([map_soma.get(i, 0) for i in list_items])\n",
    "    return gap/len(list_items)\n",
    "\n",
    "gap_bb_rec1 = 0\n",
    "gap_d_rec1 = 0\n",
    "gap_n_rec1 = 0\n",
    "\n",
    "n_bb, n_d, n_n = 0, 0, 0\n",
    "\n",
    "for user, reclist in zip(tqdm.tqdm(test['user_id'].unique()), new_predictions):\n",
    "    if user in block_buster_group:\n",
    "        n_bb += 1\n",
    "        gap_bb_rec1 += calculate_gap([i[0] for i in reclist])\n",
    "    elif user in niche_group:\n",
    "        n_n += 1\n",
    "        gap_n_rec1 += calculate_gap([i[0] for i in reclist])\n",
    "    else:\n",
    "        n_d += 1\n",
    "        gap_d_rec1 += calculate_gap([i[0] for i in reclist])\n",
    "\n",
    "gap_bb_rec1 = gap_bb_rec1/n_bb\n",
    "gap_d_rec1 = gap_d_rec1/n_d\n",
    "gap_n_rec1 = gap_n_rec1/n_n"
   ]
  },
  {
   "cell_type": "code",
   "execution_count": 26,
   "id": "73f5d775",
   "metadata": {},
   "outputs": [
    {
     "data": {
      "text/plain": [
       "(-0.9871198508079572, -0.8429948969575868, 2.6964322333164015)"
      ]
     },
     "execution_count": 26,
     "metadata": {},
     "output_type": "execute_result"
    }
   ],
   "source": [
    "delta_gab_bb = (gap_bb_rec1 - gap_bb_profile )/gap_bb_profile\n",
    "delta_gab_d = (gap_d_rec1 - gap_d_profile )/gap_d_profile\n",
    "delta_gab_n = (gap_n_rec1 - gap_n_profile )/gap_n_profile\n",
    "\n",
    "delta_gab_bb, delta_gab_d, delta_gab_n"
   ]
  },
  {
   "cell_type": "markdown",
   "id": "c9b327a3",
   "metadata": {},
   "source": [
    "### 4.2 MRR\n",
    "\n",
    "Algumas métricas interessantes de se visualizar quando lidamos com viés de popularidade são as métricas relacionadas à precisão da recomendação. Sabe-se pela literatura que a redução do víes de popularidade tem como efeito colateral a redução das métricas de precisão.\n",
    "\n",
    "Para medir esse efeito utilizaremos a métrica Mean Rank Miscalibration. Essa métrica é baseada na posição do primeiro item relevante pra cada usuário.\n",
    "\n",
    "Abaixo temos a equação para o cálculo dessa medida. A função $relevant(i,j)$ retorna 1 se o item $j$ for relevante pro usuário $i$ e retorna 0 caso contrário. Aqui definimos como relevante um item que o usuário interagiu anteriormente.\n",
    "\n",
    "$$MRR = \\frac{1}{M} \\sum_{i=1}^{M} \\sum_{j=1}^{N} \\frac{1}{j}\\cdot relevant(i,j) $$\n",
    "\n",
    "A figura abaixo deixa claro o funcionamento da métricas. Veja para o primeiro usuário, temos que somente o 3o. item é o relevante, portanto, teremos $RR = \\frac{1}{3}$ e assim por diante, realizando a média ao final dos cálculos.\n",
    "\n",
    "\n",
    "![alt text](https://raw.githubusercontent.com/Andre-Sacilotti/recsys_lectures/main/images/mrr.png)"
   ]
  },
  {
   "cell_type": "code",
   "execution_count": 27,
   "id": "b53e9ac4",
   "metadata": {},
   "outputs": [],
   "source": [
    "def item_is_relevant(user_id, item_id):\n",
    "    aux = df[df[\"user_id\"] == user_id]\n",
    "    if item_id in list(aux['game_title']):\n",
    "        return True\n",
    "    return False\n",
    "\n",
    "def calculate_MRR(map_recommendations):\n",
    "\n",
    "    MRR = 0\n",
    "    for user_id in map_recommendations:\n",
    "        user_find_corerect_item = False\n",
    "        for index, (item, score) in enumerate(map_recommendations[user_id]):\n",
    "            if user_find_corerect_item is False:\n",
    "                if item_is_relevant(user_id, item):\n",
    "                    MRR += (1/(index+1))\n",
    "                    user_find_corerect_item = True\n",
    "        \n",
    "    return MRR/len(map_recommendations)"
   ]
  },
  {
   "cell_type": "code",
   "execution_count": 28,
   "id": "5a29c797",
   "metadata": {},
   "outputs": [
    {
     "data": {
      "text/plain": [
       "0.07056746031746035"
      ]
     },
     "execution_count": 28,
     "metadata": {},
     "output_type": "execute_result"
    }
   ],
   "source": [
    "MRR_before = calculate_MRR(prediction_user_map)\n",
    "MRR_before"
   ]
  },
  {
   "cell_type": "markdown",
   "id": "89463b66",
   "metadata": {},
   "source": [
    "## 5. Correção do viés de popularidade"
   ]
  },
  {
   "cell_type": "markdown",
   "id": "a5365afb",
   "metadata": {},
   "source": [
    "Conseguimos visualizar a problemática do viés de popularidade, medimos seu efeito de forma quantitativas, mas, e agora? Como pode evitá-lo?\n",
    "\n",
    "Existem inúmeros métodos na literatura, mas, abordaremos um caso simples, proposto por Abdollahpouri (https://arxiv.org/pdf/1802.05382.pdf), em que é aplicado para os scores de cada item a seguinte heurística:\n",
    "\n",
    "$$\n",
    "\\hat{r_{ui}} = (1-\\alpha)\\cdot r_{ui} + \\alpha \\cdot \\frac{1}{log(p(i))}\n",
    "$$\n",
    "\n",
    "Essa heurística penaliza itens que possuem muitas interações, pois adiciona mais pontos ao score do item baseado em um cálculo que é inversamente proporcional à quantidade de interações! Além disso, essa técnica possui um parâmetro $\\alpha$ que permite controlar o quanto queremos considerar da popularidade ou do score do modelo, ou seja, um $\\alpha$ grande tende a penalizar muito itens populares enquanto que $\\alpha$ pequeno tende a privilegiar itens populares.\n",
    "\n",
    "Imagine que para o usuário $u$ nosso sistema recomendou os itens A e B, sendo o score de A $r_{uA} = 5$ e o score de B $r_{uB} = 4$, porém a popularidade de A é $p(A) = 10000$ e a popularidade de B é $p(B) = 10$, se aplicarmos essa correção com $alpha=0.5$, teremos que o novo score de A será $\\hat{r_{uA}} = 2.75$ enquanto que o novo score de B será $\\hat{r_{uB}} = 3$, ou seja, apesar de B ter um score inicial menor, por estarmos privilegiando itens menos populares seu novo score é maior, sendo ele escolhido para compor a lista de recomendação!"
   ]
  },
  {
   "cell_type": "code",
   "execution_count": 29,
   "id": "7fd8c5c5",
   "metadata": {},
   "outputs": [
    {
     "name": "stderr",
     "output_type": "stream",
     "text": [
      "100%|█████████████████████████████████████████████████████████████████████████████████████████████████████████████████████████████████████████████████████████| 500/500 [00:45<00:00, 10.91it/s]\n"
     ]
    }
   ],
   "source": [
    "new_predictions_after = []\n",
    "data_p2_after = []\n",
    "prediction_user_map_after = {}\n",
    "\n",
    "alpha = 0.1    \n",
    "\n",
    "for user in tqdm.tqdm(test['user_id'].unique()[0:2000]):\n",
    "    data = {\"game_title\": list(set(df[\"game_title\"].unique()))}\n",
    "    user_testset_df = pd.DataFrame(data)\n",
    "    user_testset_df[\"hours_played\"] = 0.0\n",
    "    user_testset_df[\"user_id\"] = user\n",
    "    \n",
    "    testset = (\n",
    "        Dataset.load_from_df(\n",
    "            user_testset_df[[\"user_id\", \"game_title\", \"hours_played\"]],\n",
    "            reader=reader,\n",
    "        )\n",
    "        .build_full_trainset()\n",
    "        .build_testset()\n",
    "    )\n",
    "    predictions = sorted(\n",
    "        [(pred.iid, (1-alpha)*pred.est + (alpha/np.log(map_soma.get(pred.iid, 1)+1)) )for pred in userknn.test(testset) if ((pred.uid == user))],\n",
    "        key=lambda x: x[1],reverse=True\n",
    "    )\n",
    "    new_predictions_after.append(predictions[:10])\n",
    "    prediction_user_map_after[user] = predictions[:10]\n",
    "    \n",
    "    for j in predictions[:10]:\n",
    "        if j[0] in map_id:\n",
    "            data_p2_after.append(map_id[j[0]])"
   ]
  },
  {
   "cell_type": "markdown",
   "id": "0045af28",
   "metadata": {},
   "source": [
    "### 5.1 Relação entre popularidade e frequência pós debiasing \n",
    "\n",
    "Após corrigir a popularidade das recomendações, podemos olhar o gráfico abaixo e verificar que houve uma mudança na distribuição das recomendações. O primeiro gráfico que vimos mostra um acúmulo de recomendações nos itens mais populares, enquanto que, nesse segundo gráfico fica claro que a distribuição está se concentrando nos filmes menos populares.\n",
    "\n",
    "Além disso, apesar de ter sido possível observar uma mudança na concentração das recomendações, a técnica usada não consegue resolver o problema de cold-start, conforme pode ser visto no final da curva azul."
   ]
  },
  {
   "cell_type": "code",
   "execution_count": 30,
   "id": "c9e014f5",
   "metadata": {},
   "outputs": [
    {
     "data": {
      "image/png": "[encoded data removed]",
      "text/plain": [
       "<Figure size 864x576 with 2 Axes>"
      ]
     },
     "metadata": {
      "needs_background": "light"
     },
     "output_type": "display_data"
    }
   ],
   "source": [
    "import seaborn as sns\n",
    "from matplotlib import pyplot as plt\n",
    "\n",
    "plt.figure(figsize=(12, 8))\n",
    "\n",
    "g = sns.histplot(\n",
    "    x = data_p2_after,color='red', label='Porcentagem de Recomendações - Debiased', alpha=0.7, bins=20\n",
    ")\n",
    "\n",
    "\n",
    "ax2 = g.twinx()\n",
    "\n",
    "sns.lineplot(\n",
    "    x = [i for i in range(len(df['game_title'].unique()))],\n",
    "    y=df.groupby('game_title').sum().sort_values('hours_played', ascending=False)['hours_played'], ax=ax2,\n",
    "    color='blue', label=\"Curva de popularidade\", linewidth = 4, alpha=0.5\n",
    ")\n",
    "plt.grid()\n",
    "plt.legend()\n",
    "plt.show()"
   ]
  },
  {
   "cell_type": "markdown",
   "id": "00b7ff7f",
   "metadata": {},
   "source": [
    "# 6. Comparação das métricas\n",
    "\n",
    "Após aplicar os métodos de redução do viés de popularidade, cabe comparar as métricas entre as recomendações considerando ou não a utilização do método de debiasing."
   ]
  },
  {
   "cell_type": "code",
   "execution_count": 31,
   "id": "9e18b2b2",
   "metadata": {},
   "outputs": [
    {
     "name": "stderr",
     "output_type": "stream",
     "text": [
      "100%|███████████████████████████████████████████████████████████████████████████████████████████████████████████████████████████████████████████████████████| 500/500 [00:00<00:00, 8792.98it/s]\n"
     ]
    }
   ],
   "source": [
    "gap_bb_rec1 = 0\n",
    "gap_d_rec1 = 0\n",
    "gap_n_rec1 = 0\n",
    "\n",
    "n_bb, n_d, n_n = 0, 0, 0\n",
    "\n",
    "for user, reclist in zip(tqdm.tqdm(test['user_id'].unique()[:2000]), new_predictions_after):\n",
    "    if user in block_buster_group:\n",
    "        n_bb += 1\n",
    "        gap_bb_rec1 += calculate_gap([i[0] for i in reclist])\n",
    "    elif user in niche_group:\n",
    "        n_n += 1\n",
    "        gap_n_rec1 += calculate_gap([i[0] for i in reclist])\n",
    "    else:\n",
    "        n_d += 1\n",
    "        gap_d_rec1 += calculate_gap([i[0] for i in reclist])\n",
    "\n",
    "gap_bb_rec1_after = gap_bb_rec1/n_bb\n",
    "gap_d_rec1_after = gap_d_rec1/n_d\n",
    "gap_n_rec1_after = gap_n_rec1/n_n"
   ]
  },
  {
   "cell_type": "code",
   "execution_count": 32,
   "id": "72df2927",
   "metadata": {},
   "outputs": [
    {
     "data": {
      "text/plain": [
       "(-0.9870522082359859, -0.9188049200298779, 3.504942968257749)"
      ]
     },
     "execution_count": 32,
     "metadata": {},
     "output_type": "execute_result"
    }
   ],
   "source": [
    "delta_gab_bb_after = (gap_bb_rec1_after - gap_bb_profile )/gap_bb_profile\n",
    "delta_gab_d_after = (gap_d_rec1_after - gap_d_profile )/gap_d_profile\n",
    "delta_gab_n_after = (gap_n_rec1_after - gap_n_profile )/gap_n_profile\n",
    "\n",
    "delta_gab_bb_after, delta_gab_d_after, delta_gab_n_after"
   ]
  },
  {
   "cell_type": "markdown",
   "id": "5c497de1",
   "metadata": {},
   "source": [
    "Calculando a métricas MRR para as recomendações \"corrigidas\":"
   ]
  },
  {
   "cell_type": "code",
   "execution_count": 33,
   "id": "d92fe9c4",
   "metadata": {},
   "outputs": [
    {
     "data": {
      "text/plain": [
       "0.025224603174603167"
      ]
     },
     "execution_count": 33,
     "metadata": {},
     "output_type": "execute_result"
    }
   ],
   "source": [
    "MRR_after = calculate_MRR(prediction_user_map_after)\n",
    "MRR_after"
   ]
  },
  {
   "cell_type": "markdown",
   "id": "bc27b792",
   "metadata": {},
   "source": [
    "## 6.1 Comparação entre GAP\n",
    "\n",
    "No gráfico abaixo, podemos ver que o método de debiasing (Azul) reduziu a popularidade média de todos os grupos, ou seja, utilizando esse método estamos recomendando itens menos populares que se utilizando apenas o resultado do modelo de recomendação."
   ]
  },
  {
   "cell_type": "code",
   "execution_count": 34,
   "id": "08d768de",
   "metadata": {},
   "outputs": [
    {
     "data": {
      "image/png": "[encoded data removed]",
      "text/plain": [
       "<Figure size 720x432 with 1 Axes>"
      ]
     },
     "metadata": {
      "needs_background": "light"
     },
     "output_type": "display_data"
    }
   ],
   "source": [
    "gap_data = pd.DataFrame(\n",
    "    {\n",
    "        'GAP': [delta_gab_bb_after, delta_gab_d_after, delta_gab_n_after] + [delta_gab_bb, delta_gab_d, delta_gab_n],\n",
    "        'tipo': ['Debiased', 'Debiased','Debiased', \"Normal\", \"Normal\", \"Normal\"],\n",
    "        'Grupo': ['BlockBuster', \"Diverso\", \"Nicho\", 'BlockBuster', \"Diverso\", \"Nicho\"]\n",
    "    }\n",
    ")\n",
    "plt.figure(figsize=(10, 6))\n",
    "ax = sns.barplot(\n",
    "    x=gap_data['Grupo'],\n",
    "    y=gap_data['GAP'],\n",
    "    hue=gap_data['tipo']\n",
    ")\n",
    "plt.xlabel(\"Grupo\", fontsize=14)\n",
    "plt.ylabel(\"Group Average Popularity (GAP)\", fontsize=14)\n",
    "plt.title(\"Comparação entre GAP para as recomendações corrigidas e não\", fontsize=16)\n",
    "plt.grid()"
   ]
  },
  {
   "cell_type": "markdown",
   "id": "09a3850a",
   "metadata": {},
   "source": [
    "## 6.2 Comparação entre MRR\n",
    "\n",
    "No gráfico abaixo, podemos ver que o método de debiasing (Azul) reduziu a precisão (MRR) se comparado à lista de recomendação sem a utilização desse método. \n",
    "\n",
    "Como dissemos anteriormente, os métodos de debiasing de viés de popularidade são conhecidos por reduzir a precisão da recomendação, que condiz com o visualizado abaixo."
   ]
  },
  {
   "cell_type": "code",
   "execution_count": 35,
   "id": "c2092ada",
   "metadata": {},
   "outputs": [
    {
     "data": {
      "image/png": "[encoded data removed]",
      "text/plain": [
       "<Figure size 720x432 with 1 Axes>"
      ]
     },
     "metadata": {
      "needs_background": "light"
     },
     "output_type": "display_data"
    }
   ],
   "source": [
    "gap_data = pd.DataFrame(\n",
    "    {\n",
    "        'MRR': [MRR_before, MRR_after,],\n",
    "        'tipo': [\"Normal\", 'Debiased'],\n",
    "    }\n",
    ")\n",
    "plt.figure(figsize=(10, 6))\n",
    "ax = sns.barplot(\n",
    "    x=gap_data['tipo'],\n",
    "    y=gap_data['MRR'],\n",
    "    palette=[sns.color_palette()[1], sns.color_palette()[0]]\n",
    ")\n",
    "plt.xlabel(\"Método de Recomendação\", fontsize=14)\n",
    "plt.ylabel(\"Mean Reciprocal Rank (MRR)\", fontsize=14)\n",
    "plt.title(\"Comparação entre MRR para as recomendações corrigidas e não\", fontsize=16)\n",
    "plt.grid()"
   ]
  },
  {
   "cell_type": "markdown",
   "id": "dfe8e965",
   "metadata": {},
   "source": [
    "## 7. Referências para Aprofundamento\n",
    "\n",
    "Vieses é um tema importante discutido dentro de sistemas de recomendação, nos últimos anos tem crescido o número de artigos publicos sobre o tema. Nesse notebook, abordamos o viés aplicado à popularidade de itens, mas existem inúmeros vieses e formas diferente de corrigi-los.\n",
    "\n",
    "Um bom primeiro passo para aprofundamento é o artigo de Jiawei Chen:\n",
    "\n",
    "Bias and Debias in Recommender System: A Survey and Future Directions (https://arxiv.org/pdf/2010.03240.pdf)\n",
    "\n",
    "Para se aprofundar em vieses de popularidade recomendamos o artigo de Mehdi Elahi:\n",
    "\n",
    "Investigating the impact of recommender systems on user-based and item-based popularity bias (https://www.sciencedirect.com/science/article/pii/S0306457321001436)\n"
   ]
  }
 ],
 "metadata": {
  "kernelspec": {
   "display_name": "Python 3",
   "language": "python",
   "name": "python3"
  },
  "language_info": {
   "codemirror_mode": {
    "name": "ipython",
    "version": 3
   },
   "file_extension": ".py",
   "mimetype": "text/x-python",
   "name": "python",
   "nbconvert_exporter": "python",
   "pygments_lexer": "ipython3",
   "version": "3.8.5"
  }
 },
 "nbformat": 4,
 "nbformat_minor": 5
}
