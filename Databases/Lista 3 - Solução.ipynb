{
 "cells": [
  {
   "cell_type": "markdown",
   "id": "9030b2d4-9451-475e-87e2-7f198be7ec7a",
   "metadata": {},
   "source": [
    "#  Conceitos do Modelo Relacional"
   ]
  },
  {
   "cell_type": "markdown",
   "id": "d84e8b83-9813-40d8-bf7b-efe7f3821add",
   "metadata": {},
   "source": [
    "### Exercício 1) Defina Domínio e Domínio Ativo"
   ]
  },
  {
   "cell_type": "markdown",
   "id": "e4e3b919-72f0-4a18-9b9b-41c9239713db",
   "metadata": {},
   "source": [
    "Resposta:\n",
    "\n",
    "Domínio se refere ao conjunto de todos os valores possíveis que um atributo pode ter. Em outras palavras, é o conjunto de valores permitidos para um determinado campo em uma tabela. Por exemplo, o domínio de um campo \"idade\" pode ser um intervalo de valores inteiros de 0 a 150.\n",
    "\n",
    "Domínio Ativo (?)"
   ]
  },
  {
   "cell_type": "markdown",
   "id": "af2d4be6-6348-4c7c-8b13-ecc40aed2417",
   "metadata": {},
   "source": [
    "### Exercício 2) Qual a diferença entre:\n",
    "\n",
    "• Modelo e Modelagem\n",
    "\n",
    "• Domínio e Tipo de Dados\n",
    "\n",
    "• SGBD e Base de Dados\n",
    "\n",
    "• Chave estrangeira e Ponteiro\n",
    "\n",
    "• Atributo atômico, Atributo indivisível e Atributo mono-valorado"
   ]
  },
  {
   "cell_type": "markdown",
   "id": "3ae9f590-ea58-46e2-b960-9482c43e6a0f",
   "metadata": {},
   "source": [
    "Resposta:\n",
    "\n",
    "1) Modelo e Modelagem:\n",
    "\n",
    "    Um modelo é uma representação abstrata de um sistema ou conceito. Pode ser uma simplificação de um sistema real para facilitar a compreensão ou uma descrição formal de um sistema que guia o seu desenvolvimento. Já a modelagem é o processo de criação desses modelos. É a atividade de conceber, descrever e representar um sistema ou aspecto do mundo real usando técnicas e ferramentas específicas.\n",
    "\n",
    "2) Domínio e Tipo de Dados:\n",
    "\n",
    "    O domínio se refere ao conjunto de todos os valores possíveis que um atributo pode ter, como discutido anteriormente. Já o tipo de dados é uma especificação mais técnica que define como os dados são armazenados e interpretados em um sistema de banco de dados. Por exemplo, um atributo pode ter um domínio de \"idades\" (valores inteiros de 0 a 150) e um tipo de dados de \"inteiro\".\n",
    "\n",
    "3) SGBD e Base de Dados:\n",
    "\n",
    "    Um Sistema de Gerenciamento de Banco de Dados (SGBD) é um software que permite criar, manipular e gerenciar bancos de dados. Ele oferece funcionalidades para criar esquemas de banco de dados, armazenar, recuperar e manipular dados, garantir a segurança e a integridade dos dados, entre outras operações. Já a base de dados é o conjunto de dados armazenados em um banco de dados. É o repositório físico onde os dados são organizados e mantidos pelo SGBD.\n",
    "\n",
    "4) Chave estrangeira e Ponteiro:\n",
    "\n",
    "    Uma chave estrangeira é um conceito em bancos de dados relacionais que estabelece uma relação entre duas tabelas. Ela é uma coluna (ou conjunto de colunas) em uma tabela que faz referência à chave primária de outra tabela, estabelecendo assim uma relação entre elas. Um ponteiro é um conceito mais geral que se refere a uma variável ou valor que contém o endereço de memória de outra variável ou objeto. Embora possam ter finalidades semelhantes em alguns contextos, em bancos de dados relacionais, as chaves estrangeiras são usadas para estabelecer relações entre tabelas de forma estruturada e formal.\n",
    "\n",
    "5) Atributo atômico, Atributo indivisível e Atributo mono-valorado:\n",
    "\n",
    "    Um atributo atômico é um atributo que não pode ser dividido em partes menores significativas. Por exemplo, o atributo \"nome\" de uma pessoa é considerado atômico, pois não pode ser dividido em partes menores sem perder seu significado.\n",
    "    \n",
    "    Um atributo indivisível, por outro lado, é um atributo que é naturalmente composto de várias partes, mas deve ser tratado como uma única unidade. Por exemplo, o atributo \"endereço\" pode incluir várias partes, como rua, cidade, estado e código postal, mas é tratado como uma única unidade em muitos sistemas de banco de dados. Indivisível significa que em nenhum lugar da Base de Dados se armazena valores que são “partes do atributo”.\n",
    "    \n",
    "    Um atributo mono-valorado é um atributo que pode ter apenas um único valor para cada instância de uma entidade. Por exemplo, o atributo \"idade\" de uma pessoa é geralmente mono-valorado, pois uma pessoa tem uma única idade em um determinado momento."
   ]
  },
  {
   "cell_type": "markdown",
   "id": "120eb3e2-089d-462e-be91-84207de6ca12",
   "metadata": {},
   "source": [
    "### Exercício 3) Defina o que é:\n",
    "\n",
    "• Tupla\n",
    "\n",
    "• Relação\n",
    "\n",
    "• Row\n",
    "\n",
    "• Tabela\n",
    "\n",
    "• Atributo\n",
    "\n",
    "• Papel"
   ]
  },
  {
   "cell_type": "markdown",
   "id": "7e1545ed-ec4e-4446-ae0b-c741f9bc431a",
   "metadata": {},
   "source": [
    "Resposta:\n",
    "\n",
    "1) Tupla:\n",
    "\n",
    "Uma tupla é uma coleção ordenada de valores que representam uma única entrada ou registro em uma tabela. Cada tupla em uma tabela corresponde a uma instância de entidade e contém valores para cada um dos atributos definidos na tabela. Em uma linguagem mais simples, uma tupla é uma linha em uma tabela de banco de dados.\n",
    "\n",
    "2) Relação:\n",
    "\n",
    "Uma relação é um conjunto de tuplas que compartilham a mesma estrutura. Em outras palavras, uma relação é uma representação matemática de uma tabela em um banco de dados relacional. Cada relação possui um nome único e é composta por uma série de tuplas, cada uma representando um registro na tabela.\n",
    "\n",
    "3) Row:\n",
    "\n",
    "\"Row\" é a palavra em inglês que significa \"linha\". No contexto de bancos de dados, \"row\" é frequentemente utilizada como sinônimo de \"tupla\". Refere-se a uma única entrada ou registro em uma tabela, contendo valores para cada um dos atributos da tabela.\n",
    "\n",
    "4) Tabela:\n",
    "\n",
    "Uma tabela é uma estrutura de dados organizada em forma de grade composta por linhas e colunas. No contexto de bancos de dados relacionais, uma tabela é usada para armazenar dados em um formato tabular. Cada tabela é composta por uma série de tuplas, onde cada tupla representa um registro na tabela, e cada coluna representa um atributo.\n",
    "\n",
    "5) Atributo:\n",
    "\n",
    "Um atributo é uma característica ou propriedade que descreve uma entidade em um banco de dados. Em uma tabela, cada coluna representa um atributo e contém valores que descrevem uma característica específica dos registros na tabela. Por exemplo, em uma tabela de \"Clientes\", os atributos podem incluir \"Nome\", \"Idade\", \"Endereço\", etc.\n",
    "\n",
    "6) Papel:\n",
    "\n",
    "(?)"
   ]
  },
  {
   "cell_type": "markdown",
   "id": "dd0d9116-a7cd-4014-8639-72d88de1ae11",
   "metadata": {},
   "source": [
    "### Exercício 4) O que significa dizer que duas tuplas são iguais?"
   ]
  },
  {
   "cell_type": "markdown",
   "id": "a817b223-b8bb-4a5c-bd21-8f3af1c0d0dc",
   "metadata": {},
   "source": [
    "Resposta:\n",
    "\n",
    "Em um banco de dados relacional, duas tuplas são consideradas iguais quando possuem os mesmos valores para todos os atributos correspondentes.\n",
    "\n",
    "Mais formalmente, duas tuplas $t_1$ e $t_2$ de uma relação são consideradas iguais se, para cada atributo A na relação, o valor do atributo A em $t_1$ é igual ao valor do atributo A em $t_2$."
   ]
  },
  {
   "cell_type": "markdown",
   "id": "391aa2a5-e529-4861-9346-0db813b6cb83",
   "metadata": {},
   "source": [
    "### Exercício 5) Explique o que é superchave, chave primária, chave candidata, chave estrangeira. Já que existe o conceito de superchave, tem sentido um termo como sub-chave? Explique."
   ]
  },
  {
   "cell_type": "markdown",
   "id": "f2945ef4-86f2-4aad-9660-b34e547b31af",
   "metadata": {},
   "source": [
    "Resposta:\n",
    "\n",
    "1) Superchave:\n",
    "\n",
    "    É um conjunto de atributos de uma relação T que identifique univocamente cada tupla em qualquer extensão do esquema de T. Em outras palavras, uma superchave é um conjunto de atributos que garante unicidade.\n",
    "\n",
    "2) Chave primária:\n",
    "    \n",
    "    Uma chave primária é uma superchave mínima, ou seja, é um conjunto mínimo de atributos que pode identificar de forma única uma tupla em uma relação. Uma chave primária deve ser única para cada tupla na relação e não pode conter valores nulos.\n",
    "\n",
    "3) Chave candidata:\n",
    "\n",
    "   É comum que exista mais de uma chave para uma mesma relação. Cada chave útil para buscas é chamada de Chave Candidata.\n",
    "\n",
    "4) Chave estrangeira:\n",
    "\n",
    "   Uma chave estrangeira é um atributo ou conjunto de atributos em uma tabela que faz referência à chave primária de outra tabela. Ela estabelece uma relação entre duas tabelas em um banco de dados relacional.\n",
    "\n",
    "Quanto ao termo \"sub-chave\", não é um conceito comum em bancos de dados relacionais. Geralmente, quando se fala em chaves em um contexto de banco de dados, estamos nos referindo a chaves primárias, chaves candidatas ou chaves estrangeiras. "
   ]
  },
  {
   "cell_type": "markdown",
   "id": "49f7ef41-07d6-43db-bb4b-b69cb689334e",
   "metadata": {},
   "source": [
    "### Exercício 6) Conceitualmente, você consegue imaginar uma diferença entre Relação e Tabela? Explique."
   ]
  },
  {
   "cell_type": "markdown",
   "id": "be8a0db2-e062-4b68-9649-d31059e8cbd1",
   "metadata": {},
   "source": [
    "Resposta:\n",
    "\n",
    "\n",
    "Em termos conceituais, \"relação\" e \"tabela\" são frequentemente usadas como sinônimos, especialmente no contexto de bancos de dados relacionais. No entanto, há uma diferença sutil que pode ser considerada:\n",
    "\n",
    "1) Tabela:\n",
    "\n",
    "    No contexto de bancos de dados relacionais, uma tabela é uma estrutura organizada em forma de grade composta por linhas e colunas, onde cada coluna representa um atributo e cada linha representa uma tupla. As tabelas são usadas para armazenar dados de forma tabular e são a principal estrutura de armazenamento em um banco de dados relacional.\n",
    "\n",
    "2) Relação:\n",
    "\n",
    "    Uma relação é um conceito matemático mais abstrato que descreve um conjunto de tuplas com a mesma estrutura. Em um banco de dados relacional, uma relação é uma coleção de tuplas que compartilham a mesma estrutura, ou seja, têm o mesmo conjunto de atributos. Cada tabela em um banco de dados relacional representa uma relação."
   ]
  },
  {
   "cell_type": "markdown",
   "id": "71b5cadc-5caf-4e18-a79a-1383c37ed29f",
   "metadata": {},
   "source": [
    "### Exercício 7) É possível dizer que “Toda relação sempre tem uma chave candidata”?"
   ]
  },
  {
   "cell_type": "markdown",
   "id": "2f7f3f4b-ed9d-4d62-9a77-8fc929a2523e",
   "metadata": {},
   "source": [
    "Resposta: \n",
    "\n",
    "Sim, é possível afirmar que toda relação em um banco de dados relacional sempre tem pelo menos uma chave candidata.\n",
    "\n",
    "Uma chave candidata é um conjunto mínimo de atributos que pode identificar de forma única cada tupla em uma relação. Uma relação pode ter várias chaves candidatas, mas sempre haverá pelo menos uma.\n",
    "\n",
    "Para entender isso, considere o seguinte:\n",
    "\n",
    "Superchaves: Todas as relações têm pelo menos uma superchave. Uma superchave é qualquer conjunto de atributos que garante a unicidade das tuplas em uma relação.\n",
    "\n",
    "Chave Candidata: Uma chave candidata é uma superchave mínima. Ou seja, é o menor conjunto de atributos dentro de uma superchave que ainda garante a unicidade das tuplas.\n",
    "\n",
    "Dado que todas as relações têm pelo menos uma superchave, sempre haverá pelo menos uma chave candidata, que é uma superchave mínima."
   ]
  },
  {
   "cell_type": "markdown",
   "id": "e72d3e6a-45cc-43c1-896f-997b32e63b4b",
   "metadata": {},
   "source": [
    "### Exercício 8) Explique a frase: “Os valores de uma chave nunca são escalares, mas sim tuplas”."
   ]
  },
  {
   "cell_type": "markdown",
   "id": "9336f384-7f0b-4430-8c38-4de6f5c24e72",
   "metadata": {},
   "source": [
    "Resposta:\n",
    "\n",
    "\"Os valores de uma chave nunca são escalares, mas sim tuplas\" destaca que as chaves em um banco de dados relacional são compostas por conjuntos de valores (tuplas), não por valores individuais isolados. Isso reflete a natureza multiatributo das chaves em um modelo de dados relacional."
   ]
  },
  {
   "cell_type": "markdown",
   "id": "5d0158f2-d534-4f6d-a631-a2834f47116f",
   "metadata": {},
   "source": [
    "### Exercício 9) Dê um exemplo de uma situação onde duas relações R1 e R2 tenham chaves estrangeiras mútuas. Qual a implicação disso para o Modelo Relacional?"
   ]
  },
  {
   "attachments": {},
   "cell_type": "markdown",
   "id": "294b3bc8-6811-4f8f-92bc-a573b9d91f6c",
   "metadata": {},
   "source": [
    "Resposta:\n",
    "\n",
    "R1 (Aluno)\n",
    "\n",
    "    aluno_id: chave primária\n",
    "    nome: string\n",
    "    turma_id: chave estrangeira (referencia turma_id em R2)\n",
    "\n",
    "R2 (Turma)\n",
    "\n",
    "    turma_id: chave primária\n",
    "    ano: inteiro\n",
    "    professor_id: chave estrangeira\n",
    "    aluno_id: chave estrangeira (referencia aluno_id em R1)\n",
    "\n",
    "Neste exemplo, a relação R1 possui uma chave estrangeira turma_id que referencia a chave primária da relação R2. Da mesma forma, a relação R2 possui uma chave estrangeira aluno_id que referencia a chave primária da relação R1.\n",
    "\n",
    "Implicação para o Modelo Relacional:\n",
    "\n",
    "A presença de chaves estrangeiras mútuas cria um relacionamento muitos para muitos entre as relações R1 e R2. Isso significa que:\n",
    "\n",
    "    Um aluno pode estar em várias turmas.\n",
    "    Uma turma pode ter vários alunos.\n",
    "\n",
    "Para representar este relacionamento no Modelo Relacional, é necessário criar uma terceira relação que interligue as duas relações principais."
   ]
  },
  {
   "cell_type": "markdown",
   "id": "8637825d-5f5e-4fe7-8b93-6bdb552eaf75",
   "metadata": {},
   "source": [
    "### Exercício 10) Uma chave é um conjunto de atributos, e o conjunto vazio é um conjunto legítimo. Portanto, é possível definir “chave vazia” como a chave onde o conjunto de atributos é vazio. Quais as implicações dessa definição? Você consegue imaginar alguma aplicação para esse conceito?"
   ]
  },
  {
   "cell_type": "markdown",
   "id": "8aaa9ab6-de59-471e-bffc-19351258900f",
   "metadata": {},
   "source": [
    "Resposta:\n",
    "\n",
    "1) Implicações:\n",
    "\n",
    "    Violação da integridade da entidade: Uma chave vazia não identifica de forma única nenhuma tupla na relação. Isso viola a regra fundamental do Modelo Relacional, que exige que cada tupla seja identificada de forma única por sua chave.\n",
    "\n",
    "    Redundância de dados: Se uma relação possui uma chave vazia, todas as tuplas serão idênticas, pois não há nenhum atributo para diferenciá-las. Isso leva à redundância de dados, pois a mesma informação é armazenada várias vezes.\n",
    "\n",
    "    Dificuldades na manipulação de dados: Operações como seleção, atualização e exclusão de tuplas se tornam complexas e ambíguas na presença de chaves vazias.\n",
    "\n",
    "    Inutilidade prática: Uma chave que não identifica nenhuma tupla é, na prática, inútil.\n",
    "\n",
    "2) Aplicações:\n",
    "\n",
    "    Marcação de tuplas a serem excluídas: Uma chave vazia pode ser usada para marcar tuplas que não são mais necessárias na relação, mas que ainda não foram excluídas por algum motivo.\n",
    "\n",
    "    Armazenamento de informações temporárias: Uma chave vazia pode ser usada para armazenar informações temporárias que não precisam ser identificadas de forma única.\n",
    "\n",
    "\n",
    "\n"
   ]
  },
  {
   "cell_type": "markdown",
   "id": "e82ead8e-47dd-41da-b977-9d5bc4d20df5",
   "metadata": {},
   "source": [
    "### Exercício 11) Porque não faz sentido dizer que uma tabela tem chave?"
   ]
  },
  {
   "cell_type": "markdown",
   "id": "36e5b189-909e-45ba-b41d-8170bcbccb3c",
   "metadata": {},
   "source": [
    "Resposta:\n",
    "\n",
    "Dizer que uma tabela tem uma chave não faz sentido pois a chave está associada às tuplas individuais dentro da tabela, não à tabela como um todo."
   ]
  },
  {
   "cell_type": "markdown",
   "id": "64b05d3e-965b-48ea-abeb-eff300004fe2",
   "metadata": {},
   "source": [
    "### Exercício 12) Explique o que significa um atributo ser indivisível. Dê exemplos que tenham sentido numa aplicação prática, tanto de atributos indivisíveis quanto de atributos divisíveis."
   ]
  },
  {
   "cell_type": "markdown",
   "id": "92f871fe-cf64-432f-9ad5-baf3ecf78642",
   "metadata": {},
   "source": [
    "Resposta:\n",
    "\n",
    "Um atributo é considerado indivisível quando não pode ser decomposto em partes menores que possuam significado por si só. Em outras palavras, um atributo indivisível é uma unidade única que não pode ser subdividida em componentes independentes. Isso significa que o atributo representa uma entidade única e completa em si mesmo.\n",
    "\n",
    "Atributos Indivisíveis:\n",
    "\n",
    "- Número de Telefone: Um número de telefone é considerado um atributo indivisível, pois representa uma unidade única de contato telefônico. Embora um número de telefone possa ter diferentes partes (código de área, número principal, ramal), todas essas partes juntas formam um único número de telefone completo e significativo.\n",
    "- Endereço: O endereço de uma pessoa (rua, cidade, estado, código postal) é geralmente tratado como um atributo indivisível. Embora seja composto de várias partes, todas essas partes juntas formam um único endereço que identifica exclusivamente a localização de uma entidade.\n",
    "\n",
    "Atributos Divisíveis:\n",
    "\n",
    "- Nome Completo: O nome completo de uma pessoa pode ser considerado um atributo divisível, pois pode ser decomposto em partes menores, como primeiro nome e sobrenome. Embora o nome completo seja útil para identificar uma pessoa, suas partes individuais também podem ser usadas para diferentes fins.\n",
    "- Endereço de Email: Embora um endereço de email seja frequentemente tratado como uma unidade única de informação em muitos contextos, ele pode ser decomposto em duas partes principais: o nome de usuário e o domínio.\n"
   ]
  },
  {
   "cell_type": "markdown",
   "id": "d8a5dd85-0a0f-42a1-bfc8-92ecf6abec54",
   "metadata": {},
   "source": [
    "### Exercício 13) Seja $R = {< V_{11}, V_{12}, . . . V_{1n} >, . . . < V_{k1}, V_{k2}, ..., V_{kn} >, . . . < V_{m1}, V_{m2}, ..., V_{mn} >}$ uma relação instanciada a partir do esquema $\\mathbb{R}(A_1, A_2, . . . A_n)$. Explique o que significa:\n",
    "\n",
    "• $t_k(A_i)$\n",
    "\n",
    "• $t_k(A_1, A_2)$\n",
    "\n",
    "• $t_{A1=k}(A_n)$\n",
    "\n",
    "• $|t_{A1=k}|$\n",
    "\n",
    "• $CH_2(\\mathbb{R}_k)$\n",
    "\n",
    "• $Ck_0(\\mathbb{R}_k)$"
   ]
  },
  {
   "cell_type": "markdown",
   "id": "2b2d7fc8-4c35-4b47-b89e-c34500202610",
   "metadata": {},
   "source": [
    "Resposta:\n",
    "\n",
    "- $t_k(A_i)$: Se refere à projeção da relação $\\mathbb{R}$ sobre o atributo $A_i$. Em outras palavras, $t_k(A_i)$ representa um conjunto de valores de $A_i$ para todas as tuplas $t$ em $\\mathbb{R}$.\n",
    "- $t_k(A_1, A_2)$: Se refere à projeção da relação $\\mathbb{R}$ sobre os atributos $A_1$ e $A_2$. $t_k(A_1, A_2)$ representa um conjunto de pares ordenados contendo os valores de $A_1$ e $A_2$para todas as tuplas $t$ em $\\mathbb{R}$.\n",
    "- $t_{A1=k}(A_n)$: Se refere à projeção da relação $\\mathbb{R}$ sobre o atributo $A_n$ restrita às tuplas onde o valor de  $A_1$ é igual a $k$.\n",
    "- $|t_{A1=k}|$: Se refere ao número de tuplas na relação $\\mathbb{R}$ onde o valor de $A_1$ é igual a $k$.\n",
    "- $CH_2(\\mathbb{R}_k)$: (?)\n",
    "- $Ck_0(\\mathbb{R}_k)$: (?)"
   ]
  },
  {
   "cell_type": "markdown",
   "id": "080af6f7-48db-4743-b8cc-985a92534ce0",
   "metadata": {},
   "source": [
    "### Exercício 14) A expressão $C_{k0}(\\mathbb{R}_k) = \\mathbb{R}_k$ tem algum sentido? O que ela implica?"
   ]
  },
  {
   "cell_type": "markdown",
   "id": "2b7911d6-b361-4985-814f-46a4fbeb40f4",
   "metadata": {},
   "source": [
    "Resposta:\n",
    "\n",
    "(?)"
   ]
  },
  {
   "cell_type": "markdown",
   "id": "f7c0b6d2-f736-426a-9fc0-b87c525f637f",
   "metadata": {},
   "source": [
    "### Exercício 15) A definição de chave estrangeira requer que o domínio dos seus atributos seja compatível com o domínio dos atributos da chave primária de uma relação (que pode ser a mesma relação ou outra qualquer). Tem como generalizar essa definição? Que consequência isso tem?"
   ]
  },
  {
   "cell_type": "markdown",
   "id": "ab4d4de1-a9ce-4a2e-9891-2e487f288797",
   "metadata": {},
   "source": [
    "Resposta:\n",
    "\n",
    "(?)"
   ]
  },
  {
   "cell_type": "markdown",
   "id": "20b494a9-b1ca-41eb-9fa1-58bf68ffedc9",
   "metadata": {},
   "source": [
    "### Exercício 16) Uma chave estrangeira pode ter valor nulo em uma dada tupla. Qual seria a consequência de não permitir que chaves estrangeiras tenham valor nulo?"
   ]
  },
  {
   "cell_type": "markdown",
   "id": "f5728258-0b9f-4e94-8fcf-085f7b9d3069",
   "metadata": {},
   "source": [
    "Resposta:\n",
    "\n",
    "Se uma chave estrangeira não pode ter valor nulo em uma dada tupla, isso implica que todas as tuplas que referenciam outra relação devem ter um valor válido para a chave estrangeira. Essa restrição pode ter algumas consequências:\n",
    "\n",
    "- Integridade referencial estrita: A não permissão de valores nulos para chaves estrangeiras garante uma integridade referencial estrita entre as relações. Isso significa que cada tupla em uma relação que faz referência a outra relação deve estar associada a uma tupla válida na relação referenciada. Isso ajuda a garantir que não haja referências órfãs ou inválidas.\n",
    "\n",
    "- Necessidade de dados preenchidos: Os dados devem ser preenchidos corretamente e completamente antes que uma tupla possa ser inserida na tabela que contém a chave estrangeira. Isso pode impor requisitos rigorosos durante a inserção de dados e pode aumentar a complexidade do processo de entrada de dados, especialmente em situações onde nem sempre é possível ter todas as informações disponíveis.\n",
    "\n",
    "- Restrição adicional na atualização e exclusão de dados: A restrição de não permitir valores nulos para chaves estrangeiras também pode impor limitações adicionais na atualização e exclusão de dados. Por exemplo, se uma tupla na tabela referenciada é atualizada ou excluída, as tuplas correspondentes nas tabelas que contêm as chaves estrangeiras devem ser atualizadas ou excluídas também."
   ]
  },
  {
   "cell_type": "markdown",
   "id": "a1823796-a0ac-401e-8434-371f7af54347",
   "metadata": {},
   "source": [
    "### Exercício 17) Porque uma chave candidata pode ter nulo algum atributo que a compõe, e a chave primária não?"
   ]
  },
  {
   "cell_type": "markdown",
   "id": "6b3cd61a-dfca-4c04-8dc2-31784024e5ff",
   "metadata": {},
   "source": [
    "Resposta:\n",
    "\n",
    "Uma chave candidata pode ter valores nulos em seus atributos porque uma chave candidata é simplesmente um conjunto mínimo de atributos que garante a unicidade das tuplas em uma relação, conforme definido pelas regras de normalização. Enquanto a chave candidata for única para cada tupla, ela pode incluir valores nulos, desde que esses valores nulos não resultem em duas tuplas idênticas.\n",
    "\n",
    "Por outro lado, uma chave primária é uma chave candidata selecionada como a chave principal para identificar exclusivamente cada tupla em uma relação. Uma chave primária não pode conter valores nulos, porque a presença de valores nulos em uma chave primária comprometeria a identificação única das tuplas. Se qualquer atributo de uma chave primária permitisse valores nulos, isso significaria que mais de uma tupla poderia ter o mesmo valor nulo nesse atributo, violando assim a unicidade da chave primária."
   ]
  },
  {
   "cell_type": "code",
   "execution_count": null,
   "id": "63666203-85bc-41ae-aa83-8b9fcb3c6f49",
   "metadata": {},
   "outputs": [],
   "source": []
  }
 ],
 "metadata": {
  "kernelspec": {
   "display_name": "Python 3 (ipykernel)",
   "language": "python",
   "name": "python3"
  },
  "language_info": {
   "codemirror_mode": {
    "name": "ipython",
    "version": 3
   },
   "file_extension": ".py",
   "mimetype": "text/x-python",
   "name": "python",
   "nbconvert_exporter": "python",
   "pygments_lexer": "ipython3",
   "version": "3.10.12"
  }
 },
 "nbformat": 4,
 "nbformat_minor": 5
}
