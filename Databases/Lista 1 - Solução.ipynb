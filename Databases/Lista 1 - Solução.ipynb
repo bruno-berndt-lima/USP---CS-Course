{
 "cells": [
  {
   "cell_type": "markdown",
   "id": "5fe4909c-3244-4dd3-be51-e7d8317152cd",
   "metadata": {},
   "source": [
    "#  A História de Bases de Dados"
   ]
  },
  {
   "cell_type": "markdown",
   "id": "a85b1b78-0262-44f7-beed-a3c660d3198b",
   "metadata": {},
   "source": [
    "### Exercício 1) Enumere os cinco eventos mais importantes para o desenvolvimento dos SGBDs desde seu início até que tenha sido aceita a padronização ANSI da linguagem SQL."
   ]
  },
  {
   "cell_type": "markdown",
   "id": "68fbaf71-75f6-4452-8d24-a7fd07a128e5",
   "metadata": {},
   "source": [
    "Resposta:\n",
    "\n",
    "1 - CODASYL - Conceituação de SGBD e modelos de dados. Proposta do Modelo Rede\n",
    "\n",
    "2 - Proposta do Modelo Relacional (1970)\n",
    "\n",
    "3 - Proposta do Modelo Entidade-Relacionamento\n",
    "\n",
    "4 - Desenvolvimento da Linguagem SQL (1970s-1980s)\n",
    "\n",
    "5 - Desenvolvimento do Sistema de Gerenciamento de Banco de Dados Relacional (RDBMS) por IBM, Oracle, Ingres e outros (1970s-1980s)"
   ]
  },
  {
   "cell_type": "markdown",
   "id": "7b7261f0-1846-4f1b-9efb-4481de77726d",
   "metadata": {},
   "source": [
    "###  Exercício 2) Qual é provavelmente o maior motivo da linguagem SQL ser extremamente homogênea, mesmo entre os mais variados fabricantes de SGBD?"
   ]
  },
  {
   "cell_type": "markdown",
   "id": "9256ea17-890a-4b69-8f72-1f452082b700",
   "metadata": {},
   "source": [
    "Resposta:\n",
    "\n",
    "A principal razão pela qual a linguagem SQL é extremamente homogênea, mesmo entre diferentes fabricantes de Sistemas de Gerenciamento de Banco de Dados (SGBD), é o padrão ANSI SQL (American National Standards Institute Structured Query Language). O ANSI SQL é um conjunto de padrões desenvolvidos para garantir a interoperabilidade entre diferentes sistemas de banco de dados, permitindo que as consultas e operações sejam escritas de maneira consistente e portável entre diferentes plataformas.\n",
    "\n",
    "Os fabricantes de SGBDs geralmente implementam o ANSI SQL em seus produtos como uma base padrão, garantindo que as consultas e comandos escritos em SQL funcionem de maneira semelhante, independentemente do SGBD específico sendo utilizado."
   ]
  },
  {
   "cell_type": "markdown",
   "id": "7ad230fb-696d-4165-a2a3-fea6aff8fd1d",
   "metadata": {},
   "source": [
    "### Exercício 3) Explique o que é um “Modelo de Dados”."
   ]
  },
  {
   "cell_type": "markdown",
   "id": "ca35fdfa-0d4c-4637-99d9-56b801611bc8",
   "metadata": {},
   "source": [
    "Resposta:\n",
    "\n",
    "Um modelo de dados é uma representação abstrata e estruturada dos dados que são armazenados em um banco de dados. Ele descreve a estrutura dos dados, as relações entre eles e as restrições que se aplicam aos dados. Em essência, um modelo de dados define como os dados são organizados, armazenados, processados e acessados em um sistema de banco de dados.\n",
    "\n",
    "Existem vários tipos de modelos de dados, cada um adequado para diferentes necessidades de aplicação. Alguns dos modelos de dados mais comuns incluem:\n",
    "\n",
    "- Modelo Hierárquico\n",
    "- Modelo Relacional\n",
    "- Modelo Orientado a Objetos\n",
    "- Modelo de Entidade-Relacionamento (ER)"
   ]
  },
  {
   "cell_type": "markdown",
   "id": "79e33e48-5b11-441f-a343-d66dfe2ff072",
   "metadata": {},
   "source": [
    "### Exercício 4) O que são Modelos de Dados Físicos? E Modelos de Dados Conceituais?"
   ]
  },
  {
   "cell_type": "markdown",
   "id": "a7bc6ed0-5463-485a-b1df-270a175e0aef",
   "metadata": {},
   "source": [
    "Resposta: \n",
    "\n",
    "O modelo de dados físico descreve como os dados são armazenados, organizados e acessados em um nível de detalhe mais baixo. Ele leva em consideração as características específicas do sistema de gerenciamento de banco de dados (SGBD) que será utilizado, como o tipo de armazenamento, índices, estruturas de dados internas e otimizações de desempenho.\n",
    "\n",
    "O modelo de dados conceitual é uma representação de alto nível e independente de implementação dos dados e das relações entre eles. Ele descreve as entidades, seus atributos e os relacionamentos entre as entidades sem se preocupar com os detalhes de como os dados serão armazenados fisicamente ou manipulados pelo sistema de banco de dados.\n",
    "\n",
    "Em resumo, enquanto o modelo de dados conceitual foca na compreensão dos requisitos e na estrutura lógica dos dados, o modelo de dados físico detalha como esses requisitos serão implementados e tratados pelo sistema de banco de dados em nível físico."
   ]
  },
  {
   "cell_type": "markdown",
   "id": "c526d96b-edda-430c-b8cb-234c2fea88a1",
   "metadata": {},
   "source": [
    "### Exercício 5) Quais são os principais Modelos de Dados Físicos existentes? E quais são os Modelos de Dados Conceituais?"
   ]
  },
  {
   "cell_type": "markdown",
   "id": "1d7afb9c-167d-4a6f-9476-cca584f37147",
   "metadata": {},
   "source": [
    "Resposta:\n",
    "\n",
    "1) Principais Modelos de Dados Físicos:\n",
    "\n",
    "- Modelo de Dados Relacional\n",
    "- Modelo de Dados Orientado a Objetos\n",
    "- Modelo de Dados Hierárquico e de Rede\n",
    "\n",
    "2) Principais Modelos de Dados Conceituais:\n",
    "\n",
    "- Modelo de Entidade-Relacionamento (ER)\n",
    "- Modelo de Dados Semânticos"
   ]
  },
  {
   "cell_type": "markdown",
   "id": "77677b04-ef25-44ee-9ba9-e16bd70c855f",
   "metadata": {},
   "source": [
    "### Exercício 6) Quais as principais diferenças entre Modelo Relacional, Modelo Objeto-Relacional e Modelo Orientado a Objetos?"
   ]
  },
  {
   "cell_type": "markdown",
   "id": "ed29ef26-577b-4a93-850c-99dd190b9cb5",
   "metadata": {},
   "source": [
    "Resposta:\n",
    "\n",
    "1) Modelo Relacional:\n",
    "\n",
    "- Estrutura: No modelo relacional, os dados são organizados em tabelas bidimensionais, onde cada linha representa uma tupla (registro) e cada coluna representa um atributo (campo).\n",
    "- Relacionamentos: As relações entre os dados são estabelecidas por meio de chaves primárias e estrangeiras, permitindo a integridade referencial.\n",
    "- Linguagem: A linguagem predominante para manipulação e consulta de dados em um modelo relacional é o SQL (Structured Query Language).\n",
    "\n",
    "2) Modelo Objeto-Relacional\n",
    "\n",
    "- Estrutura: O modelo objeto-relacional combina conceitos do modelo relacional com recursos de orientação a objetos, permitindo que dados complexos sejam armazenados em tabelas relacionais.\n",
    "- Extensões: Além dos tipos de dados tradicionais do modelo relacional (por exemplo, INTEGER, VARCHAR), o modelo objeto-relacional pode incluir tipos de dados mais complexos, como objetos, coleções, herança e métodos.\n",
    "- Flexibilidade: O modelo objeto-relacional oferece maior flexibilidade para representar dados complexos e relacionamentos entre eles do que o modelo relacional tradicional.\n",
    "\n",
    "3) Modelo Orientado a Objetos\n",
    "\n",
    "- Estrutura: No modelo orientado a objetos, os dados são representados como objetos que têm atributos (dados) e métodos (comportamentos) associados a eles.\n",
    "- Encapsulamento: Os dados e os métodos que operam nesses dados são encapsulados em objetos, promovendo a modularidade e a reutilização de código.\n",
    "- Herança: O modelo orientado a objetos suporta o conceito de herança, onde objetos podem herdar características e comportamentos de outros objetos.\n",
    "- Polimorfismo: Os objetos podem responder a mensagens de maneiras diferentes com base em seus tipos, permitindo uma maior flexibilidade e extensibilidade.\n"
   ]
  },
  {
   "cell_type": "markdown",
   "id": "cd5e7c4f-0187-48f3-83d2-aeb36038e707",
   "metadata": {},
   "source": [
    "### Exercício 7) Quais as principais diferenças entre Modelo Hierárquico e Modelo Rede?"
   ]
  },
  {
   "cell_type": "markdown",
   "id": "e2d8cce6-9c5b-47da-811f-74d07ab618dd",
   "metadata": {},
   "source": [
    "Resposta:\n",
    "\n",
    "1) Organização dos Dados:\n",
    "\n",
    "- Modelo Hierárquico: No modelo hierárquico, os dados são organizados em uma estrutura hierárquica de árvore, onde cada registro (ou nó) pode ter apenas um pai, exceto o nó raiz, que não tem pai. Isso implica que um registro pode ter múltiplos filhos, mas cada filho só pode ter um pai.\n",
    "- Modelo de Rede: No modelo de rede, os dados são organizados em uma estrutura de grafo, onde cada registro (ou nó) pode ter múltiplos pais e múltiplos filhos. Isso permite uma maior flexibilidade na modelagem de relacionamentos complexos entre os dados.\n",
    "\n",
    "2) Relacionamentos:\n",
    "\n",
    "- Modelo Hierárquico: Os relacionamentos são representados por meio de ligações pai-filho, onde cada nó filho está diretamente relacionado ao seu nó pai imediato. Isso implica uma navegação unidirecional dos dados, onde é fácil acessar os filhos de um nó, mas pode ser difícil acessar os irmãos de um nó.\n",
    "- Modelo de Rede: Os relacionamentos são representados por meio de ligações entre os nós, onde cada nó pode estar conectado a múltiplos nós pais e múltiplos nós filhos. Isso permite uma navegação mais flexível dos dados, onde é possível acessar qualquer nó a partir de qualquer outro nó, facilitando a expressão de relacionamentos complexos.\n",
    "\n",
    "3) Flexibilidade:\n",
    "\n",
    "- Modelo Hierárquico: O modelo hierárquico é menos flexível em termos de representar relacionamentos complexos entre os dados, uma vez que impõe uma estrutura hierárquica rígida.\n",
    "- Modelo de Rede: O modelo de rede é mais flexível em termos de representar relacionamentos complexos entre os dados, uma vez que permite múltiplos pais e filhos para cada nó, possibilitando a expressão de estruturas de dados mais complexas.\n",
    "\n",
    "4) Utilização\n",
    "\n",
    "- Modelo Hierárquico: O modelo hierárquico era popular em sistemas de banco de dados mais antigos, especialmente para aplicações como sistemas de arquivos e sistemas de informações de processamento de transações.\n",
    "- Modelo de Rede: O modelo de rede foi desenvolvido como uma extensão do modelo hierárquico para lidar com relacionamentos mais complexos, sendo utilizado em sistemas de banco de dados que requerem uma modelagem de dados mais flexível e poderosa."
   ]
  },
  {
   "cell_type": "markdown",
   "id": "5d49d204-851e-4da7-842e-9287af4e8c5a",
   "metadata": {},
   "source": [
    "### Exercício 8) Considere que uma empresa de desenvolvimento de software precisa atender aos cenários seguintes. Para cada cenário responda:\n",
    "\n",
    "• Qual o SBGD que você escolheria? Porque?\n",
    "\n",
    "• Quais outras opções também seriam adequadas?\n",
    "\n",
    "• Quais opções seriam escolhas ruins? Porque?\n",
    "\n",
    "1. Criar um micro-blog para auxiliar a gerir condomínio de prédios de uma empresa de serviços de\n",
    "administração de condomínios.\n",
    "\n",
    "2. Administrar os contratos de gerência em uma empresa de serviços de administração de condomínios."
   ]
  },
  {
   "cell_type": "markdown",
   "id": "a87e18ec-4b62-40f0-8377-ce38a6c214ad",
   "metadata": {},
   "source": [
    "Resposta:\n",
    "\n",
    "1) Criar um micro-blog para auxiliar a gerir condomínio de prédios de uma empresa de serviços de administração de condomínios:\n",
    "\n",
    "    Escolha: PostgreSQL.\n",
    "\n",
    "    Porquê: PostgreSQL oferece suporte para transações ACID (Atomicidade, Consistência, Isolamento, Durabilidade), escalabilidade e recursos avançados de consulta, adequados para um sistema de gestão de dados de tamanho médio a grande.\n",
    "    \n",
    "    Outras opções: MySQL, Microsoft SQL Server.\n",
    "    \n",
    "    Escolhas ruins: SGBDs embarcados ou inadequados para ambientes de produção de alto tráfego, como SQLite.\n",
    "\n",
    "2) Administrar os contratos de gerência em uma empresa de serviços de administração de condomínios:\n",
    "\n",
    "    Escolha: Oracle Database.\n",
    "    \n",
    "    Porquê: Oracle Database é uma escolha comum para ambientes empresariais devido à sua escalabilidade, segurança e recursos avançados de gerenciamento de dados.\n",
    "    \n",
    "    Outras opções: PostgreSQL, Microsoft SQL Server.\n",
    "    \n",
    "    Escolhas ruins: SGBDs de código aberto que podem não fornecer suporte ou atualizações adequadas para ambientes críticos de produção."
   ]
  },
  {
   "cell_type": "markdown",
   "id": "c0dc54ce-39e2-4831-9dc0-b23f66e7e770",
   "metadata": {},
   "source": [
    "### Exercício 9) Descreva três aplicações recentes em que a tecnologia de Bases de Dados ainda está em evolução para poder atender."
   ]
  },
  {
   "cell_type": "markdown",
   "id": "d52106ee-2e30-438c-9168-c3f9cf32c61c",
   "metadata": {},
   "source": [
    "Resposta: \n",
    "\n",
    "1) Big Data e Análise de Dados Avançada:\n",
    "\n",
    "Com o crescimento exponencial no volume, variedade e velocidade dos dados gerados hoje em dia, os sistemas de bancos de dados estão continuamente evoluindo para lidar com o fenômeno do Big Data. Isso inclui o desenvolvimento de tecnologias de armazenamento distribuído, como Hadoop Distributed File System (HDFS) e sistemas de processamento de dados em massa, como Apache Spark.\n",
    "Além disso, a análise de dados avançada está impulsionando a evolução dos bancos de dados para suportar consultas complexas, processamento de dados em tempo real e integração com tecnologias de inteligência artificial e aprendizado de máquina.\n",
    "\n",
    "2) Bancos de Dados de Grafos:\n",
    "\n",
    "Os bancos de dados de grafos estão se tornando cada vez mais importantes para aplicações que requerem modelagem e análise de redes complexas e interconexões entre os dados. Esses bancos de dados são projetados para armazenar e consultar dados na forma de grafos, com nós representando entidades e arestas representando os relacionamentos entre elas.\n",
    "A evolução nessa área inclui o desenvolvimento de sistemas de gerenciamento de bancos de dados de grafos otimizados para consultas e análises de grafos em larga escala, bem como a integração com outras tecnologias de banco de dados para suportar casos de uso híbridos.\n",
    "\n",
    "3) Bancos de Dados Quânticos:\n",
    "\n",
    "Embora ainda em estágios iniciais de pesquisa e desenvolvimento, os bancos de dados quânticos representam uma área emocionante de evolução na tecnologia de bancos de dados. Esses sistemas são projetados para aproveitar os princípios da mecânica quântica para armazenar e processar informações de forma altamente eficiente.\n",
    "A pesquisa em bancos de dados quânticos está explorando maneiras de aproveitar os fenômenos quânticos, como superposição e emaranhamento, para realizar cálculos e consultas de dados de maneira mais rápida e eficiente do que é possível com tecnologias tradicionais de banco de dados."
   ]
  },
  {
   "cell_type": "markdown",
   "id": "42ad2585-3afc-4b76-a22b-2fc35f63ca63",
   "metadata": {},
   "source": [
    "### Exercício 10) Na literatura proposta, procure se informar sobre o que é:\n",
    "• Base de Dados Geográficos?\n",
    "\n",
    "• Especificação Codasyl?\n",
    "\n",
    "• OLTP, OLAP, Data warehousing, Data Mining?\n",
    "\n",
    "• Dado semi-estruturado?\n",
    "\n",
    "• IMS (Information Management System), MUMPS, Sabre, RAMAC?\n",
    "\n",
    "• Repositório No-SQL? Quais os principais modelos de dados que eles tratam?\n",
    "\n",
    "• Engenharia de Dados, Ciência de Dados, Big Data?"
   ]
  },
  {
   "cell_type": "markdown",
   "id": "3dfc0629-7755-41ba-bf4f-a9d69657011f",
   "metadata": {},
   "source": [
    "Resposta:\n",
    "\n",
    "1) Base de Dados Geográficos:\n",
    "\n",
    "Uma base de dados geográficos é um tipo de banco de dados projetado para armazenar e gerenciar informações geográficas e espaciais. Ele permite armazenar dados que estão associados a localizações geográficas específicas, como mapas, endereços, coordenadas GPS e informações sobre recursos naturais, infraestrutura urbana, entre outros. Esses bancos de dados são amplamente utilizados em aplicações de geoprocessamento, SIG (Sistemas de Informações Geográficas), navegação GPS, planejamento urbano, gestão de recursos naturais e muitos outros campos.\n",
    "\n",
    "2) Especificação Codasyl:\n",
    "\n",
    "A especificação CODASYL (Committee on Data Systems Languages) é uma especificação de modelo de dados para bancos de dados hierárquicos e de rede. Desenvolvida no final dos anos 1960 pelo Comitê CODASYL, essa especificação definiu um padrão para estruturar e acessar dados em sistemas de banco de dados hierárquicos e de rede. O modelo CODASYL foi amplamente utilizado em sistemas de banco de dados comerciais durante as décadas de 1970 e 1980.\n",
    "\n",
    "3) OLTP, OLAP, Data warehousing, Data Mining:\n",
    "\n",
    "- OLTP (Online Transaction Processing): Refere-se a sistemas de banco de dados otimizados para processamento de transações em tempo real, como inserções, atualizações e exclusões de dados. Esses sistemas são projetados para fornecer alta disponibilidade, concorrência de transações e consistência dos dados.\n",
    "\n",
    "- OLAP (Online Analytical Processing): Refere-se a sistemas de banco de dados otimizados para análise de dados multidimensionais. Eles são usados para consultar e analisar grandes volumes de dados de maneira rápida e eficiente, geralmente em ambientes de data warehousing.\n",
    "\n",
    "- Data Warehousing: Refere-se ao processo de coleta, integração e armazenamento de grandes volumes de dados de várias fontes para suportar análise de negócios e tomada de decisões. Um data warehouse é um repositório centralizado de dados que é otimizado para consultas analíticas e relatórios.\n",
    "\n",
    "- Data Mining: Refere-se ao processo de descoberta de padrões, tendências e informações úteis em grandes conjuntos de dados. O data mining usa técnicas estatísticas, de aprendizado de máquina e de inteligência artificial para identificar relações e insights nos dados que podem ser usados para tomar decisões informadas e prever comportamentos futuros.\n",
    "\n",
    "4) Dado semi-estruturado:\n",
    "\n",
    "Dado semi-estruturado é um tipo de dado que não se encaixa perfeitamente em um modelo de dados tradicionalmente estruturado, como um banco de dados relacional, mas também não é totalmente não estruturado. Exemplos incluem dados em formato JSON, XML ou YAML, onde a estrutura dos dados pode variar de uma instância para outra.\n",
    "\n",
    "5) IMS (Information Management System), MUMPS, Sabre, RAMAC:\n",
    "\n",
    "- IMS (Information Management System): Desenvolvido pela IBM, o IMS é um sistema de gerenciamento de banco de dados hierárquico que foi amplamente utilizado em sistemas de processamento de transações e aplicativos de processamento de dados em lote. Foi um dos primeiros sistemas de gerenciamento de banco de dados comerciais e continua sendo utilizado em algumas organizações até hoje.\n",
    "\n",
    "- MUMPS (Massachusetts General Hospital Utility Multi-Programming System): MUMPS é uma linguagem de programação e um sistema de gerenciamento de banco de dados desenvolvido originalmente para aplicativos de assistência médica, mas posteriormente utilizado em uma variedade de outras aplicações. É conhecido por sua eficiência e velocidade de processamento, especialmente em ambientes de saúde.\n",
    "\n",
    "- Sabre: Sabre é um sistema de gerenciamento de banco de dados desenvolvido pela IBM na década de 1960 para aplicações de reserva de viagens, como companhias aéreas e hotéis. É um dos primeiros sistemas de gerenciamento de banco de dados em tempo real e foi fundamental para a automação da indústria de viagens.\n",
    "\n",
    "- RAMAC (Random Access Method of Accounting and Control): RAMAC foi o primeiro sistema de armazenamento de dados em disco magnético desenvolvido pela IBM em 1956. Ele marcou um avanço significativo em relação aos sistemas de armazenamento de dados baseados em fita, permitindo acesso aleatório rápido aos dados armazenados em discos magnéticos.\n",
    "\n",
    "6) Repositório NoSQL:\n",
    "\n",
    "Um repositório NoSQL é um sistema de gerenciamento de banco de dados que não segue o modelo relacional tradicional. NoSQL significa \"Not Only SQL\" e inclui uma variedade de modelos de dados, como documentos, grafos, colunas e chave-valor. Esses sistemas são projetados para escalabilidade, flexibilidade e desempenho em casos de uso onde os modelos de dados tradicionais podem ser limitantes.\n",
    "Principais modelos de dados tratados por repositórios NoSQL incluem:\n",
    "\n",
    "    Documentos (por exemplo, MongoDB, Couchbase)\n",
    "    Grafos (por exemplo, Neo4j, Amazon Neptune)\n",
    "    Colunas (por exemplo, Apache Cassandra, Apache HBase)\n",
    "    Chave-valor (por exemplo, Redis, Apache Cassandra)\n",
    "\n",
    "7) Engenharia de Dados, Ciência de Dados, Big Data:\n",
    "\n",
    "- Engenharia de Dados: Refere-se ao processo de coleta, preparação, transformação e análise de dados para criar pipelines de dados robustos e confiáveis que suportem análises e aplicações de negócios. Envolve habilidades em bancos de dados, programação, computação distribuída e outras tecnologias de dados.\n",
    "- Ciência de Dados: Refere-se ao campo interdisciplinar que combina métodos científicos, algoritmos e sistemas de informação para extrair conhecimento e insights de grandes volumes de dados. Envolve habilidades em estatística, aprendizado de máquina, visualização de dados e interpretação de resultados.\n",
    "- Big Data: Refere-se ao conjunto de tecnologias e técnicas utilizadas para lidar com grandes volumes de dados, bem como aos próprios dados em grande escala. Envolve o processamento, armazenamento, análise e visualização de dados que excedem as capacidades dos sistemas de banco de dados tradicionais."
   ]
  },
  {
   "cell_type": "markdown",
   "id": "552f0023-97d1-49d0-b03b-93c8a63e9a05",
   "metadata": {},
   "source": [
    "### Exercício 11) Qual o padrão ISO SQL atual? Quais as principais diferenças em relação à versão anterior ao padrão?"
   ]
  },
  {
   "cell_type": "markdown",
   "id": "3e3597d2-be05-4299-94e8-39cb548df232",
   "metadata": {},
   "source": [
    "Resposta:\n",
    "\n",
    "O padrão ISO SQL atual é o SQL:2016, que é a versão mais recente do padrão SQL definido pela ISO (Organização Internacional para Padronização). Esta versão foi publicada em 2016 e representa a evolução do padrão SQL em relação às versões anteriores.\n",
    "\n",
    "Principais diferenças em relação à versão anterior (SQL:2011) incluem:\n",
    "\n",
    "- Novos recursos e funcionalidades: O SQL:2016 introduziu vários novos recursos e funcionalidades para melhorar a expressividade da linguagem SQL e facilitar tarefas de desenvolvimento de aplicativos de banco de dados. Isso inclui suporte para JSON, para expressões regulares, para tabelas temporárias nomeadas e outras melhorias.\n",
    "\n",
    "- Melhorias na análise de dados: Foram adicionados recursos para suportar operações de análise de dados mais avançadas, como funções de janela e operações de classificação estendidas. Isso permite que os desenvolvedores realizem consultas mais complexas e avançadas sobre conjuntos de dados.\n",
    "\n",
    "- Suporte a JSON: Uma das maiores adições ao SQL:2016 foi o suporte oficial para manipulação de dados JSON. Isso permite armazenar, consultar e manipular dados no formato JSON diretamente no banco de dados usando SQL.\n",
    "\n",
    "- Melhorias de desempenho: O SQL:2016 inclui otimizações e melhorias de desempenho para consultas SQL, garantindo que as consultas sejam executadas de forma mais eficiente e rápida.\n",
    "\n",
    "- Padronização de recursos emergentes: O SQL:2016 buscou padronizar recursos emergentes que já eram amplamente utilizados em sistemas de banco de dados, como expressões regulares e funções de janela. Isso garante uma maior interoperabilidade entre diferentes sistemas de banco de dados SQL.\n",
    "\n"
   ]
  },
  {
   "cell_type": "markdown",
   "id": "821aa58a-53cc-4e20-9fc2-29b8a0cba232",
   "metadata": {},
   "source": [
    "### Exercício 12) O que significa Big data?\n",
    "• Quais são os principais desafios que isso apresenta para os produtos relacionais?\n",
    "\n",
    "• Quais são os principais modelos de dados que sendo estudados para suportar aplicações que\n",
    "precisam de muitos dados?\n",
    "\n",
    "• Quais produtos atuais são voltados para cada um desses tipos de dados?"
   ]
  },
  {
   "cell_type": "markdown",
   "id": "108c6e0b-1a76-47b9-aa78-1aece9994de8",
   "metadata": {},
   "source": [
    "Resposta:\n",
    "\n",
    "Big Data é um termo que se refere a conjuntos de dados extremamente grandes e complexos que não podem ser facilmente processados ou gerenciados com ferramentas de processamento de dados tradicionais. Esses conjuntos de dados são caracterizados pelos \"três Vs\": volume (grande quantidade de dados), variedade (diferentes tipos de dados estruturados e não estruturados) e velocidade (alta taxa de geração e/ou processamento dos dados).\n",
    "\n",
    "1) Principais desafios que o Big Data apresenta para os produtos relacionais incluem:\n",
    "\n",
    "    Escalabilidade: Bancos de dados relacionais tradicionais podem enfrentar dificuldades para escalar e lidar com grandes volumes de dados de forma eficiente.\n",
    "   \n",
    "    Modelagem de Dados: Modelos de dados relacionais podem não ser ideais para lidar com variedade e complexidade dos dados não estruturados presentes em conjuntos de Big Data.\n",
    "   \n",
    "    Velocidade de Processamento: Bancos de dados relacionais podem não ser otimizados para processar dados em tempo real ou em alta velocidade.\n",
    "\n",
    "3) Principais modelos de dados que estão sendo estudados para suportar aplicações que precisam lidar com Big Data incluem:\n",
    "\n",
    "    Modelos de Dados NoSQL: NoSQL (Not Only SQL) é um termo genérico que abrange vários tipos de sistemas de gerenciamento de bancos de dados que não seguem o modelo relacional tradicional. Isso inclui modelos de documentos, de colunas, de chave-valor e de grafos. Esses modelos são projetados para oferecer escalabilidade, flexibilidade e desempenho em cenários de Big Data.\n",
    "    \n",
    "    Modelos de Dados de Grafos: Bancos de dados de grafos são especialmente adequados para lidar com dados altamente conectados e complexos, como redes sociais, redes de transporte e redes de computadores.\n",
    "    \n",
    "    Modelos de Dados de Séries Temporais: Com o aumento da geração de dados em tempo real, modelos de dados de séries temporais estão se tornando cada vez mais importantes. Eles são projetados para armazenar e analisar dados que mudam ao longo do tempo, como dados de sensores, registros de transações financeiras e registros de eventos de sistemas.\n",
    "\n",
    "3) Alguns produtos atuais voltados para cada tipo de dado incluem:\n",
    "\n",
    "    NoSQL: MongoDB, Cassandra, Redis, Couchbase.\n",
    "    \n",
    "    Bancos de Dados de Grafos: Neo4j, Amazon Neptune, TigerGraph.\n",
    "    \n",
    "    Bancos de Dados de Séries Temporais: InfluxDB, TimescaleDB, OpenTSDB."
   ]
  }
 ],
 "metadata": {
  "kernelspec": {
   "display_name": "Python 3 (ipykernel)",
   "language": "python",
   "name": "python3"
  },
  "language_info": {
   "codemirror_mode": {
    "name": "ipython",
    "version": 3
   },
   "file_extension": ".py",
   "mimetype": "text/x-python",
   "name": "python",
   "nbconvert_exporter": "python",
   "pygments_lexer": "ipython3",
   "version": "3.10.12"
  }
 },
 "nbformat": 4,
 "nbformat_minor": 5
}
